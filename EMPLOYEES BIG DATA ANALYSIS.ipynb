{
 "cells": [
  {
   "cell_type": "code",
   "execution_count": 1,
   "id": "77027e72-d572-4d4b-ac3e-7f52c40213b1",
   "metadata": {},
   "outputs": [],
   "source": [
    "from pyspark.sql import SparkSession\n",
    "\n",
    "app = SparkSession.builder \\\n",
    "    .appName(\"EMPLOYEES DATA ANALYSIS\") \\\n",
    "    .config(\"spark.jars\", \"/path/to/mysql-connector-java-8.0.33.jar\") \\\n",
    "    .getOrCreate()\n"
   ]
  },
  {
   "cell_type": "code",
   "execution_count": 2,
   "id": "13754c9f-c627-41a8-9468-0a4b939fd7c7",
   "metadata": {},
   "outputs": [],
   "source": [
    "import pandas as pd\n",
    "import matplotlib.pyplot as plt\n",
    "%matplotlib inline"
   ]
  },
  {
   "cell_type": "code",
   "execution_count": 3,
   "id": "c786fcb2-075d-4689-93cc-fe46c5341008",
   "metadata": {},
   "outputs": [],
   "source": [
    "import plotly.express as px"
   ]
  },
  {
   "cell_type": "code",
   "execution_count": 40,
   "id": "cda58310-9bea-47b0-928c-c9d32f1c41e4",
   "metadata": {},
   "outputs": [],
   "source": [
    "from plotly.subplots import make_subplots"
   ]
  },
  {
   "cell_type": "code",
   "execution_count": 42,
   "id": "9d107dd2-0095-4966-b7c0-8710daeff80c",
   "metadata": {},
   "outputs": [],
   "source": [
    "import plotly.graph_objects as go"
   ]
  },
  {
   "cell_type": "code",
   "execution_count": 4,
   "id": "3b92be65-44a8-4948-b035-87c39e38263f",
   "metadata": {},
   "outputs": [],
   "source": [
    "host_name = \"localhost\"\n",
    "port_number = 3306\n",
    "database_name = \"employees\"\n",
    "url = f\"jdbc:mysql://{host_name}:{port_number}/{database_name}\""
   ]
  },
  {
   "cell_type": "code",
   "execution_count": 5,
   "id": "4882a20b-bf35-4309-8bca-ef1c3fad253d",
   "metadata": {},
   "outputs": [],
   "source": [
    "connection_properties = {\n",
    "\n",
    "    \"user\":\"root\",\n",
    "    \"password\":\"easwari\",\n",
    "    \"driver\":\"com.mysql.cj.jdbc.Driver\"\n",
    "}"
   ]
  },
  {
   "cell_type": "code",
   "execution_count": 6,
   "id": "d7938173-b56a-4ba1-8a38-ad6580b3d170",
   "metadata": {},
   "outputs": [],
   "source": [
    "table1 = \"employees\""
   ]
  },
  {
   "cell_type": "code",
   "execution_count": 7,
   "id": "897f36f5-c077-485d-bf99-9c99c5fa46f3",
   "metadata": {},
   "outputs": [
    {
     "name": "stdout",
     "output_type": "stream",
     "text": [
      "+------+----------+----------+-----------+------+----------+\n",
      "|emp_no|birth_date|first_name|  last_name|gender| hire_date|\n",
      "+------+----------+----------+-----------+------+----------+\n",
      "| 10001|1953-09-02|    Georgi|    Facello|     M|1986-06-26|\n",
      "| 10002|1964-06-02|   Bezalel|     Simmel|     F|1985-11-21|\n",
      "| 10003|1959-12-03|     Parto|    Bamford|     M|1986-08-28|\n",
      "| 10004|1954-05-01| Chirstian|    Koblick|     M|1986-12-01|\n",
      "| 10005|1955-01-21|   Kyoichi|   Maliniak|     M|1989-09-12|\n",
      "| 10006|1953-04-20|    Anneke|    Preusig|     F|1989-06-02|\n",
      "| 10007|1957-05-23|   Tzvetan|  Zielinski|     F|1989-02-10|\n",
      "| 10008|1958-02-19|    Saniya|   Kalloufi|     M|1994-09-15|\n",
      "| 10009|1952-04-19|    Sumant|       Peac|     F|1985-02-18|\n",
      "| 10010|1963-06-01| Duangkaew|   Piveteau|     F|1989-08-24|\n",
      "| 10011|1953-11-07|      Mary|      Sluis|     F|1990-01-22|\n",
      "| 10012|1960-10-04|  Patricio|  Bridgland|     M|1992-12-18|\n",
      "| 10013|1963-06-07| Eberhardt|     Terkki|     M|1985-10-20|\n",
      "| 10014|1956-02-12|     Berni|      Genin|     M|1987-03-11|\n",
      "| 10015|1959-08-19|  Guoxiang|  Nooteboom|     M|1987-07-02|\n",
      "| 10016|1961-05-02|  Kazuhito|Cappelletti|     M|1995-01-27|\n",
      "| 10017|1958-07-06| Cristinel|  Bouloucos|     F|1993-08-03|\n",
      "| 10018|1954-06-19|  Kazuhide|       Peha|     F|1987-04-03|\n",
      "| 10019|1953-01-23|   Lillian|    Haddadi|     M|1999-04-30|\n",
      "| 10020|1952-12-24|    Mayuko|    Warwick|     M|1991-01-26|\n",
      "+------+----------+----------+-----------+------+----------+\n",
      "only showing top 20 rows\n",
      "\n"
     ]
    }
   ],
   "source": [
    "try:\n",
    "    employees_df = app.read.jdbc(url=url, table=table1, properties=connection_properties)\n",
    "    employees_df.show()\n",
    "except Exception as e:\n",
    "    print(f\"error as {e}\")"
   ]
  },
  {
   "cell_type": "code",
   "execution_count": 8,
   "id": "b16cb47b-fea4-4f66-b9db-67148a745c1c",
   "metadata": {},
   "outputs": [],
   "source": [
    "table2 = \"departments\""
   ]
  },
  {
   "cell_type": "code",
   "execution_count": 9,
   "id": "c266655a-3e2e-45f5-8cf6-c97e0db8853f",
   "metadata": {},
   "outputs": [
    {
     "name": "stdout",
     "output_type": "stream",
     "text": [
      "+-------+------------------+\n",
      "|dept_no|         dept_name|\n",
      "+-------+------------------+\n",
      "|   d009|  Customer Service|\n",
      "|   d005|       Development|\n",
      "|   d002|           Finance|\n",
      "|   d003|   Human Resources|\n",
      "|   d001|         Marketing|\n",
      "|   d004|        Production|\n",
      "|   d006|Quality Management|\n",
      "|   d008|          Research|\n",
      "|   d007|             Sales|\n",
      "+-------+------------------+\n",
      "\n"
     ]
    }
   ],
   "source": [
    "try:\n",
    "    dept_df = app.read.jdbc(url=url, table=table2, properties=connection_properties)\n",
    "    dept_df.show()\n",
    "except Error as e:\n",
    "    print(f\"error is: {e}\")"
   ]
  },
  {
   "cell_type": "code",
   "execution_count": 10,
   "id": "8f300fef-ccab-4e87-8045-c73171f3648b",
   "metadata": {},
   "outputs": [
    {
     "name": "stdout",
     "output_type": "stream",
     "text": [
      "+------+-------+----------+----------+\n",
      "|emp_no|dept_no| from_date|   to_date|\n",
      "+------+-------+----------+----------+\n",
      "| 10001|   d005|1986-06-26|9999-01-01|\n",
      "| 10002|   d007|1996-08-03|9999-01-01|\n",
      "| 10003|   d004|1995-12-03|9999-01-01|\n",
      "| 10004|   d004|1986-12-01|9999-01-01|\n",
      "| 10005|   d003|1989-09-12|9999-01-01|\n",
      "| 10006|   d005|1990-08-05|9999-01-01|\n",
      "| 10007|   d008|1989-02-10|9999-01-01|\n",
      "| 10008|   d005|1998-03-11|2000-07-31|\n",
      "| 10009|   d006|1985-02-18|9999-01-01|\n",
      "| 10010|   d004|1996-11-24|2000-06-26|\n",
      "| 10010|   d006|2000-06-26|9999-01-01|\n",
      "| 10011|   d009|1990-01-22|1996-11-09|\n",
      "| 10012|   d005|1992-12-18|9999-01-01|\n",
      "| 10013|   d003|1985-10-20|9999-01-01|\n",
      "| 10014|   d005|1993-12-29|9999-01-01|\n",
      "| 10015|   d008|1992-09-19|1993-08-22|\n",
      "| 10016|   d007|1998-02-11|9999-01-01|\n",
      "| 10017|   d001|1993-08-03|9999-01-01|\n",
      "| 10018|   d004|1992-07-29|9999-01-01|\n",
      "| 10018|   d005|1987-04-03|1992-07-29|\n",
      "+------+-------+----------+----------+\n",
      "only showing top 20 rows\n",
      "\n"
     ]
    }
   ],
   "source": [
    "table3 = \"dept_emp\"\n",
    "try:\n",
    "    deptemp_df = app.read.jdbc(url=url, table=table3, properties=connection_properties)\n",
    "    deptemp_df.show()\n",
    "except Error as e:\n",
    "    print(f\"error is: {e}\")"
   ]
  },
  {
   "cell_type": "code",
   "execution_count": 11,
   "id": "a2062087-d737-411f-9fb0-7ab5ed709b3c",
   "metadata": {},
   "outputs": [
    {
     "name": "stdout",
     "output_type": "stream",
     "text": [
      "+------+------+----------+----------+\n",
      "|emp_no|salary| from_date|   to_date|\n",
      "+------+------+----------+----------+\n",
      "| 10001| 60117|1986-06-26|1987-06-26|\n",
      "| 10001| 62102|1987-06-26|1988-06-25|\n",
      "| 10001| 66074|1988-06-25|1989-06-25|\n",
      "| 10001| 66596|1989-06-25|1990-06-25|\n",
      "| 10001| 66961|1990-06-25|1991-06-25|\n",
      "| 10001| 71046|1991-06-25|1992-06-24|\n",
      "| 10001| 74333|1992-06-24|1993-06-24|\n",
      "| 10001| 75286|1993-06-24|1994-06-24|\n",
      "| 10001| 75994|1994-06-24|1995-06-24|\n",
      "| 10001| 76884|1995-06-24|1996-06-23|\n",
      "| 10001| 80013|1996-06-23|1997-06-23|\n",
      "| 10001| 81025|1997-06-23|1998-06-23|\n",
      "| 10001| 81097|1998-06-23|1999-06-23|\n",
      "| 10001| 84917|1999-06-23|2000-06-22|\n",
      "| 10001| 85112|2000-06-22|2001-06-22|\n",
      "| 10001| 85097|2001-06-22|2002-06-22|\n",
      "| 10001| 88958|2002-06-22|9999-01-01|\n",
      "| 10002| 65828|1996-08-03|1997-08-03|\n",
      "| 10002| 65909|1997-08-03|1998-08-03|\n",
      "| 10002| 67534|1998-08-03|1999-08-03|\n",
      "+------+------+----------+----------+\n",
      "only showing top 20 rows\n",
      "\n"
     ]
    }
   ],
   "source": [
    "table4 = \"salaries\"\n",
    "try:\n",
    "    salaries_df = app.read.jdbc(url=url, table=table4, properties=connection_properties)\n",
    "    salaries_df.show()\n",
    "except Error as e:\n",
    "    print(f\"error is: {e}\")"
   ]
  },
  {
   "cell_type": "code",
   "execution_count": 102,
   "id": "ce8f052f-3f24-462b-be4c-ae5a515f98b9",
   "metadata": {},
   "outputs": [
    {
     "name": "stdout",
     "output_type": "stream",
     "text": [
      "+------+-------+----------+----------+\n",
      "|emp_no|dept_no| from_date|   to_date|\n",
      "+------+-------+----------+----------+\n",
      "|110022|   d001|1985-01-01|1991-10-01|\n",
      "|110039|   d001|1991-10-01|9999-01-01|\n",
      "|110085|   d002|1985-01-01|1989-12-17|\n",
      "|110114|   d002|1989-12-17|9999-01-01|\n",
      "|110183|   d003|1985-01-01|1992-03-21|\n",
      "|110228|   d003|1992-03-21|9999-01-01|\n",
      "|110303|   d004|1985-01-01|1988-09-09|\n",
      "|110344|   d004|1988-09-09|1992-08-02|\n",
      "|110386|   d004|1992-08-02|1996-08-30|\n",
      "|110420|   d004|1996-08-30|9999-01-01|\n",
      "|110511|   d005|1985-01-01|1992-04-25|\n",
      "|110567|   d005|1992-04-25|9999-01-01|\n",
      "|110725|   d006|1985-01-01|1989-05-06|\n",
      "|110765|   d006|1989-05-06|1991-09-12|\n",
      "|110800|   d006|1991-09-12|1994-06-28|\n",
      "|110854|   d006|1994-06-28|9999-01-01|\n",
      "|111035|   d007|1985-01-01|1991-03-07|\n",
      "|111133|   d007|1991-03-07|9999-01-01|\n",
      "|111400|   d008|1985-01-01|1991-04-08|\n",
      "|111534|   d008|1991-04-08|9999-01-01|\n",
      "+------+-------+----------+----------+\n",
      "only showing top 20 rows\n",
      "\n"
     ]
    }
   ],
   "source": [
    "table5 = \"dept_manager\"\n",
    "try:\n",
    "    dept_manager_df = app.read.jdbc(url=url, table=table5, properties=connection_properties)\n",
    "    dept_manager_df.show()\n",
    "except Error as e:\n",
    "    print(f\"error is: {e}\")"
   ]
  },
  {
   "cell_type": "code",
   "execution_count": 101,
   "id": "d940fa24-77f8-49c7-a99b-b194429382bf",
   "metadata": {},
   "outputs": [
    {
     "name": "stdout",
     "output_type": "stream",
     "text": [
      "+------+------------------+----------+----------+\n",
      "|emp_no|             title| from_date|   to_date|\n",
      "+------+------------------+----------+----------+\n",
      "| 10001|   Senior Engineer|1986-06-26|9999-01-01|\n",
      "| 10002|             Staff|1996-08-03|9999-01-01|\n",
      "| 10003|   Senior Engineer|1995-12-03|9999-01-01|\n",
      "| 10004|          Engineer|1986-12-01|1995-12-01|\n",
      "| 10004|   Senior Engineer|1995-12-01|9999-01-01|\n",
      "| 10005|      Senior Staff|1996-09-12|9999-01-01|\n",
      "| 10005|             Staff|1989-09-12|1996-09-12|\n",
      "| 10006|   Senior Engineer|1990-08-05|9999-01-01|\n",
      "| 10007|      Senior Staff|1996-02-11|9999-01-01|\n",
      "| 10007|             Staff|1989-02-10|1996-02-11|\n",
      "| 10008|Assistant Engineer|1998-03-11|2000-07-31|\n",
      "| 10009|Assistant Engineer|1985-02-18|1990-02-18|\n",
      "| 10009|          Engineer|1990-02-18|1995-02-18|\n",
      "| 10009|   Senior Engineer|1995-02-18|9999-01-01|\n",
      "| 10010|          Engineer|1996-11-24|9999-01-01|\n",
      "| 10011|             Staff|1990-01-22|1996-11-09|\n",
      "| 10012|          Engineer|1992-12-18|2000-12-18|\n",
      "| 10012|   Senior Engineer|2000-12-18|9999-01-01|\n",
      "| 10013|      Senior Staff|1985-10-20|9999-01-01|\n",
      "| 10014|          Engineer|1993-12-29|9999-01-01|\n",
      "+------+------------------+----------+----------+\n",
      "only showing top 20 rows\n",
      "\n"
     ]
    }
   ],
   "source": [
    "table6 = \"titles\"\n",
    "try:\n",
    "    titles_df = app.read.jdbc(url=url, table=table6, properties=connection_properties)\n",
    "    titles_df.show()\n",
    "except Error as e:\n",
    "    print(f\"error is: {e}\")"
   ]
  },
  {
   "cell_type": "code",
   "execution_count": 14,
   "id": "b2a8700a-3d4b-4fac-b1e3-75025cb27bd4",
   "metadata": {},
   "outputs": [],
   "source": [
    "employees_df.createOrReplaceTempView(\"emp\")"
   ]
  },
  {
   "cell_type": "code",
   "execution_count": 15,
   "id": "5b17a0ee-afdd-4779-93cb-ce3dc1059b70",
   "metadata": {},
   "outputs": [],
   "source": [
    "dept_df.createOrReplaceTempView(\"dept\")"
   ]
  },
  {
   "cell_type": "code",
   "execution_count": 16,
   "id": "ab929ddd-c6ef-40f6-b8ad-2a26f7293320",
   "metadata": {},
   "outputs": [],
   "source": [
    "deptemp_df.createOrReplaceTempView(\"dept_emp\")"
   ]
  },
  {
   "cell_type": "code",
   "execution_count": 17,
   "id": "2c9145ca-c47f-41ad-9d6b-b4adc2c648ad",
   "metadata": {},
   "outputs": [],
   "source": [
    "dept_manager_df.createOrReplaceTempView(\"dept_manager\")"
   ]
  },
  {
   "cell_type": "code",
   "execution_count": 18,
   "id": "e1b8078a-e183-496a-8936-0ad658101ab9",
   "metadata": {},
   "outputs": [],
   "source": [
    "salaries_df.createOrReplaceTempView(\"salaries\")"
   ]
  },
  {
   "cell_type": "code",
   "execution_count": 103,
   "id": "7cff14bd-b4e9-4ffa-9c47-c9fbd0a65b32",
   "metadata": {},
   "outputs": [],
   "source": [
    "titles_df.createOrReplaceTempView(\"titles\")"
   ]
  },
  {
   "cell_type": "code",
   "execution_count": 104,
   "id": "0bef5222-0952-4b91-81dd-815f88f56bd1",
   "metadata": {},
   "outputs": [
    {
     "name": "stdout",
     "output_type": "stream",
     "text": [
      "Descriptive Statistics :\n",
      "+-------+------------------+----------+---------+------+\n",
      "|summary|            emp_no|first_name|last_name|gender|\n",
      "+-------+------------------+----------+---------+------+\n",
      "|  count|            300024|    300024|   300024|300024|\n",
      "|   mean|253321.76339226196|      NULL|     NULL|  NULL|\n",
      "| stddev|161828.23554037872|      NULL|     NULL|  NULL|\n",
      "|    min|             10001|     Aamer|   Aamodt|     F|\n",
      "|    max|            499999|    Zvonko|  dAstous|     M|\n",
      "+-------+------------------+----------+---------+------+\n",
      "\n",
      "*************************************************\n",
      "Descriptive Statistics :\n",
      "+-------+-----------------+------------------+\n",
      "|summary|           emp_no|            salary|\n",
      "+-------+-----------------+------------------+\n",
      "|  count|           967330|            967330|\n",
      "|   mean| 62483.9259570157|  63761.2043294429|\n",
      "| stddev|34018.64769820685|16922.546114460103|\n",
      "|    min|            10001|             38735|\n",
      "|    max|           201771|            158220|\n",
      "+-------+-----------------+------------------+\n",
      "\n",
      "*************************************************\n",
      "Descriptive Statistics :\n",
      "+-------+-------+----------------+\n",
      "|summary|dept_no|       dept_name|\n",
      "+-------+-------+----------------+\n",
      "|  count|      9|               9|\n",
      "|   mean|   NULL|            NULL|\n",
      "| stddev|   NULL|            NULL|\n",
      "|    min|   d001|Customer Service|\n",
      "|    max|   d009|           Sales|\n",
      "+-------+-------+----------------+\n",
      "\n",
      "*************************************************\n",
      "Descriptive Statistics :\n",
      "+-------+------------------+-------+\n",
      "|summary|            emp_no|dept_no|\n",
      "+-------+------------------+-------+\n",
      "|  count|            331603| 331603|\n",
      "|   mean|253332.60502468314|   NULL|\n",
      "| stddev|161831.91944548875|   NULL|\n",
      "|    min|             10001|   d001|\n",
      "|    max|            499999|   d009|\n",
      "+-------+------------------+-------+\n",
      "\n",
      "*************************************************\n",
      "Descriptive Statistics :\n",
      "+-------+------------------+-------+\n",
      "|summary|            emp_no|dept_no|\n",
      "+-------+------------------+-------+\n",
      "|  count|                24|     24|\n",
      "|   mean|110780.83333333333|   NULL|\n",
      "| stddev| 627.9587127570818|   NULL|\n",
      "|    min|            110022|   d001|\n",
      "|    max|            111939|   d009|\n",
      "+-------+------------------+-------+\n",
      "\n",
      "*************************************************\n",
      "Descriptive Statistics :\n",
      "+-------+------------------+------------------+\n",
      "|summary|            emp_no|             title|\n",
      "+-------+------------------+------------------+\n",
      "|  count|            443308|            443308|\n",
      "|   mean|253075.03442978696|              NULL|\n",
      "| stddev|161853.29261331228|              NULL|\n",
      "|    min|             10001|Assistant Engineer|\n",
      "|    max|            499999|  Technique Leader|\n",
      "+-------+------------------+------------------+\n",
      "\n",
      "*************************************************\n"
     ]
    }
   ],
   "source": [
    "df_list = [employees_df, salaries_df, dept_df ,deptemp_df, dept_manager_df, titles_df]\n",
    "\n",
    "for df in df_list:\n",
    "    df_names = [\"employees_df\", \"salaries_df\", \"dept_df\", \"deptemp_df\", \"dept_manager_df\"]\n",
    "    print(f\"Descriptive Statistics :\")\n",
    "    df.describe().show()\n",
    "    print(\"*************************************************\")\n"
   ]
  },
  {
   "cell_type": "markdown",
   "id": "04cbf6a7-86b8-4ed2-aae2-6867845e7e48",
   "metadata": {},
   "source": [
    "## RANK THE EMPLOYEES BASED ON THEIR MOST RECENT SALARY "
   ]
  },
  {
   "cell_type": "code",
   "execution_count": 19,
   "id": "a6c6b75c-3df4-432c-9fb5-67c40cb1ad65",
   "metadata": {},
   "outputs": [
    {
     "name": "stdout",
     "output_type": "stream",
     "text": [
      "+------+----------+--------------------+------+----------+------+-----------+\n",
      "|emp_no|birth_date|           full_name|gender| hire_date|salary|salary_rank|\n",
      "+------+----------+--------------------+------+----------+------+-----------+\n",
      "| 43624|1953-11-14|      Tokuyasu Pesch|     M|1985-03-26|158220|          1|\n",
      "| 47978|1956-03-24|     Xiahua Whitcomb|     M|1985-07-18|155709|          2|\n",
      "|109334|1955-08-02|   Tsutomu Alameldin|     M|1985-02-15|155190|          3|\n",
      "| 80823|1963-01-21|        Willard Baca|     M|1985-02-26|154459|          4|\n",
      "| 46439|1953-01-31|        Ibibia Junet|     M|1985-05-20|150345|          5|\n",
      "| 66793|1964-05-15|      Lansing Kambil|     M|1985-06-20|150052|          6|\n",
      "| 37558|1963-08-16|Juichirou Thambid...|     M|1989-02-23|149440|          7|\n",
      "| 36219|1964-10-09|     Vivian Minakawa|     F|1987-07-29|148820|          8|\n",
      "| 91935|1961-05-28|        Oldrich Unni|     M|1988-01-30|147469|          9|\n",
      "| 44465|1955-06-04|  Brigham Teitelbaum|     M|1987-03-17|146719|         10|\n",
      "|102962|1954-02-27|    Chirstian Kobara|     M|1985-09-24|146655|         11|\n",
      "| 53402|1959-08-28|      Houman Worfolk|     F|1986-11-05|146507|         12|\n",
      "| 41822|1956-11-28|     Lihong Brookner|     M|1990-05-08|146100|         13|\n",
      "| 11486|1963-03-05|     Itzchak Ramaiah|     M|1985-05-31|145732|         14|\n",
      "| 18997|1958-11-30|   Basim Tischendorf|     F|1990-02-22|145215|         15|\n",
      "| 18006|1953-05-25|      Vidya Hanabata|     F|1987-09-03|144866|         16|\n",
      "| 14487|1963-08-20|  Jungsoon Molenkamp|     F|1987-02-09|144534|         17|\n",
      "| 78008|1959-11-22|       Persi Berstel|     M|1985-07-08|144485|         18|\n",
      "| 13386|1952-04-27|      Khosrow Sgarro|     F|1986-02-23|144434|         19|\n",
      "| 96957|1958-09-11|  Odoardo Lindenbaum|     M|1985-07-30|143950|         20|\n",
      "| 98169|1952-09-01|        Bedrich Luft|     F|1987-01-20|143832|         21|\n",
      "| 89825|1952-07-19|        Ingmar Isard|     M|1986-05-23|143644|         22|\n",
      "| 84052|1956-06-27|        Mary Decleir|     F|1985-04-29|142846|         23|\n",
      "| 39964|1963-05-08|     Almudena Dratva|     M|1991-04-06|142638|         24|\n",
      "|107140|1960-05-05|    Ortrud Diderrich|     M|1987-12-08|142506|         25|\n",
      "| 80937|1955-07-09|       Chikako Jiang|     M|1985-08-09|142485|         26|\n",
      "| 58746|1958-06-20|   Reinhard Kaltofen|     F|1987-03-18|142413|         27|\n",
      "| 51531|1961-10-26|Clyde Georgakopoulos|     F|1987-05-17|141842|         28|\n",
      "| 56012|1959-03-09|Lucien Schlegelmilch|     M|1987-07-20|141824|         29|\n",
      "| 76125|1964-03-07|       Valery Klerer|     M|1986-05-19|141423|         30|\n",
      "+------+----------+--------------------+------+----------+------+-----------+\n",
      "only showing top 30 rows\n",
      "\n"
     ]
    }
   ],
   "source": [
    "result = app.sql('''\n",
    "                   with `most_recent_salary` as\n",
    "                   (\n",
    "                   select e.*,s.salary,\n",
    "                   row_number() over(partition by s.emp_no order by s.from_date desc) as `rn`\n",
    "                   from (emp as e) inner join (salaries as s)\n",
    "                   on e.emp_no = s.emp_no\n",
    "                   )\n",
    "                   select emp_no,birth_date,concat(first_name,\" \",last_name) as `full_name`,\n",
    "                   gender,hire_date,salary,\n",
    "                   dense_rank() over(order by salary desc) as `salary_rank`\n",
    "                   from most_recent_salary\n",
    "                   where rn=1\n",
    "                ''')\n",
    "result.show(n=30)"
   ]
  },
  {
   "cell_type": "markdown",
   "id": "6ed5703a-cbd1-4cb7-adb7-1aa7d21110dd",
   "metadata": {},
   "source": [
    "## ------------------------------------------------------------------------------------------------"
   ]
  },
  {
   "cell_type": "markdown",
   "id": "7f18c7d7-a112-450e-9182-fe3fb54bdb99",
   "metadata": {},
   "source": [
    "## find the duplicates"
   ]
  },
  {
   "cell_type": "code",
   "execution_count": 66,
   "id": "12872a45-f9bb-4d8e-80a6-4610b8395a1d",
   "metadata": {},
   "outputs": [
    {
     "name": "stdout",
     "output_type": "stream",
     "text": [
      "+------+----------+----------+---------+------+---------+---+\n",
      "|emp_no|birth_date|first_name|last_name|gender|hire_date| rn|\n",
      "+------+----------+----------+---------+------+---------+---+\n",
      "+------+----------+----------+---------+------+---------+---+\n",
      "\n"
     ]
    }
   ],
   "source": [
    "result = app.sql('''\n",
    "                 select * from \n",
    "                 (\n",
    "                 select *,\n",
    "                 row_number() over(partition by emp_no,birth_date,first_name,last_name,gender,hire_date \n",
    "                 order by emp_no) as `rn`\n",
    "                 from emp\n",
    "                 ) as `duplicate_handling`\n",
    "                 where `rn` > 2; \n",
    "                    \n",
    "            ''')\n",
    "result.show()"
   ]
  },
  {
   "cell_type": "markdown",
   "id": "62301907-ec98-4c69-a4d6-87a318365df0",
   "metadata": {},
   "source": [
    "## since no records retrieved there is no duplicates in our data"
   ]
  },
  {
   "cell_type": "markdown",
   "id": "5789989b-e571-4072-8f18-a4d9a9d1d07d",
   "metadata": {},
   "source": [
    "## --------------------------------------------------------------------------------------------------"
   ]
  },
  {
   "cell_type": "markdown",
   "id": "08bbcbd1-9a19-49a9-9cd8-0289ad4dadaa",
   "metadata": {},
   "source": [
    "## find total no of employees working in each department"
   ]
  },
  {
   "cell_type": "code",
   "execution_count": 21,
   "id": "2c385bf4-20cf-4d31-b927-686f9830eae4",
   "metadata": {},
   "outputs": [
    {
     "name": "stdout",
     "output_type": "stream",
     "text": [
      "+------------------+---------------------+\n",
      "|         dept_name|Total no of employees|\n",
      "+------------------+---------------------+\n",
      "|             Sales|                52245|\n",
      "|Quality Management|                20117|\n",
      "|           Finance|                17346|\n",
      "|        Production|                73485|\n",
      "|          Research|                21126|\n",
      "|  Customer Service|                23580|\n",
      "|         Marketing|                20211|\n",
      "|       Development|                85707|\n",
      "|   Human Resources|                17786|\n",
      "+------------------+---------------------+\n",
      "\n"
     ]
    }
   ],
   "source": [
    "result1 = app.sql('''\n",
    "          select d.dept_name,count(e.emp_no) as `Total no of employees`\n",
    "          from (emp as e) inner join (dept_emp as de) \n",
    "          on e.emp_no = de.emp_no\n",
    "          inner join (dept as d) \n",
    "          on d.dept_no = de.dept_no\n",
    "          group by d.dept_name\n",
    "        ''')\n",
    "result1.show()"
   ]
  },
  {
   "cell_type": "code",
   "execution_count": 22,
   "id": "1cd8dc03-c2ed-4df0-86a7-be212b4e060c",
   "metadata": {},
   "outputs": [
    {
     "data": {
      "text/plain": [
       "Index(['dept_name', 'Total no of employees'], dtype='object')"
      ]
     },
     "execution_count": 22,
     "metadata": {},
     "output_type": "execute_result"
    }
   ],
   "source": [
    "df1 = result1.toPandas()\n",
    "df1.columns"
   ]
  },
  {
   "cell_type": "code",
   "execution_count": 25,
   "id": "f959263c-00d7-4752-87fe-4e42603a2b79",
   "metadata": {},
   "outputs": [
    {
     "data": {
      "application/vnd.plotly.v1+json": {
       "config": {
        "plotlyServerURL": "https://plot.ly"
       },
       "data": [
        {
         "alignmentgroup": "True",
         "hovertemplate": "Department Name=%{x}<br>Total no of employees=%{y}<extra></extra>",
         "legendgroup": "",
         "marker": {
          "color": "#636efa",
          "pattern": {
           "shape": ""
          }
         },
         "name": "",
         "offsetgroup": "",
         "orientation": "v",
         "showlegend": false,
         "textposition": "auto",
         "texttemplate": "%{y}",
         "type": "bar",
         "x": [
          "Sales",
          "Quality Management",
          "Finance",
          "Production",
          "Research",
          "Customer Service",
          "Marketing",
          "Development",
          "Human Resources"
         ],
         "xaxis": "x",
         "y": [
          52245,
          20117,
          17346,
          73485,
          21126,
          23580,
          20211,
          85707,
          17786
         ],
         "yaxis": "y"
        }
       ],
       "layout": {
        "autosize": true,
        "barmode": "relative",
        "legend": {
         "tracegroupgap": 0
        },
        "template": {
         "data": {
          "bar": [
           {
            "error_x": {
             "color": "#2a3f5f"
            },
            "error_y": {
             "color": "#2a3f5f"
            },
            "marker": {
             "line": {
              "color": "#E5ECF6",
              "width": 0.5
             },
             "pattern": {
              "fillmode": "overlay",
              "size": 10,
              "solidity": 0.2
             }
            },
            "type": "bar"
           }
          ],
          "barpolar": [
           {
            "marker": {
             "line": {
              "color": "#E5ECF6",
              "width": 0.5
             },
             "pattern": {
              "fillmode": "overlay",
              "size": 10,
              "solidity": 0.2
             }
            },
            "type": "barpolar"
           }
          ],
          "carpet": [
           {
            "aaxis": {
             "endlinecolor": "#2a3f5f",
             "gridcolor": "white",
             "linecolor": "white",
             "minorgridcolor": "white",
             "startlinecolor": "#2a3f5f"
            },
            "baxis": {
             "endlinecolor": "#2a3f5f",
             "gridcolor": "white",
             "linecolor": "white",
             "minorgridcolor": "white",
             "startlinecolor": "#2a3f5f"
            },
            "type": "carpet"
           }
          ],
          "choropleth": [
           {
            "colorbar": {
             "outlinewidth": 0,
             "ticks": ""
            },
            "type": "choropleth"
           }
          ],
          "contour": [
           {
            "colorbar": {
             "outlinewidth": 0,
             "ticks": ""
            },
            "colorscale": [
             [
              0,
              "#0d0887"
             ],
             [
              0.1111111111111111,
              "#46039f"
             ],
             [
              0.2222222222222222,
              "#7201a8"
             ],
             [
              0.3333333333333333,
              "#9c179e"
             ],
             [
              0.4444444444444444,
              "#bd3786"
             ],
             [
              0.5555555555555556,
              "#d8576b"
             ],
             [
              0.6666666666666666,
              "#ed7953"
             ],
             [
              0.7777777777777778,
              "#fb9f3a"
             ],
             [
              0.8888888888888888,
              "#fdca26"
             ],
             [
              1,
              "#f0f921"
             ]
            ],
            "type": "contour"
           }
          ],
          "contourcarpet": [
           {
            "colorbar": {
             "outlinewidth": 0,
             "ticks": ""
            },
            "type": "contourcarpet"
           }
          ],
          "heatmap": [
           {
            "colorbar": {
             "outlinewidth": 0,
             "ticks": ""
            },
            "colorscale": [
             [
              0,
              "#0d0887"
             ],
             [
              0.1111111111111111,
              "#46039f"
             ],
             [
              0.2222222222222222,
              "#7201a8"
             ],
             [
              0.3333333333333333,
              "#9c179e"
             ],
             [
              0.4444444444444444,
              "#bd3786"
             ],
             [
              0.5555555555555556,
              "#d8576b"
             ],
             [
              0.6666666666666666,
              "#ed7953"
             ],
             [
              0.7777777777777778,
              "#fb9f3a"
             ],
             [
              0.8888888888888888,
              "#fdca26"
             ],
             [
              1,
              "#f0f921"
             ]
            ],
            "type": "heatmap"
           }
          ],
          "heatmapgl": [
           {
            "colorbar": {
             "outlinewidth": 0,
             "ticks": ""
            },
            "colorscale": [
             [
              0,
              "#0d0887"
             ],
             [
              0.1111111111111111,
              "#46039f"
             ],
             [
              0.2222222222222222,
              "#7201a8"
             ],
             [
              0.3333333333333333,
              "#9c179e"
             ],
             [
              0.4444444444444444,
              "#bd3786"
             ],
             [
              0.5555555555555556,
              "#d8576b"
             ],
             [
              0.6666666666666666,
              "#ed7953"
             ],
             [
              0.7777777777777778,
              "#fb9f3a"
             ],
             [
              0.8888888888888888,
              "#fdca26"
             ],
             [
              1,
              "#f0f921"
             ]
            ],
            "type": "heatmapgl"
           }
          ],
          "histogram": [
           {
            "marker": {
             "pattern": {
              "fillmode": "overlay",
              "size": 10,
              "solidity": 0.2
             }
            },
            "type": "histogram"
           }
          ],
          "histogram2d": [
           {
            "colorbar": {
             "outlinewidth": 0,
             "ticks": ""
            },
            "colorscale": [
             [
              0,
              "#0d0887"
             ],
             [
              0.1111111111111111,
              "#46039f"
             ],
             [
              0.2222222222222222,
              "#7201a8"
             ],
             [
              0.3333333333333333,
              "#9c179e"
             ],
             [
              0.4444444444444444,
              "#bd3786"
             ],
             [
              0.5555555555555556,
              "#d8576b"
             ],
             [
              0.6666666666666666,
              "#ed7953"
             ],
             [
              0.7777777777777778,
              "#fb9f3a"
             ],
             [
              0.8888888888888888,
              "#fdca26"
             ],
             [
              1,
              "#f0f921"
             ]
            ],
            "type": "histogram2d"
           }
          ],
          "histogram2dcontour": [
           {
            "colorbar": {
             "outlinewidth": 0,
             "ticks": ""
            },
            "colorscale": [
             [
              0,
              "#0d0887"
             ],
             [
              0.1111111111111111,
              "#46039f"
             ],
             [
              0.2222222222222222,
              "#7201a8"
             ],
             [
              0.3333333333333333,
              "#9c179e"
             ],
             [
              0.4444444444444444,
              "#bd3786"
             ],
             [
              0.5555555555555556,
              "#d8576b"
             ],
             [
              0.6666666666666666,
              "#ed7953"
             ],
             [
              0.7777777777777778,
              "#fb9f3a"
             ],
             [
              0.8888888888888888,
              "#fdca26"
             ],
             [
              1,
              "#f0f921"
             ]
            ],
            "type": "histogram2dcontour"
           }
          ],
          "mesh3d": [
           {
            "colorbar": {
             "outlinewidth": 0,
             "ticks": ""
            },
            "type": "mesh3d"
           }
          ],
          "parcoords": [
           {
            "line": {
             "colorbar": {
              "outlinewidth": 0,
              "ticks": ""
             }
            },
            "type": "parcoords"
           }
          ],
          "pie": [
           {
            "automargin": true,
            "type": "pie"
           }
          ],
          "scatter": [
           {
            "fillpattern": {
             "fillmode": "overlay",
             "size": 10,
             "solidity": 0.2
            },
            "type": "scatter"
           }
          ],
          "scatter3d": [
           {
            "line": {
             "colorbar": {
              "outlinewidth": 0,
              "ticks": ""
             }
            },
            "marker": {
             "colorbar": {
              "outlinewidth": 0,
              "ticks": ""
             }
            },
            "type": "scatter3d"
           }
          ],
          "scattercarpet": [
           {
            "marker": {
             "colorbar": {
              "outlinewidth": 0,
              "ticks": ""
             }
            },
            "type": "scattercarpet"
           }
          ],
          "scattergeo": [
           {
            "marker": {
             "colorbar": {
              "outlinewidth": 0,
              "ticks": ""
             }
            },
            "type": "scattergeo"
           }
          ],
          "scattergl": [
           {
            "marker": {
             "colorbar": {
              "outlinewidth": 0,
              "ticks": ""
             }
            },
            "type": "scattergl"
           }
          ],
          "scattermapbox": [
           {
            "marker": {
             "colorbar": {
              "outlinewidth": 0,
              "ticks": ""
             }
            },
            "type": "scattermapbox"
           }
          ],
          "scatterpolar": [
           {
            "marker": {
             "colorbar": {
              "outlinewidth": 0,
              "ticks": ""
             }
            },
            "type": "scatterpolar"
           }
          ],
          "scatterpolargl": [
           {
            "marker": {
             "colorbar": {
              "outlinewidth": 0,
              "ticks": ""
             }
            },
            "type": "scatterpolargl"
           }
          ],
          "scatterternary": [
           {
            "marker": {
             "colorbar": {
              "outlinewidth": 0,
              "ticks": ""
             }
            },
            "type": "scatterternary"
           }
          ],
          "surface": [
           {
            "colorbar": {
             "outlinewidth": 0,
             "ticks": ""
            },
            "colorscale": [
             [
              0,
              "#0d0887"
             ],
             [
              0.1111111111111111,
              "#46039f"
             ],
             [
              0.2222222222222222,
              "#7201a8"
             ],
             [
              0.3333333333333333,
              "#9c179e"
             ],
             [
              0.4444444444444444,
              "#bd3786"
             ],
             [
              0.5555555555555556,
              "#d8576b"
             ],
             [
              0.6666666666666666,
              "#ed7953"
             ],
             [
              0.7777777777777778,
              "#fb9f3a"
             ],
             [
              0.8888888888888888,
              "#fdca26"
             ],
             [
              1,
              "#f0f921"
             ]
            ],
            "type": "surface"
           }
          ],
          "table": [
           {
            "cells": {
             "fill": {
              "color": "#EBF0F8"
             },
             "line": {
              "color": "white"
             }
            },
            "header": {
             "fill": {
              "color": "#C8D4E3"
             },
             "line": {
              "color": "white"
             }
            },
            "type": "table"
           }
          ]
         },
         "layout": {
          "annotationdefaults": {
           "arrowcolor": "#2a3f5f",
           "arrowhead": 0,
           "arrowwidth": 1
          },
          "autotypenumbers": "strict",
          "coloraxis": {
           "colorbar": {
            "outlinewidth": 0,
            "ticks": ""
           }
          },
          "colorscale": {
           "diverging": [
            [
             0,
             "#8e0152"
            ],
            [
             0.1,
             "#c51b7d"
            ],
            [
             0.2,
             "#de77ae"
            ],
            [
             0.3,
             "#f1b6da"
            ],
            [
             0.4,
             "#fde0ef"
            ],
            [
             0.5,
             "#f7f7f7"
            ],
            [
             0.6,
             "#e6f5d0"
            ],
            [
             0.7,
             "#b8e186"
            ],
            [
             0.8,
             "#7fbc41"
            ],
            [
             0.9,
             "#4d9221"
            ],
            [
             1,
             "#276419"
            ]
           ],
           "sequential": [
            [
             0,
             "#0d0887"
            ],
            [
             0.1111111111111111,
             "#46039f"
            ],
            [
             0.2222222222222222,
             "#7201a8"
            ],
            [
             0.3333333333333333,
             "#9c179e"
            ],
            [
             0.4444444444444444,
             "#bd3786"
            ],
            [
             0.5555555555555556,
             "#d8576b"
            ],
            [
             0.6666666666666666,
             "#ed7953"
            ],
            [
             0.7777777777777778,
             "#fb9f3a"
            ],
            [
             0.8888888888888888,
             "#fdca26"
            ],
            [
             1,
             "#f0f921"
            ]
           ],
           "sequentialminus": [
            [
             0,
             "#0d0887"
            ],
            [
             0.1111111111111111,
             "#46039f"
            ],
            [
             0.2222222222222222,
             "#7201a8"
            ],
            [
             0.3333333333333333,
             "#9c179e"
            ],
            [
             0.4444444444444444,
             "#bd3786"
            ],
            [
             0.5555555555555556,
             "#d8576b"
            ],
            [
             0.6666666666666666,
             "#ed7953"
            ],
            [
             0.7777777777777778,
             "#fb9f3a"
            ],
            [
             0.8888888888888888,
             "#fdca26"
            ],
            [
             1,
             "#f0f921"
            ]
           ]
          },
          "colorway": [
           "#636efa",
           "#EF553B",
           "#00cc96",
           "#ab63fa",
           "#FFA15A",
           "#19d3f3",
           "#FF6692",
           "#B6E880",
           "#FF97FF",
           "#FECB52"
          ],
          "font": {
           "color": "#2a3f5f"
          },
          "geo": {
           "bgcolor": "white",
           "lakecolor": "white",
           "landcolor": "#E5ECF6",
           "showlakes": true,
           "showland": true,
           "subunitcolor": "white"
          },
          "hoverlabel": {
           "align": "left"
          },
          "hovermode": "closest",
          "mapbox": {
           "style": "light"
          },
          "paper_bgcolor": "white",
          "plot_bgcolor": "#E5ECF6",
          "polar": {
           "angularaxis": {
            "gridcolor": "white",
            "linecolor": "white",
            "ticks": ""
           },
           "bgcolor": "#E5ECF6",
           "radialaxis": {
            "gridcolor": "white",
            "linecolor": "white",
            "ticks": ""
           }
          },
          "scene": {
           "xaxis": {
            "backgroundcolor": "#E5ECF6",
            "gridcolor": "white",
            "gridwidth": 2,
            "linecolor": "white",
            "showbackground": true,
            "ticks": "",
            "zerolinecolor": "white"
           },
           "yaxis": {
            "backgroundcolor": "#E5ECF6",
            "gridcolor": "white",
            "gridwidth": 2,
            "linecolor": "white",
            "showbackground": true,
            "ticks": "",
            "zerolinecolor": "white"
           },
           "zaxis": {
            "backgroundcolor": "#E5ECF6",
            "gridcolor": "white",
            "gridwidth": 2,
            "linecolor": "white",
            "showbackground": true,
            "ticks": "",
            "zerolinecolor": "white"
           }
          },
          "shapedefaults": {
           "line": {
            "color": "#2a3f5f"
           }
          },
          "ternary": {
           "aaxis": {
            "gridcolor": "white",
            "linecolor": "white",
            "ticks": ""
           },
           "baxis": {
            "gridcolor": "white",
            "linecolor": "white",
            "ticks": ""
           },
           "bgcolor": "#E5ECF6",
           "caxis": {
            "gridcolor": "white",
            "linecolor": "white",
            "ticks": ""
           }
          },
          "title": {
           "x": 0.05
          },
          "xaxis": {
           "automargin": true,
           "gridcolor": "white",
           "linecolor": "white",
           "ticks": "",
           "title": {
            "standoff": 15
           },
           "zerolinecolor": "white",
           "zerolinewidth": 2
          },
          "yaxis": {
           "automargin": true,
           "gridcolor": "white",
           "linecolor": "white",
           "ticks": "",
           "title": {
            "standoff": 15
           },
           "zerolinecolor": "white",
           "zerolinewidth": 2
          }
         }
        },
        "title": {
         "text": "Total no of employees working on each department"
        },
        "xaxis": {
         "anchor": "y",
         "autorange": true,
         "domain": [
          0,
          1
         ],
         "range": [
          -0.5,
          8.5
         ],
         "tickangle": 70,
         "title": {
          "text": "Department Name"
         },
         "type": "category"
        },
        "yaxis": {
         "anchor": "x",
         "autorange": true,
         "domain": [
          0,
          1
         ],
         "range": [
          0,
          90217.8947368421
         ],
         "title": {
          "text": "Total no of employees"
         },
         "type": "linear"
        }
       }
      },
      "image/png": "[encoded data removed]",
      "text/html": [
       "<div>                            <div id=\"ccbffa5f-2be7-49e9-9d75-a7495d3be0db\" class=\"plotly-graph-div\" style=\"height:500px; width:100%;\"></div>            <script type=\"text/javascript\">                require([\"plotly\"], function(Plotly) {                    window.PLOTLYENV=window.PLOTLYENV || {};                                    if (document.getElementById(\"ccbffa5f-2be7-49e9-9d75-a7495d3be0db\")) {                    Plotly.newPlot(                        \"ccbffa5f-2be7-49e9-9d75-a7495d3be0db\",                        [{\"alignmentgroup\":\"True\",\"hovertemplate\":\"Department Name=%{x}\\u003cbr\\u003eTotal no of employees=%{y}\\u003cextra\\u003e\\u003c\\u002fextra\\u003e\",\"legendgroup\":\"\",\"marker\":{\"color\":\"#636efa\",\"pattern\":{\"shape\":\"\"}},\"name\":\"\",\"offsetgroup\":\"\",\"orientation\":\"v\",\"showlegend\":false,\"textposition\":\"auto\",\"texttemplate\":\"%{y}\",\"x\":[\"Sales\",\"Quality Management\",\"Finance\",\"Production\",\"Research\",\"Customer Service\",\"Marketing\",\"Development\",\"Human Resources\"],\"xaxis\":\"x\",\"y\":[52245,20117,17346,73485,21126,23580,20211,85707,17786],\"yaxis\":\"y\",\"type\":\"bar\"}],                        {\"template\":{\"data\":{\"histogram2dcontour\":[{\"type\":\"histogram2dcontour\",\"colorbar\":{\"outlinewidth\":0,\"ticks\":\"\"},\"colorscale\":[[0.0,\"#0d0887\"],[0.1111111111111111,\"#46039f\"],[0.2222222222222222,\"#7201a8\"],[0.3333333333333333,\"#9c179e\"],[0.4444444444444444,\"#bd3786\"],[0.5555555555555556,\"#d8576b\"],[0.6666666666666666,\"#ed7953\"],[0.7777777777777778,\"#fb9f3a\"],[0.8888888888888888,\"#fdca26\"],[1.0,\"#f0f921\"]]}],\"choropleth\":[{\"type\":\"choropleth\",\"colorbar\":{\"outlinewidth\":0,\"ticks\":\"\"}}],\"histogram2d\":[{\"type\":\"histogram2d\",\"colorbar\":{\"outlinewidth\":0,\"ticks\":\"\"},\"colorscale\":[[0.0,\"#0d0887\"],[0.1111111111111111,\"#46039f\"],[0.2222222222222222,\"#7201a8\"],[0.3333333333333333,\"#9c179e\"],[0.4444444444444444,\"#bd3786\"],[0.5555555555555556,\"#d8576b\"],[0.6666666666666666,\"#ed7953\"],[0.7777777777777778,\"#fb9f3a\"],[0.8888888888888888,\"#fdca26\"],[1.0,\"#f0f921\"]]}],\"heatmap\":[{\"type\":\"heatmap\",\"colorbar\":{\"outlinewidth\":0,\"ticks\":\"\"},\"colorscale\":[[0.0,\"#0d0887\"],[0.1111111111111111,\"#46039f\"],[0.2222222222222222,\"#7201a8\"],[0.3333333333333333,\"#9c179e\"],[0.4444444444444444,\"#bd3786\"],[0.5555555555555556,\"#d8576b\"],[0.6666666666666666,\"#ed7953\"],[0.7777777777777778,\"#fb9f3a\"],[0.8888888888888888,\"#fdca26\"],[1.0,\"#f0f921\"]]}],\"heatmapgl\":[{\"type\":\"heatmapgl\",\"colorbar\":{\"outlinewidth\":0,\"ticks\":\"\"},\"colorscale\":[[0.0,\"#0d0887\"],[0.1111111111111111,\"#46039f\"],[0.2222222222222222,\"#7201a8\"],[0.3333333333333333,\"#9c179e\"],[0.4444444444444444,\"#bd3786\"],[0.5555555555555556,\"#d8576b\"],[0.6666666666666666,\"#ed7953\"],[0.7777777777777778,\"#fb9f3a\"],[0.8888888888888888,\"#fdca26\"],[1.0,\"#f0f921\"]]}],\"contourcarpet\":[{\"type\":\"contourcarpet\",\"colorbar\":{\"outlinewidth\":0,\"ticks\":\"\"}}],\"contour\":[{\"type\":\"contour\",\"colorbar\":{\"outlinewidth\":0,\"ticks\":\"\"},\"colorscale\":[[0.0,\"#0d0887\"],[0.1111111111111111,\"#46039f\"],[0.2222222222222222,\"#7201a8\"],[0.3333333333333333,\"#9c179e\"],[0.4444444444444444,\"#bd3786\"],[0.5555555555555556,\"#d8576b\"],[0.6666666666666666,\"#ed7953\"],[0.7777777777777778,\"#fb9f3a\"],[0.8888888888888888,\"#fdca26\"],[1.0,\"#f0f921\"]]}],\"surface\":[{\"type\":\"surface\",\"colorbar\":{\"outlinewidth\":0,\"ticks\":\"\"},\"colorscale\":[[0.0,\"#0d0887\"],[0.1111111111111111,\"#46039f\"],[0.2222222222222222,\"#7201a8\"],[0.3333333333333333,\"#9c179e\"],[0.4444444444444444,\"#bd3786\"],[0.5555555555555556,\"#d8576b\"],[0.6666666666666666,\"#ed7953\"],[0.7777777777777778,\"#fb9f3a\"],[0.8888888888888888,\"#fdca26\"],[1.0,\"#f0f921\"]]}],\"mesh3d\":[{\"type\":\"mesh3d\",\"colorbar\":{\"outlinewidth\":0,\"ticks\":\"\"}}],\"scatter\":[{\"fillpattern\":{\"fillmode\":\"overlay\",\"size\":10,\"solidity\":0.2},\"type\":\"scatter\"}],\"parcoords\":[{\"type\":\"parcoords\",\"line\":{\"colorbar\":{\"outlinewidth\":0,\"ticks\":\"\"}}}],\"scatterpolargl\":[{\"type\":\"scatterpolargl\",\"marker\":{\"colorbar\":{\"outlinewidth\":0,\"ticks\":\"\"}}}],\"bar\":[{\"error_x\":{\"color\":\"#2a3f5f\"},\"error_y\":{\"color\":\"#2a3f5f\"},\"marker\":{\"line\":{\"color\":\"#E5ECF6\",\"width\":0.5},\"pattern\":{\"fillmode\":\"overlay\",\"size\":10,\"solidity\":0.2}},\"type\":\"bar\"}],\"scattergeo\":[{\"type\":\"scattergeo\",\"marker\":{\"colorbar\":{\"outlinewidth\":0,\"ticks\":\"\"}}}],\"scatterpolar\":[{\"type\":\"scatterpolar\",\"marker\":{\"colorbar\":{\"outlinewidth\":0,\"ticks\":\"\"}}}],\"histogram\":[{\"marker\":{\"pattern\":{\"fillmode\":\"overlay\",\"size\":10,\"solidity\":0.2}},\"type\":\"histogram\"}],\"scattergl\":[{\"type\":\"scattergl\",\"marker\":{\"colorbar\":{\"outlinewidth\":0,\"ticks\":\"\"}}}],\"scatter3d\":[{\"type\":\"scatter3d\",\"line\":{\"colorbar\":{\"outlinewidth\":0,\"ticks\":\"\"}},\"marker\":{\"colorbar\":{\"outlinewidth\":0,\"ticks\":\"\"}}}],\"scattermapbox\":[{\"type\":\"scattermapbox\",\"marker\":{\"colorbar\":{\"outlinewidth\":0,\"ticks\":\"\"}}}],\"scatterternary\":[{\"type\":\"scatterternary\",\"marker\":{\"colorbar\":{\"outlinewidth\":0,\"ticks\":\"\"}}}],\"scattercarpet\":[{\"type\":\"scattercarpet\",\"marker\":{\"colorbar\":{\"outlinewidth\":0,\"ticks\":\"\"}}}],\"carpet\":[{\"aaxis\":{\"endlinecolor\":\"#2a3f5f\",\"gridcolor\":\"white\",\"linecolor\":\"white\",\"minorgridcolor\":\"white\",\"startlinecolor\":\"#2a3f5f\"},\"baxis\":{\"endlinecolor\":\"#2a3f5f\",\"gridcolor\":\"white\",\"linecolor\":\"white\",\"minorgridcolor\":\"white\",\"startlinecolor\":\"#2a3f5f\"},\"type\":\"carpet\"}],\"table\":[{\"cells\":{\"fill\":{\"color\":\"#EBF0F8\"},\"line\":{\"color\":\"white\"}},\"header\":{\"fill\":{\"color\":\"#C8D4E3\"},\"line\":{\"color\":\"white\"}},\"type\":\"table\"}],\"barpolar\":[{\"marker\":{\"line\":{\"color\":\"#E5ECF6\",\"width\":0.5},\"pattern\":{\"fillmode\":\"overlay\",\"size\":10,\"solidity\":0.2}},\"type\":\"barpolar\"}],\"pie\":[{\"automargin\":true,\"type\":\"pie\"}]},\"layout\":{\"autotypenumbers\":\"strict\",\"colorway\":[\"#636efa\",\"#EF553B\",\"#00cc96\",\"#ab63fa\",\"#FFA15A\",\"#19d3f3\",\"#FF6692\",\"#B6E880\",\"#FF97FF\",\"#FECB52\"],\"font\":{\"color\":\"#2a3f5f\"},\"hovermode\":\"closest\",\"hoverlabel\":{\"align\":\"left\"},\"paper_bgcolor\":\"white\",\"plot_bgcolor\":\"#E5ECF6\",\"polar\":{\"bgcolor\":\"#E5ECF6\",\"angularaxis\":{\"gridcolor\":\"white\",\"linecolor\":\"white\",\"ticks\":\"\"},\"radialaxis\":{\"gridcolor\":\"white\",\"linecolor\":\"white\",\"ticks\":\"\"}},\"ternary\":{\"bgcolor\":\"#E5ECF6\",\"aaxis\":{\"gridcolor\":\"white\",\"linecolor\":\"white\",\"ticks\":\"\"},\"baxis\":{\"gridcolor\":\"white\",\"linecolor\":\"white\",\"ticks\":\"\"},\"caxis\":{\"gridcolor\":\"white\",\"linecolor\":\"white\",\"ticks\":\"\"}},\"coloraxis\":{\"colorbar\":{\"outlinewidth\":0,\"ticks\":\"\"}},\"colorscale\":{\"sequential\":[[0.0,\"#0d0887\"],[0.1111111111111111,\"#46039f\"],[0.2222222222222222,\"#7201a8\"],[0.3333333333333333,\"#9c179e\"],[0.4444444444444444,\"#bd3786\"],[0.5555555555555556,\"#d8576b\"],[0.6666666666666666,\"#ed7953\"],[0.7777777777777778,\"#fb9f3a\"],[0.8888888888888888,\"#fdca26\"],[1.0,\"#f0f921\"]],\"sequentialminus\":[[0.0,\"#0d0887\"],[0.1111111111111111,\"#46039f\"],[0.2222222222222222,\"#7201a8\"],[0.3333333333333333,\"#9c179e\"],[0.4444444444444444,\"#bd3786\"],[0.5555555555555556,\"#d8576b\"],[0.6666666666666666,\"#ed7953\"],[0.7777777777777778,\"#fb9f3a\"],[0.8888888888888888,\"#fdca26\"],[1.0,\"#f0f921\"]],\"diverging\":[[0,\"#8e0152\"],[0.1,\"#c51b7d\"],[0.2,\"#de77ae\"],[0.3,\"#f1b6da\"],[0.4,\"#fde0ef\"],[0.5,\"#f7f7f7\"],[0.6,\"#e6f5d0\"],[0.7,\"#b8e186\"],[0.8,\"#7fbc41\"],[0.9,\"#4d9221\"],[1,\"#276419\"]]},\"xaxis\":{\"gridcolor\":\"white\",\"linecolor\":\"white\",\"ticks\":\"\",\"title\":{\"standoff\":15},\"zerolinecolor\":\"white\",\"automargin\":true,\"zerolinewidth\":2},\"yaxis\":{\"gridcolor\":\"white\",\"linecolor\":\"white\",\"ticks\":\"\",\"title\":{\"standoff\":15},\"zerolinecolor\":\"white\",\"automargin\":true,\"zerolinewidth\":2},\"scene\":{\"xaxis\":{\"backgroundcolor\":\"#E5ECF6\",\"gridcolor\":\"white\",\"linecolor\":\"white\",\"showbackground\":true,\"ticks\":\"\",\"zerolinecolor\":\"white\",\"gridwidth\":2},\"yaxis\":{\"backgroundcolor\":\"#E5ECF6\",\"gridcolor\":\"white\",\"linecolor\":\"white\",\"showbackground\":true,\"ticks\":\"\",\"zerolinecolor\":\"white\",\"gridwidth\":2},\"zaxis\":{\"backgroundcolor\":\"#E5ECF6\",\"gridcolor\":\"white\",\"linecolor\":\"white\",\"showbackground\":true,\"ticks\":\"\",\"zerolinecolor\":\"white\",\"gridwidth\":2}},\"shapedefaults\":{\"line\":{\"color\":\"#2a3f5f\"}},\"annotationdefaults\":{\"arrowcolor\":\"#2a3f5f\",\"arrowhead\":0,\"arrowwidth\":1},\"geo\":{\"bgcolor\":\"white\",\"landcolor\":\"#E5ECF6\",\"subunitcolor\":\"white\",\"showland\":true,\"showlakes\":true,\"lakecolor\":\"white\"},\"title\":{\"x\":0.05},\"mapbox\":{\"style\":\"light\"}}},\"xaxis\":{\"anchor\":\"y\",\"domain\":[0.0,1.0],\"title\":{\"text\":\"Department Name\"},\"tickangle\":70},\"yaxis\":{\"anchor\":\"x\",\"domain\":[0.0,1.0],\"title\":{\"text\":\"Total no of employees\"}},\"legend\":{\"tracegroupgap\":0},\"title\":{\"text\":\"Total no of employees working on each department\"},\"barmode\":\"relative\",\"height\":500},                        {\"responsive\": true}                    ).then(function(){\n",
       "                            \n",
       "var gd = document.getElementById('ccbffa5f-2be7-49e9-9d75-a7495d3be0db');\n",
       "var x = new MutationObserver(function (mutations, observer) {{\n",
       "        var display = window.getComputedStyle(gd).display;\n",
       "        if (!display || display === 'none') {{\n",
       "            console.log([gd, 'removed!']);\n",
       "            Plotly.purge(gd);\n",
       "            observer.disconnect();\n",
       "        }}\n",
       "}});\n",
       "\n",
       "// Listen for the removal of the full notebook cells\n",
       "var notebookContainer = gd.closest('#notebook-container');\n",
       "if (notebookContainer) {{\n",
       "    x.observe(notebookContainer, {childList: true});\n",
       "}}\n",
       "\n",
       "// Listen for the clearing of the current output cell\n",
       "var outputEl = gd.closest('.output');\n",
       "if (outputEl) {{\n",
       "    x.observe(outputEl, {childList: true});\n",
       "}}\n",
       "\n",
       "                        })                };                });            </script>        </div>"
      ]
     },
     "metadata": {},
     "output_type": "display_data"
    }
   ],
   "source": [
    "# Create interactive bar plot\n",
    "fig = px.bar(\n",
    "    df1,\n",
    "    x='dept_name',\n",
    "    y='Total no of employees',\n",
    "    title='Total no of employees working on each department',\n",
    "    labels={'dept_name': 'Department Name', 'Total employees': 'Total no of employees'},\n",
    "    text_auto=True\n",
    ")\n",
    "\n",
    "# Customize layout (optional)\n",
    "fig.update_layout(\n",
    "    height=500,\n",
    "    xaxis_title='Department Name',\n",
    "    yaxis_title='Total no of employees',\n",
    "    xaxis=dict(tickangle=70)  # Rotating x-axis labels\n",
    ")\n",
    "\n",
    "# Show interactive plot\n",
    "fig.show()"
   ]
  },
  {
   "cell_type": "markdown",
   "id": "9304f3f2-6125-465d-b349-7decafc3a02d",
   "metadata": {},
   "source": [
    "## --> DEPARTMENT DEVELOPMENT HAS MORE EMPLOYEES AMONG \n",
    "\n",
    "## ALL DEPARMENTS IN THE COMPANY"
   ]
  },
  {
   "cell_type": "markdown",
   "id": "f1cfad0d-442c-4107-9dce-aab824ad86cb",
   "metadata": {},
   "source": [
    "## ------------------------------------------------------------------------------------------------"
   ]
  },
  {
   "cell_type": "markdown",
   "id": "10044675-8385-49bd-9b6a-8c0b838ab845",
   "metadata": {},
   "source": [
    "## find employees whose salary is greaterthan their department average salary"
   ]
  },
  {
   "cell_type": "code",
   "execution_count": 33,
   "id": "7b3899d0-a24b-429d-b7ba-c0e8f4bb8583",
   "metadata": {},
   "outputs": [
    {
     "name": "stdout",
     "output_type": "stream",
     "text": [
      "+---------+------+-----------+---------+------+------+-----------------+\n",
      "|dept_name|emp_no| first_name|last_name|gender|salary|     dept_avg_sal|\n",
      "+---------+------+-----------+---------+------+------+-----------------+\n",
      "|    Sales| 10234|Arunachalam| Bakhtari|     M| 84584|80776.62039654997|\n",
      "|    Sales| 10234|Arunachalam| Bakhtari|     M| 85768|80776.62039654997|\n",
      "|    Sales| 10234|Arunachalam| Bakhtari|     M| 87361|80776.62039654997|\n",
      "|    Sales| 10234|Arunachalam| Bakhtari|     M| 90986|80776.62039654997|\n",
      "|    Sales| 10234|Arunachalam| Bakhtari|     M| 93052|80776.62039654997|\n",
      "|    Sales| 10234|Arunachalam| Bakhtari|     M| 96269|80776.62039654997|\n",
      "|    Sales| 10234|Arunachalam| Bakhtari|     M| 96294|80776.62039654997|\n",
      "|    Sales| 10234|Arunachalam| Bakhtari|     M|100366|80776.62039654997|\n",
      "|    Sales| 10234|Arunachalam| Bakhtari|     M|102754|80776.62039654997|\n",
      "|    Sales| 10254|       Shen|  Brattka|     M| 83198|80776.62039654997|\n",
      "|    Sales| 10254|       Shen|  Brattka|     M| 85691|80776.62039654997|\n",
      "|    Sales| 10449| Aleksandar|  Sudkamp|     M| 81799|80776.62039654997|\n",
      "|    Sales| 10449| Aleksandar|  Sudkamp|     M| 86260|80776.62039654997|\n",
      "|    Sales| 10449| Aleksandar|  Sudkamp|     M| 87735|80776.62039654997|\n",
      "|    Sales| 10532|       Mary|  Wossner|     F| 87468|80776.62039654997|\n",
      "|    Sales| 10532|       Mary|  Wossner|     F| 87811|80776.62039654997|\n",
      "|    Sales| 10532|       Mary|  Wossner|     F| 91018|80776.62039654997|\n",
      "|    Sales| 10532|       Mary|  Wossner|     F| 91837|80776.62039654997|\n",
      "|    Sales| 10532|       Mary|  Wossner|     F| 96327|80776.62039654997|\n",
      "|    Sales| 10532|       Mary|  Wossner|     F| 96600|80776.62039654997|\n",
      "+---------+------+-----------+---------+------+------+-----------------+\n",
      "only showing top 20 rows\n",
      "\n"
     ]
    }
   ],
   "source": [
    "result2 = app.sql(\n",
    "                    '''\n",
    "                    with dept_avg_salary as\n",
    "                    (\n",
    "                    select d.dept_name,e.emp_no,e.first_name,e.last_name,e.gender,s.salary,\n",
    "                    avg(salary) over(partition by d.dept_name ) as `dept_avg_sal`\n",
    "                    from emp e inner join salaries s \n",
    "                    on e.emp_no = s.emp_no\n",
    "                    inner join dept_emp de\n",
    "                    on e.emp_no = de.emp_no\n",
    "                    inner join dept d \n",
    "                    on d.dept_no = de.dept_no\n",
    "                    )\n",
    "                    select * from dept_avg_salary\n",
    "                    where salary > `dept_avg_sal`\n",
    "                    \n",
    "                    '''\n",
    "                    )\n",
    "result2.show()"
   ]
  },
  {
   "cell_type": "markdown",
   "id": "e47a90c3-1553-4ba1-996e-713b6ee52306",
   "metadata": {},
   "source": [
    "## ------------------------------------------------------------------------------------------------"
   ]
  },
  {
   "cell_type": "markdown",
   "id": "3fb9fe87-825f-4db7-9566-67e13b3d7f22",
   "metadata": {},
   "source": [
    "## find the average, max and min salary in each department"
   ]
  },
  {
   "cell_type": "code",
   "execution_count": 37,
   "id": "6f048793-a982-4dfa-b52b-e6c9502f305e",
   "metadata": {},
   "outputs": [
    {
     "name": "stdout",
     "output_type": "stream",
     "text": [
      "+-------+------------------+------------------+------------+------------+\n",
      "|dept_no|         dept_name|      dept avg sal|dept max sal|dept min sal|\n",
      "+-------+------------------+------------------+------------+------------+\n",
      "|   d007|             Sales| 80776.62039654997|      158220|       39427|\n",
      "|   d004|        Production| 59539.78990774039|      132552|       38836|\n",
      "|   d003|   Human Resources|55353.520326471196|      123674|       38735|\n",
      "|   d002|           Finance| 70159.46621971931|      134662|       38812|\n",
      "|   d001|         Marketing| 71901.72367418648|      143644|       39127|\n",
      "|   d009|  Customer Service| 58755.44062676491|      144866|       38836|\n",
      "|   d008|          Research|59866.243526736595|      124181|       38851|\n",
      "|   d005|       Development| 59503.57499466995|      144434|       38850|\n",
      "|   d006|Quality Management|57294.657039259815|      122376|       38928|\n",
      "+-------+------------------+------------------+------------+------------+\n",
      "\n"
     ]
    }
   ],
   "source": [
    "result3 = app.sql(\n",
    "                    '''\n",
    "                    select d.dept_no, d.dept_name, avg(s.salary) as `dept avg sal`,\n",
    "                    max(s.salary) as `dept max sal`, min(s.salary) as `dept min sal`\n",
    "                    from (dept as d) inner join (dept_emp as de)\n",
    "                    on d.dept_no = de.dept_no\n",
    "                    inner join ( salaries as s)\n",
    "                    on s.emp_no = de.emp_no\n",
    "                    group by d.dept_no, d.dept_name\n",
    "                    '''\n",
    "                )\n",
    "\n",
    "result3.show()"
   ]
  },
  {
   "cell_type": "code",
   "execution_count": 38,
   "id": "019015cd-a889-4c0b-9477-394e4358969a",
   "metadata": {},
   "outputs": [
    {
     "data": {
      "text/html": [
       "<div>\n",
       "<style scoped>\n",
       "    .dataframe tbody tr th:only-of-type {\n",
       "        vertical-align: middle;\n",
       "    }\n",
       "\n",
       "    .dataframe tbody tr th {\n",
       "        vertical-align: top;\n",
       "    }\n",
       "\n",
       "    .dataframe thead th {\n",
       "        text-align: right;\n",
       "    }\n",
       "</style>\n",
       "<table border=\"1\" class=\"dataframe\">\n",
       "  <thead>\n",
       "    <tr style=\"text-align: right;\">\n",
       "      <th></th>\n",
       "      <th>dept_no</th>\n",
       "      <th>dept_name</th>\n",
       "      <th>dept avg sal</th>\n",
       "      <th>dept max sal</th>\n",
       "      <th>dept min sal</th>\n",
       "    </tr>\n",
       "  </thead>\n",
       "  <tbody>\n",
       "    <tr>\n",
       "      <th>0</th>\n",
       "      <td>d007</td>\n",
       "      <td>Sales</td>\n",
       "      <td>80776.620397</td>\n",
       "      <td>158220</td>\n",
       "      <td>39427</td>\n",
       "    </tr>\n",
       "    <tr>\n",
       "      <th>1</th>\n",
       "      <td>d004</td>\n",
       "      <td>Production</td>\n",
       "      <td>59539.789908</td>\n",
       "      <td>132552</td>\n",
       "      <td>38836</td>\n",
       "    </tr>\n",
       "    <tr>\n",
       "      <th>2</th>\n",
       "      <td>d003</td>\n",
       "      <td>Human Resources</td>\n",
       "      <td>55353.520326</td>\n",
       "      <td>123674</td>\n",
       "      <td>38735</td>\n",
       "    </tr>\n",
       "    <tr>\n",
       "      <th>3</th>\n",
       "      <td>d002</td>\n",
       "      <td>Finance</td>\n",
       "      <td>70159.466220</td>\n",
       "      <td>134662</td>\n",
       "      <td>38812</td>\n",
       "    </tr>\n",
       "    <tr>\n",
       "      <th>4</th>\n",
       "      <td>d001</td>\n",
       "      <td>Marketing</td>\n",
       "      <td>71901.723674</td>\n",
       "      <td>143644</td>\n",
       "      <td>39127</td>\n",
       "    </tr>\n",
       "    <tr>\n",
       "      <th>5</th>\n",
       "      <td>d009</td>\n",
       "      <td>Customer Service</td>\n",
       "      <td>58755.440627</td>\n",
       "      <td>144866</td>\n",
       "      <td>38836</td>\n",
       "    </tr>\n",
       "    <tr>\n",
       "      <th>6</th>\n",
       "      <td>d008</td>\n",
       "      <td>Research</td>\n",
       "      <td>59866.243527</td>\n",
       "      <td>124181</td>\n",
       "      <td>38851</td>\n",
       "    </tr>\n",
       "    <tr>\n",
       "      <th>7</th>\n",
       "      <td>d005</td>\n",
       "      <td>Development</td>\n",
       "      <td>59503.574995</td>\n",
       "      <td>144434</td>\n",
       "      <td>38850</td>\n",
       "    </tr>\n",
       "    <tr>\n",
       "      <th>8</th>\n",
       "      <td>d006</td>\n",
       "      <td>Quality Management</td>\n",
       "      <td>57294.657039</td>\n",
       "      <td>122376</td>\n",
       "      <td>38928</td>\n",
       "    </tr>\n",
       "  </tbody>\n",
       "</table>\n",
       "</div>"
      ],
      "text/plain": [
       "  dept_no           dept_name  dept avg sal  dept max sal  dept min sal\n",
       "0    d007               Sales  80776.620397        158220         39427\n",
       "1    d004          Production  59539.789908        132552         38836\n",
       "2    d003     Human Resources  55353.520326        123674         38735\n",
       "3    d002             Finance  70159.466220        134662         38812\n",
       "4    d001           Marketing  71901.723674        143644         39127\n",
       "5    d009    Customer Service  58755.440627        144866         38836\n",
       "6    d008            Research  59866.243527        124181         38851\n",
       "7    d005         Development  59503.574995        144434         38850\n",
       "8    d006  Quality Management  57294.657039        122376         38928"
      ]
     },
     "execution_count": 38,
     "metadata": {},
     "output_type": "execute_result"
    }
   ],
   "source": [
    "df2 = result3.toPandas()\n",
    "df2"
   ]
  },
  {
   "cell_type": "code",
   "execution_count": 39,
   "id": "3a1b4462-f788-4305-b4ba-6cad4f508946",
   "metadata": {},
   "outputs": [
    {
     "data": {
      "text/plain": [
       "Index(['dept_no', 'dept_name', 'dept avg sal', 'dept max sal', 'dept min sal'], dtype='object')"
      ]
     },
     "execution_count": 39,
     "metadata": {},
     "output_type": "execute_result"
    }
   ],
   "source": [
    "df2.columns"
   ]
  },
  {
   "cell_type": "code",
   "execution_count": 57,
   "id": "396dd9fd-c3aa-4fba-9df8-a5365c4d3688",
   "metadata": {},
   "outputs": [
    {
     "data": {
      "application/vnd.plotly.v1+json": {
       "config": {
        "plotlyServerURL": "https://plot.ly"
       },
       "data": [
        {
         "domain": {
          "x": [
           0,
           1
          ],
          "y": [
           0.7333333333333334,
           1
          ]
         },
         "hoverinfo": "label+value",
         "labels": [
          "Sales",
          "Production",
          "Human Resources",
          "Finance",
          "Marketing",
          "Customer Service",
          "Research",
          "Development",
          "Quality Management"
         ],
         "name": "Avg Salary",
         "textinfo": "percent+label",
         "type": "pie",
         "values": [
          80776.62039654997,
          59539.78990774039,
          55353.520326471196,
          70159.46621971931,
          71901.72367418648,
          58755.44062676491,
          59866.243526736595,
          59503.57499466995,
          57294.657039259815
         ]
        },
        {
         "domain": {
          "x": [
           0,
           1
          ],
          "y": [
           0.3666666666666667,
           0.6333333333333333
          ]
         },
         "hoverinfo": "label+value",
         "labels": [
          "Sales",
          "Production",
          "Human Resources",
          "Finance",
          "Marketing",
          "Customer Service",
          "Research",
          "Development",
          "Quality Management"
         ],
         "name": "Max Salary",
         "textinfo": "percent+label",
         "type": "pie",
         "values": [
          158220,
          132552,
          123674,
          134662,
          143644,
          144866,
          124181,
          144434,
          122376
         ]
        },
        {
         "domain": {
          "x": [
           0,
           1
          ],
          "y": [
           0,
           0.26666666666666666
          ]
         },
         "hoverinfo": "label+value",
         "labels": [
          "Sales",
          "Production",
          "Human Resources",
          "Finance",
          "Marketing",
          "Customer Service",
          "Research",
          "Development",
          "Quality Management"
         ],
         "name": "Min Salary",
         "textinfo": "percent+label",
         "type": "pie",
         "values": [
          39427,
          38836,
          38735,
          38812,
          39127,
          38836,
          38851,
          38850,
          38928
         ]
        }
       ],
       "layout": {
        "annotations": [
         {
          "font": {
           "size": 14
          },
          "showarrow": false,
          "text": "Average Salaries by Department",
          "x": 0.5,
          "xanchor": "center",
          "xref": "paper",
          "y": 1.02,
          "yanchor": "bottom",
          "yref": "paper"
         },
         {
          "font": {
           "size": 14
          },
          "showarrow": false,
          "text": "Maximum Salaries by Department",
          "x": 0.5,
          "xanchor": "center",
          "xref": "paper",
          "y": 0.68,
          "yanchor": "bottom",
          "yref": "paper"
         },
         {
          "font": {
           "size": 14
          },
          "showarrow": false,
          "text": "Minimum Salaries by Department",
          "x": 0.5,
          "xanchor": "center",
          "xref": "paper",
          "y": 0.34,
          "yanchor": "bottom",
          "yref": "paper"
         }
        ],
        "autosize": true,
        "hiddenlabels": [
         "Marketing"
        ],
        "margin": {
         "b": 50,
         "t": 50
        },
        "showlegend": true,
        "template": {
         "data": {
          "bar": [
           {
            "error_x": {
             "color": "#2a3f5f"
            },
            "error_y": {
             "color": "#2a3f5f"
            },
            "marker": {
             "line": {
              "color": "#E5ECF6",
              "width": 0.5
             },
             "pattern": {
              "fillmode": "overlay",
              "size": 10,
              "solidity": 0.2
             }
            },
            "type": "bar"
           }
          ],
          "barpolar": [
           {
            "marker": {
             "line": {
              "color": "#E5ECF6",
              "width": 0.5
             },
             "pattern": {
              "fillmode": "overlay",
              "size": 10,
              "solidity": 0.2
             }
            },
            "type": "barpolar"
           }
          ],
          "carpet": [
           {
            "aaxis": {
             "endlinecolor": "#2a3f5f",
             "gridcolor": "white",
             "linecolor": "white",
             "minorgridcolor": "white",
             "startlinecolor": "#2a3f5f"
            },
            "baxis": {
             "endlinecolor": "#2a3f5f",
             "gridcolor": "white",
             "linecolor": "white",
             "minorgridcolor": "white",
             "startlinecolor": "#2a3f5f"
            },
            "type": "carpet"
           }
          ],
          "choropleth": [
           {
            "colorbar": {
             "outlinewidth": 0,
             "ticks": ""
            },
            "type": "choropleth"
           }
          ],
          "contour": [
           {
            "colorbar": {
             "outlinewidth": 0,
             "ticks": ""
            },
            "colorscale": [
             [
              0,
              "#0d0887"
             ],
             [
              0.1111111111111111,
              "#46039f"
             ],
             [
              0.2222222222222222,
              "#7201a8"
             ],
             [
              0.3333333333333333,
              "#9c179e"
             ],
             [
              0.4444444444444444,
              "#bd3786"
             ],
             [
              0.5555555555555556,
              "#d8576b"
             ],
             [
              0.6666666666666666,
              "#ed7953"
             ],
             [
              0.7777777777777778,
              "#fb9f3a"
             ],
             [
              0.8888888888888888,
              "#fdca26"
             ],
             [
              1,
              "#f0f921"
             ]
            ],
            "type": "contour"
           }
          ],
          "contourcarpet": [
           {
            "colorbar": {
             "outlinewidth": 0,
             "ticks": ""
            },
            "type": "contourcarpet"
           }
          ],
          "heatmap": [
           {
            "colorbar": {
             "outlinewidth": 0,
             "ticks": ""
            },
            "colorscale": [
             [
              0,
              "#0d0887"
             ],
             [
              0.1111111111111111,
              "#46039f"
             ],
             [
              0.2222222222222222,
              "#7201a8"
             ],
             [
              0.3333333333333333,
              "#9c179e"
             ],
             [
              0.4444444444444444,
              "#bd3786"
             ],
             [
              0.5555555555555556,
              "#d8576b"
             ],
             [
              0.6666666666666666,
              "#ed7953"
             ],
             [
              0.7777777777777778,
              "#fb9f3a"
             ],
             [
              0.8888888888888888,
              "#fdca26"
             ],
             [
              1,
              "#f0f921"
             ]
            ],
            "type": "heatmap"
           }
          ],
          "heatmapgl": [
           {
            "colorbar": {
             "outlinewidth": 0,
             "ticks": ""
            },
            "colorscale": [
             [
              0,
              "#0d0887"
             ],
             [
              0.1111111111111111,
              "#46039f"
             ],
             [
              0.2222222222222222,
              "#7201a8"
             ],
             [
              0.3333333333333333,
              "#9c179e"
             ],
             [
              0.4444444444444444,
              "#bd3786"
             ],
             [
              0.5555555555555556,
              "#d8576b"
             ],
             [
              0.6666666666666666,
              "#ed7953"
             ],
             [
              0.7777777777777778,
              "#fb9f3a"
             ],
             [
              0.8888888888888888,
              "#fdca26"
             ],
             [
              1,
              "#f0f921"
             ]
            ],
            "type": "heatmapgl"
           }
          ],
          "histogram": [
           {
            "marker": {
             "pattern": {
              "fillmode": "overlay",
              "size": 10,
              "solidity": 0.2
             }
            },
            "type": "histogram"
           }
          ],
          "histogram2d": [
           {
            "colorbar": {
             "outlinewidth": 0,
             "ticks": ""
            },
            "colorscale": [
             [
              0,
              "#0d0887"
             ],
             [
              0.1111111111111111,
              "#46039f"
             ],
             [
              0.2222222222222222,
              "#7201a8"
             ],
             [
              0.3333333333333333,
              "#9c179e"
             ],
             [
              0.4444444444444444,
              "#bd3786"
             ],
             [
              0.5555555555555556,
              "#d8576b"
             ],
             [
              0.6666666666666666,
              "#ed7953"
             ],
             [
              0.7777777777777778,
              "#fb9f3a"
             ],
             [
              0.8888888888888888,
              "#fdca26"
             ],
             [
              1,
              "#f0f921"
             ]
            ],
            "type": "histogram2d"
           }
          ],
          "histogram2dcontour": [
           {
            "colorbar": {
             "outlinewidth": 0,
             "ticks": ""
            },
            "colorscale": [
             [
              0,
              "#0d0887"
             ],
             [
              0.1111111111111111,
              "#46039f"
             ],
             [
              0.2222222222222222,
              "#7201a8"
             ],
             [
              0.3333333333333333,
              "#9c179e"
             ],
             [
              0.4444444444444444,
              "#bd3786"
             ],
             [
              0.5555555555555556,
              "#d8576b"
             ],
             [
              0.6666666666666666,
              "#ed7953"
             ],
             [
              0.7777777777777778,
              "#fb9f3a"
             ],
             [
              0.8888888888888888,
              "#fdca26"
             ],
             [
              1,
              "#f0f921"
             ]
            ],
            "type": "histogram2dcontour"
           }
          ],
          "mesh3d": [
           {
            "colorbar": {
             "outlinewidth": 0,
             "ticks": ""
            },
            "type": "mesh3d"
           }
          ],
          "parcoords": [
           {
            "line": {
             "colorbar": {
              "outlinewidth": 0,
              "ticks": ""
             }
            },
            "type": "parcoords"
           }
          ],
          "pie": [
           {
            "automargin": true,
            "type": "pie"
           }
          ],
          "scatter": [
           {
            "fillpattern": {
             "fillmode": "overlay",
             "size": 10,
             "solidity": 0.2
            },
            "type": "scatter"
           }
          ],
          "scatter3d": [
           {
            "line": {
             "colorbar": {
              "outlinewidth": 0,
              "ticks": ""
             }
            },
            "marker": {
             "colorbar": {
              "outlinewidth": 0,
              "ticks": ""
             }
            },
            "type": "scatter3d"
           }
          ],
          "scattercarpet": [
           {
            "marker": {
             "colorbar": {
              "outlinewidth": 0,
              "ticks": ""
             }
            },
            "type": "scattercarpet"
           }
          ],
          "scattergeo": [
           {
            "marker": {
             "colorbar": {
              "outlinewidth": 0,
              "ticks": ""
             }
            },
            "type": "scattergeo"
           }
          ],
          "scattergl": [
           {
            "marker": {
             "colorbar": {
              "outlinewidth": 0,
              "ticks": ""
             }
            },
            "type": "scattergl"
           }
          ],
          "scattermapbox": [
           {
            "marker": {
             "colorbar": {
              "outlinewidth": 0,
              "ticks": ""
             }
            },
            "type": "scattermapbox"
           }
          ],
          "scatterpolar": [
           {
            "marker": {
             "colorbar": {
              "outlinewidth": 0,
              "ticks": ""
             }
            },
            "type": "scatterpolar"
           }
          ],
          "scatterpolargl": [
           {
            "marker": {
             "colorbar": {
              "outlinewidth": 0,
              "ticks": ""
             }
            },
            "type": "scatterpolargl"
           }
          ],
          "scatterternary": [
           {
            "marker": {
             "colorbar": {
              "outlinewidth": 0,
              "ticks": ""
             }
            },
            "type": "scatterternary"
           }
          ],
          "surface": [
           {
            "colorbar": {
             "outlinewidth": 0,
             "ticks": ""
            },
            "colorscale": [
             [
              0,
              "#0d0887"
             ],
             [
              0.1111111111111111,
              "#46039f"
             ],
             [
              0.2222222222222222,
              "#7201a8"
             ],
             [
              0.3333333333333333,
              "#9c179e"
             ],
             [
              0.4444444444444444,
              "#bd3786"
             ],
             [
              0.5555555555555556,
              "#d8576b"
             ],
             [
              0.6666666666666666,
              "#ed7953"
             ],
             [
              0.7777777777777778,
              "#fb9f3a"
             ],
             [
              0.8888888888888888,
              "#fdca26"
             ],
             [
              1,
              "#f0f921"
             ]
            ],
            "type": "surface"
           }
          ],
          "table": [
           {
            "cells": {
             "fill": {
              "color": "#EBF0F8"
             },
             "line": {
              "color": "white"
             }
            },
            "header": {
             "fill": {
              "color": "#C8D4E3"
             },
             "line": {
              "color": "white"
             }
            },
            "type": "table"
           }
          ]
         },
         "layout": {
          "annotationdefaults": {
           "arrowcolor": "#2a3f5f",
           "arrowhead": 0,
           "arrowwidth": 1
          },
          "autotypenumbers": "strict",
          "coloraxis": {
           "colorbar": {
            "outlinewidth": 0,
            "ticks": ""
           }
          },
          "colorscale": {
           "diverging": [
            [
             0,
             "#8e0152"
            ],
            [
             0.1,
             "#c51b7d"
            ],
            [
             0.2,
             "#de77ae"
            ],
            [
             0.3,
             "#f1b6da"
            ],
            [
             0.4,
             "#fde0ef"
            ],
            [
             0.5,
             "#f7f7f7"
            ],
            [
             0.6,
             "#e6f5d0"
            ],
            [
             0.7,
             "#b8e186"
            ],
            [
             0.8,
             "#7fbc41"
            ],
            [
             0.9,
             "#4d9221"
            ],
            [
             1,
             "#276419"
            ]
           ],
           "sequential": [
            [
             0,
             "#0d0887"
            ],
            [
             0.1111111111111111,
             "#46039f"
            ],
            [
             0.2222222222222222,
             "#7201a8"
            ],
            [
             0.3333333333333333,
             "#9c179e"
            ],
            [
             0.4444444444444444,
             "#bd3786"
            ],
            [
             0.5555555555555556,
             "#d8576b"
            ],
            [
             0.6666666666666666,
             "#ed7953"
            ],
            [
             0.7777777777777778,
             "#fb9f3a"
            ],
            [
             0.8888888888888888,
             "#fdca26"
            ],
            [
             1,
             "#f0f921"
            ]
           ],
           "sequentialminus": [
            [
             0,
             "#0d0887"
            ],
            [
             0.1111111111111111,
             "#46039f"
            ],
            [
             0.2222222222222222,
             "#7201a8"
            ],
            [
             0.3333333333333333,
             "#9c179e"
            ],
            [
             0.4444444444444444,
             "#bd3786"
            ],
            [
             0.5555555555555556,
             "#d8576b"
            ],
            [
             0.6666666666666666,
             "#ed7953"
            ],
            [
             0.7777777777777778,
             "#fb9f3a"
            ],
            [
             0.8888888888888888,
             "#fdca26"
            ],
            [
             1,
             "#f0f921"
            ]
           ]
          },
          "colorway": [
           "#636efa",
           "#EF553B",
           "#00cc96",
           "#ab63fa",
           "#FFA15A",
           "#19d3f3",
           "#FF6692",
           "#B6E880",
           "#FF97FF",
           "#FECB52"
          ],
          "font": {
           "color": "#2a3f5f"
          },
          "geo": {
           "bgcolor": "white",
           "lakecolor": "white",
           "landcolor": "#E5ECF6",
           "showlakes": true,
           "showland": true,
           "subunitcolor": "white"
          },
          "hoverlabel": {
           "align": "left"
          },
          "hovermode": "closest",
          "mapbox": {
           "style": "light"
          },
          "paper_bgcolor": "white",
          "plot_bgcolor": "#E5ECF6",
          "polar": {
           "angularaxis": {
            "gridcolor": "white",
            "linecolor": "white",
            "ticks": ""
           },
           "bgcolor": "#E5ECF6",
           "radialaxis": {
            "gridcolor": "white",
            "linecolor": "white",
            "ticks": ""
           }
          },
          "scene": {
           "xaxis": {
            "backgroundcolor": "#E5ECF6",
            "gridcolor": "white",
            "gridwidth": 2,
            "linecolor": "white",
            "showbackground": true,
            "ticks": "",
            "zerolinecolor": "white"
           },
           "yaxis": {
            "backgroundcolor": "#E5ECF6",
            "gridcolor": "white",
            "gridwidth": 2,
            "linecolor": "white",
            "showbackground": true,
            "ticks": "",
            "zerolinecolor": "white"
           },
           "zaxis": {
            "backgroundcolor": "#E5ECF6",
            "gridcolor": "white",
            "gridwidth": 2,
            "linecolor": "white",
            "showbackground": true,
            "ticks": "",
            "zerolinecolor": "white"
           }
          },
          "shapedefaults": {
           "line": {
            "color": "#2a3f5f"
           }
          },
          "ternary": {
           "aaxis": {
            "gridcolor": "white",
            "linecolor": "white",
            "ticks": ""
           },
           "baxis": {
            "gridcolor": "white",
            "linecolor": "white",
            "ticks": ""
           },
           "bgcolor": "#E5ECF6",
           "caxis": {
            "gridcolor": "white",
            "linecolor": "white",
            "ticks": ""
           }
          },
          "title": {
           "x": 0.05
          },
          "xaxis": {
           "automargin": true,
           "gridcolor": "white",
           "linecolor": "white",
           "ticks": "",
           "title": {
            "standoff": 15
           },
           "zerolinecolor": "white",
           "zerolinewidth": 2
          },
          "yaxis": {
           "automargin": true,
           "gridcolor": "white",
           "linecolor": "white",
           "ticks": "",
           "title": {
            "standoff": 15
           },
           "zerolinecolor": "white",
           "zerolinewidth": 2
          }
         }
        },
        "title": {
         "text": "Department Salary Distribution"
        }
       }
      },
      "image/png": "[encoded data removed]",
      "text/html": [
       "<div>                            <div id=\"75b1103f-1b8d-4852-a1df-ce843e972de0\" class=\"plotly-graph-div\" style=\"height:1400px; width:100%;\"></div>            <script type=\"text/javascript\">                require([\"plotly\"], function(Plotly) {                    window.PLOTLYENV=window.PLOTLYENV || {};                                    if (document.getElementById(\"75b1103f-1b8d-4852-a1df-ce843e972de0\")) {                    Plotly.newPlot(                        \"75b1103f-1b8d-4852-a1df-ce843e972de0\",                        [{\"labels\":[\"Sales\",\"Production\",\"Human Resources\",\"Finance\",\"Marketing\",\"Customer Service\",\"Research\",\"Development\",\"Quality Management\"],\"name\":\"Avg Salary\",\"values\":[80776.62039654997,59539.78990774039,55353.520326471196,70159.46621971931,71901.72367418648,58755.44062676491,59866.243526736595,59503.57499466995,57294.657039259815],\"type\":\"pie\",\"domain\":{\"x\":[0.0,1.0],\"y\":[0.7333333333333334,1.0]},\"hoverinfo\":\"label+value\",\"textinfo\":\"percent+label\"},{\"labels\":[\"Sales\",\"Production\",\"Human Resources\",\"Finance\",\"Marketing\",\"Customer Service\",\"Research\",\"Development\",\"Quality Management\"],\"name\":\"Max Salary\",\"values\":[158220,132552,123674,134662,143644,144866,124181,144434,122376],\"type\":\"pie\",\"domain\":{\"x\":[0.0,1.0],\"y\":[0.3666666666666667,0.6333333333333333]},\"hoverinfo\":\"label+value\",\"textinfo\":\"percent+label\"},{\"labels\":[\"Sales\",\"Production\",\"Human Resources\",\"Finance\",\"Marketing\",\"Customer Service\",\"Research\",\"Development\",\"Quality Management\"],\"name\":\"Min Salary\",\"values\":[39427,38836,38735,38812,39127,38836,38851,38850,38928],\"type\":\"pie\",\"domain\":{\"x\":[0.0,1.0],\"y\":[0.0,0.26666666666666666]},\"hoverinfo\":\"label+value\",\"textinfo\":\"percent+label\"}],                        {\"template\":{\"data\":{\"histogram2dcontour\":[{\"type\":\"histogram2dcontour\",\"colorbar\":{\"outlinewidth\":0,\"ticks\":\"\"},\"colorscale\":[[0.0,\"#0d0887\"],[0.1111111111111111,\"#46039f\"],[0.2222222222222222,\"#7201a8\"],[0.3333333333333333,\"#9c179e\"],[0.4444444444444444,\"#bd3786\"],[0.5555555555555556,\"#d8576b\"],[0.6666666666666666,\"#ed7953\"],[0.7777777777777778,\"#fb9f3a\"],[0.8888888888888888,\"#fdca26\"],[1.0,\"#f0f921\"]]}],\"choropleth\":[{\"type\":\"choropleth\",\"colorbar\":{\"outlinewidth\":0,\"ticks\":\"\"}}],\"histogram2d\":[{\"type\":\"histogram2d\",\"colorbar\":{\"outlinewidth\":0,\"ticks\":\"\"},\"colorscale\":[[0.0,\"#0d0887\"],[0.1111111111111111,\"#46039f\"],[0.2222222222222222,\"#7201a8\"],[0.3333333333333333,\"#9c179e\"],[0.4444444444444444,\"#bd3786\"],[0.5555555555555556,\"#d8576b\"],[0.6666666666666666,\"#ed7953\"],[0.7777777777777778,\"#fb9f3a\"],[0.8888888888888888,\"#fdca26\"],[1.0,\"#f0f921\"]]}],\"heatmap\":[{\"type\":\"heatmap\",\"colorbar\":{\"outlinewidth\":0,\"ticks\":\"\"},\"colorscale\":[[0.0,\"#0d0887\"],[0.1111111111111111,\"#46039f\"],[0.2222222222222222,\"#7201a8\"],[0.3333333333333333,\"#9c179e\"],[0.4444444444444444,\"#bd3786\"],[0.5555555555555556,\"#d8576b\"],[0.6666666666666666,\"#ed7953\"],[0.7777777777777778,\"#fb9f3a\"],[0.8888888888888888,\"#fdca26\"],[1.0,\"#f0f921\"]]}],\"heatmapgl\":[{\"type\":\"heatmapgl\",\"colorbar\":{\"outlinewidth\":0,\"ticks\":\"\"},\"colorscale\":[[0.0,\"#0d0887\"],[0.1111111111111111,\"#46039f\"],[0.2222222222222222,\"#7201a8\"],[0.3333333333333333,\"#9c179e\"],[0.4444444444444444,\"#bd3786\"],[0.5555555555555556,\"#d8576b\"],[0.6666666666666666,\"#ed7953\"],[0.7777777777777778,\"#fb9f3a\"],[0.8888888888888888,\"#fdca26\"],[1.0,\"#f0f921\"]]}],\"contourcarpet\":[{\"type\":\"contourcarpet\",\"colorbar\":{\"outlinewidth\":0,\"ticks\":\"\"}}],\"contour\":[{\"type\":\"contour\",\"colorbar\":{\"outlinewidth\":0,\"ticks\":\"\"},\"colorscale\":[[0.0,\"#0d0887\"],[0.1111111111111111,\"#46039f\"],[0.2222222222222222,\"#7201a8\"],[0.3333333333333333,\"#9c179e\"],[0.4444444444444444,\"#bd3786\"],[0.5555555555555556,\"#d8576b\"],[0.6666666666666666,\"#ed7953\"],[0.7777777777777778,\"#fb9f3a\"],[0.8888888888888888,\"#fdca26\"],[1.0,\"#f0f921\"]]}],\"surface\":[{\"type\":\"surface\",\"colorbar\":{\"outlinewidth\":0,\"ticks\":\"\"},\"colorscale\":[[0.0,\"#0d0887\"],[0.1111111111111111,\"#46039f\"],[0.2222222222222222,\"#7201a8\"],[0.3333333333333333,\"#9c179e\"],[0.4444444444444444,\"#bd3786\"],[0.5555555555555556,\"#d8576b\"],[0.6666666666666666,\"#ed7953\"],[0.7777777777777778,\"#fb9f3a\"],[0.8888888888888888,\"#fdca26\"],[1.0,\"#f0f921\"]]}],\"mesh3d\":[{\"type\":\"mesh3d\",\"colorbar\":{\"outlinewidth\":0,\"ticks\":\"\"}}],\"scatter\":[{\"fillpattern\":{\"fillmode\":\"overlay\",\"size\":10,\"solidity\":0.2},\"type\":\"scatter\"}],\"parcoords\":[{\"type\":\"parcoords\",\"line\":{\"colorbar\":{\"outlinewidth\":0,\"ticks\":\"\"}}}],\"scatterpolargl\":[{\"type\":\"scatterpolargl\",\"marker\":{\"colorbar\":{\"outlinewidth\":0,\"ticks\":\"\"}}}],\"bar\":[{\"error_x\":{\"color\":\"#2a3f5f\"},\"error_y\":{\"color\":\"#2a3f5f\"},\"marker\":{\"line\":{\"color\":\"#E5ECF6\",\"width\":0.5},\"pattern\":{\"fillmode\":\"overlay\",\"size\":10,\"solidity\":0.2}},\"type\":\"bar\"}],\"scattergeo\":[{\"type\":\"scattergeo\",\"marker\":{\"colorbar\":{\"outlinewidth\":0,\"ticks\":\"\"}}}],\"scatterpolar\":[{\"type\":\"scatterpolar\",\"marker\":{\"colorbar\":{\"outlinewidth\":0,\"ticks\":\"\"}}}],\"histogram\":[{\"marker\":{\"pattern\":{\"fillmode\":\"overlay\",\"size\":10,\"solidity\":0.2}},\"type\":\"histogram\"}],\"scattergl\":[{\"type\":\"scattergl\",\"marker\":{\"colorbar\":{\"outlinewidth\":0,\"ticks\":\"\"}}}],\"scatter3d\":[{\"type\":\"scatter3d\",\"line\":{\"colorbar\":{\"outlinewidth\":0,\"ticks\":\"\"}},\"marker\":{\"colorbar\":{\"outlinewidth\":0,\"ticks\":\"\"}}}],\"scattermapbox\":[{\"type\":\"scattermapbox\",\"marker\":{\"colorbar\":{\"outlinewidth\":0,\"ticks\":\"\"}}}],\"scatterternary\":[{\"type\":\"scatterternary\",\"marker\":{\"colorbar\":{\"outlinewidth\":0,\"ticks\":\"\"}}}],\"scattercarpet\":[{\"type\":\"scattercarpet\",\"marker\":{\"colorbar\":{\"outlinewidth\":0,\"ticks\":\"\"}}}],\"carpet\":[{\"aaxis\":{\"endlinecolor\":\"#2a3f5f\",\"gridcolor\":\"white\",\"linecolor\":\"white\",\"minorgridcolor\":\"white\",\"startlinecolor\":\"#2a3f5f\"},\"baxis\":{\"endlinecolor\":\"#2a3f5f\",\"gridcolor\":\"white\",\"linecolor\":\"white\",\"minorgridcolor\":\"white\",\"startlinecolor\":\"#2a3f5f\"},\"type\":\"carpet\"}],\"table\":[{\"cells\":{\"fill\":{\"color\":\"#EBF0F8\"},\"line\":{\"color\":\"white\"}},\"header\":{\"fill\":{\"color\":\"#C8D4E3\"},\"line\":{\"color\":\"white\"}},\"type\":\"table\"}],\"barpolar\":[{\"marker\":{\"line\":{\"color\":\"#E5ECF6\",\"width\":0.5},\"pattern\":{\"fillmode\":\"overlay\",\"size\":10,\"solidity\":0.2}},\"type\":\"barpolar\"}],\"pie\":[{\"automargin\":true,\"type\":\"pie\"}]},\"layout\":{\"autotypenumbers\":\"strict\",\"colorway\":[\"#636efa\",\"#EF553B\",\"#00cc96\",\"#ab63fa\",\"#FFA15A\",\"#19d3f3\",\"#FF6692\",\"#B6E880\",\"#FF97FF\",\"#FECB52\"],\"font\":{\"color\":\"#2a3f5f\"},\"hovermode\":\"closest\",\"hoverlabel\":{\"align\":\"left\"},\"paper_bgcolor\":\"white\",\"plot_bgcolor\":\"#E5ECF6\",\"polar\":{\"bgcolor\":\"#E5ECF6\",\"angularaxis\":{\"gridcolor\":\"white\",\"linecolor\":\"white\",\"ticks\":\"\"},\"radialaxis\":{\"gridcolor\":\"white\",\"linecolor\":\"white\",\"ticks\":\"\"}},\"ternary\":{\"bgcolor\":\"#E5ECF6\",\"aaxis\":{\"gridcolor\":\"white\",\"linecolor\":\"white\",\"ticks\":\"\"},\"baxis\":{\"gridcolor\":\"white\",\"linecolor\":\"white\",\"ticks\":\"\"},\"caxis\":{\"gridcolor\":\"white\",\"linecolor\":\"white\",\"ticks\":\"\"}},\"coloraxis\":{\"colorbar\":{\"outlinewidth\":0,\"ticks\":\"\"}},\"colorscale\":{\"sequential\":[[0.0,\"#0d0887\"],[0.1111111111111111,\"#46039f\"],[0.2222222222222222,\"#7201a8\"],[0.3333333333333333,\"#9c179e\"],[0.4444444444444444,\"#bd3786\"],[0.5555555555555556,\"#d8576b\"],[0.6666666666666666,\"#ed7953\"],[0.7777777777777778,\"#fb9f3a\"],[0.8888888888888888,\"#fdca26\"],[1.0,\"#f0f921\"]],\"sequentialminus\":[[0.0,\"#0d0887\"],[0.1111111111111111,\"#46039f\"],[0.2222222222222222,\"#7201a8\"],[0.3333333333333333,\"#9c179e\"],[0.4444444444444444,\"#bd3786\"],[0.5555555555555556,\"#d8576b\"],[0.6666666666666666,\"#ed7953\"],[0.7777777777777778,\"#fb9f3a\"],[0.8888888888888888,\"#fdca26\"],[1.0,\"#f0f921\"]],\"diverging\":[[0,\"#8e0152\"],[0.1,\"#c51b7d\"],[0.2,\"#de77ae\"],[0.3,\"#f1b6da\"],[0.4,\"#fde0ef\"],[0.5,\"#f7f7f7\"],[0.6,\"#e6f5d0\"],[0.7,\"#b8e186\"],[0.8,\"#7fbc41\"],[0.9,\"#4d9221\"],[1,\"#276419\"]]},\"xaxis\":{\"gridcolor\":\"white\",\"linecolor\":\"white\",\"ticks\":\"\",\"title\":{\"standoff\":15},\"zerolinecolor\":\"white\",\"automargin\":true,\"zerolinewidth\":2},\"yaxis\":{\"gridcolor\":\"white\",\"linecolor\":\"white\",\"ticks\":\"\",\"title\":{\"standoff\":15},\"zerolinecolor\":\"white\",\"automargin\":true,\"zerolinewidth\":2},\"scene\":{\"xaxis\":{\"backgroundcolor\":\"#E5ECF6\",\"gridcolor\":\"white\",\"linecolor\":\"white\",\"showbackground\":true,\"ticks\":\"\",\"zerolinecolor\":\"white\",\"gridwidth\":2},\"yaxis\":{\"backgroundcolor\":\"#E5ECF6\",\"gridcolor\":\"white\",\"linecolor\":\"white\",\"showbackground\":true,\"ticks\":\"\",\"zerolinecolor\":\"white\",\"gridwidth\":2},\"zaxis\":{\"backgroundcolor\":\"#E5ECF6\",\"gridcolor\":\"white\",\"linecolor\":\"white\",\"showbackground\":true,\"ticks\":\"\",\"zerolinecolor\":\"white\",\"gridwidth\":2}},\"shapedefaults\":{\"line\":{\"color\":\"#2a3f5f\"}},\"annotationdefaults\":{\"arrowcolor\":\"#2a3f5f\",\"arrowhead\":0,\"arrowwidth\":1},\"geo\":{\"bgcolor\":\"white\",\"landcolor\":\"#E5ECF6\",\"subunitcolor\":\"white\",\"showland\":true,\"showlakes\":true,\"lakecolor\":\"white\"},\"title\":{\"x\":0.05},\"mapbox\":{\"style\":\"light\"}}},\"annotations\":[{\"font\":{\"size\":14},\"showarrow\":false,\"text\":\"Average Salaries by Department\",\"x\":0.5,\"xanchor\":\"center\",\"xref\":\"paper\",\"y\":1.02,\"yanchor\":\"bottom\",\"yref\":\"paper\"},{\"font\":{\"size\":14},\"showarrow\":false,\"text\":\"Maximum Salaries by Department\",\"x\":0.5,\"xanchor\":\"center\",\"xref\":\"paper\",\"y\":0.68,\"yanchor\":\"bottom\",\"yref\":\"paper\"},{\"font\":{\"size\":14},\"showarrow\":false,\"text\":\"Minimum Salaries by Department\",\"x\":0.5,\"xanchor\":\"center\",\"xref\":\"paper\",\"y\":0.34,\"yanchor\":\"bottom\",\"yref\":\"paper\"}],\"title\":{\"text\":\"Department Salary Distribution\"},\"margin\":{\"t\":50,\"b\":50},\"height\":1400,\"showlegend\":true},                        {\"responsive\": true}                    ).then(function(){\n",
       "                            \n",
       "var gd = document.getElementById('75b1103f-1b8d-4852-a1df-ce843e972de0');\n",
       "var x = new MutationObserver(function (mutations, observer) {{\n",
       "        var display = window.getComputedStyle(gd).display;\n",
       "        if (!display || display === 'none') {{\n",
       "            console.log([gd, 'removed!']);\n",
       "            Plotly.purge(gd);\n",
       "            observer.disconnect();\n",
       "        }}\n",
       "}});\n",
       "\n",
       "// Listen for the removal of the full notebook cells\n",
       "var notebookContainer = gd.closest('#notebook-container');\n",
       "if (notebookContainer) {{\n",
       "    x.observe(notebookContainer, {childList: true});\n",
       "}}\n",
       "\n",
       "// Listen for the clearing of the current output cell\n",
       "var outputEl = gd.closest('.output');\n",
       "if (outputEl) {{\n",
       "    x.observe(outputEl, {childList: true});\n",
       "}}\n",
       "\n",
       "                        })                };                });            </script>        </div>"
      ]
     },
     "metadata": {},
     "output_type": "display_data"
    }
   ],
   "source": [
    "# Create subplots for three pie charts stacked vertically\n",
    "fig = make_subplots(\n",
    "    rows=3, cols=1,  # 3 rows, 1 column\n",
    "    specs=[[{'type': 'domain'}],  # Each row contains a single pie chart\n",
    "           [{'type': 'domain'}],\n",
    "           [{'type': 'domain'}]],\n",
    "    subplot_titles=[\n",
    "        \"Average Salaries by Department\",\n",
    "        \"Maximum Salaries by Department\",\n",
    "        \"Minimum Salaries by Department\"\n",
    "    ],\n",
    "    vertical_spacing=0.10  # Adjust spacing between rows\n",
    ")\n",
    "\n",
    "# Add pie chart for average salaries (1st row)\n",
    "fig.add_trace(\n",
    "    go.Pie(labels=df2['dept_name'], values=df2['dept avg sal'], name='Avg Salary'),\n",
    "    row=1, col=1\n",
    ")\n",
    "\n",
    "# Add pie chart for maximum salaries (2nd row)\n",
    "fig.add_trace(\n",
    "    go.Pie(labels=df2['dept_name'], values=df2['dept max sal'], name='Max Salary'),\n",
    "    row=2, col=1\n",
    ")\n",
    "\n",
    "# Add pie chart for minimum salaries (3rd row)\n",
    "fig.add_trace(\n",
    "    go.Pie(labels=df2['dept_name'], values=df2['dept min sal'], name='Min Salary'),\n",
    "    row=3, col=1\n",
    ")\n",
    "\n",
    "# Customize layout\n",
    "fig.update_traces(textinfo='percent+label', hoverinfo='label+value')\n",
    "\n",
    "# Adjust layout to fix overlap\n",
    "fig.update_layout(\n",
    "    title_text=\"Department Salary Distribution\",\n",
    "    height=1400,  # Further increase chart height\n",
    "    margin=dict(t=50, b=50),  # Adjust top and bottom margins\n",
    "    showlegend=True,\n",
    "    annotations=[\n",
    "        dict(\n",
    "            text=\"Average Salaries by Department\",\n",
    "            x=0.5, y=1.02, showarrow=False, xref=\"paper\", yref=\"paper\", font=dict(size=14)\n",
    "        ),\n",
    "        dict(\n",
    "            text=\"Maximum Salaries by Department\",\n",
    "            x=0.5, y=0.68, showarrow=False, xref=\"paper\", yref=\"paper\", font=dict(size=14)\n",
    "        ),\n",
    "        dict(\n",
    "            text=\"Minimum Salaries by Department\",\n",
    "            x=0.5, y=0.34, showarrow=False, xref=\"paper\", yref=\"paper\", font=dict(size=14)\n",
    "        ),\n",
    "    ]\n",
    ")\n",
    "\n",
    "# Show plot\n",
    "fig.show()"
   ]
  },
  {
   "cell_type": "markdown",
   "id": "b3cd7094-3537-4721-a81d-d9b0fd814f44",
   "metadata": {},
   "source": [
    "## -------------------------------------------------------------------------------------------"
   ]
  },
  {
   "cell_type": "markdown",
   "id": "97b16b63-1280-4932-b2fc-30bbf8b295ab",
   "metadata": {},
   "source": [
    "## find all employees who are earning morethan their manager salary"
   ]
  },
  {
   "cell_type": "code",
   "execution_count": 48,
   "id": "ad2a71b3-bf6e-42fa-acef-02dc19428070",
   "metadata": {
    "scrolled": true
   },
   "outputs": [
    {
     "name": "stdout",
     "output_type": "stream",
     "text": [
      "+-------+------+----------+----------+---------+------+----------+------+---------------+----------+--------------+---+\n",
      "|dept_no|emp_no|birth_date|first_name|last_name|gender| hire_date|salary|manager_dept_no|manager_no|manager_salary| rn|\n",
      "+-------+------+----------+----------+---------+------+----------+------+---------------+----------+--------------+---+\n",
      "|   d009| 10011|1953-11-07|      Mary|    Sluis|     F|1990-01-22| 42365|           d009|    111692|         40000|  1|\n",
      "|   d009| 10011|1953-11-07|      Mary|    Sluis|     F|1990-01-22| 42365|           d009|    111784|         40000|  2|\n",
      "|   d009| 10011|1953-11-07|      Mary|    Sluis|     F|1990-01-22| 42365|           d009|    111784|         41189|  3|\n",
      "|   d009| 10011|1953-11-07|      Mary|    Sluis|     F|1990-01-22| 42365|           d009|    111939|         40000|  4|\n",
      "|   d009| 10011|1953-11-07|      Mary|    Sluis|     F|1990-01-22| 42365|           d009|    111939|         40285|  5|\n",
      "|   d009| 10011|1953-11-07|      Mary|    Sluis|     F|1990-01-22| 42365|           d009|    111939|         40514|  6|\n",
      "|   d009| 10011|1953-11-07|      Mary|    Sluis|     F|1990-01-22| 44200|           d009|    111692|         40000|  7|\n",
      "|   d009| 10011|1953-11-07|      Mary|    Sluis|     F|1990-01-22| 44200|           d009|    111692|         42706|  8|\n",
      "|   d009| 10011|1953-11-07|      Mary|    Sluis|     F|1990-01-22| 44200|           d009|    111784|         40000|  9|\n",
      "|   d009| 10011|1953-11-07|      Mary|    Sluis|     F|1990-01-22| 44200|           d009|    111784|         41189| 10|\n",
      "|   d009| 10011|1953-11-07|      Mary|    Sluis|     F|1990-01-22| 44200|           d009|    111784|         44026| 11|\n",
      "|   d009| 10011|1953-11-07|      Mary|    Sluis|     F|1990-01-22| 44200|           d009|    111939|         40000| 12|\n",
      "|   d009| 10011|1953-11-07|      Mary|    Sluis|     F|1990-01-22| 44200|           d009|    111939|         40285| 13|\n",
      "|   d009| 10011|1953-11-07|      Mary|    Sluis|     F|1990-01-22| 44200|           d009|    111939|         40514| 14|\n",
      "|   d009| 10011|1953-11-07|      Mary|    Sluis|     F|1990-01-22| 44200|           d009|    111939|         44046| 15|\n",
      "|   d009| 10011|1953-11-07|      Mary|    Sluis|     F|1990-01-22| 48214|           d009|    111692|         40000| 16|\n",
      "|   d009| 10011|1953-11-07|      Mary|    Sluis|     F|1990-01-22| 48214|           d009|    111692|         42706| 17|\n",
      "|   d009| 10011|1953-11-07|      Mary|    Sluis|     F|1990-01-22| 48214|           d009|    111692|         46154| 18|\n",
      "|   d009| 10011|1953-11-07|      Mary|    Sluis|     F|1990-01-22| 48214|           d009|    111692|         46488| 19|\n",
      "|   d009| 10011|1953-11-07|      Mary|    Sluis|     F|1990-01-22| 48214|           d009|    111784|         40000| 20|\n",
      "|   d009| 10011|1953-11-07|      Mary|    Sluis|     F|1990-01-22| 48214|           d009|    111784|         41189| 21|\n",
      "|   d009| 10011|1953-11-07|      Mary|    Sluis|     F|1990-01-22| 48214|           d009|    111784|         44026| 22|\n",
      "|   d009| 10011|1953-11-07|      Mary|    Sluis|     F|1990-01-22| 48214|           d009|    111784|         48079| 23|\n",
      "|   d009| 10011|1953-11-07|      Mary|    Sluis|     F|1990-01-22| 48214|           d009|    111784|         48181| 24|\n",
      "|   d009| 10011|1953-11-07|      Mary|    Sluis|     F|1990-01-22| 48214|           d009|    111939|         40000| 25|\n",
      "|   d009| 10011|1953-11-07|      Mary|    Sluis|     F|1990-01-22| 48214|           d009|    111939|         40285| 26|\n",
      "|   d009| 10011|1953-11-07|      Mary|    Sluis|     F|1990-01-22| 48214|           d009|    111939|         40514| 27|\n",
      "|   d009| 10011|1953-11-07|      Mary|    Sluis|     F|1990-01-22| 48214|           d009|    111939|         44046| 28|\n",
      "|   d009| 10011|1953-11-07|      Mary|    Sluis|     F|1990-01-22| 50927|           d009|    111692|         40000| 29|\n",
      "|   d009| 10011|1953-11-07|      Mary|    Sluis|     F|1990-01-22| 50927|           d009|    111692|         42706| 30|\n",
      "|   d009| 10011|1953-11-07|      Mary|    Sluis|     F|1990-01-22| 50927|           d009|    111692|         46154| 31|\n",
      "|   d009| 10011|1953-11-07|      Mary|    Sluis|     F|1990-01-22| 50927|           d009|    111692|         46488| 32|\n",
      "|   d009| 10011|1953-11-07|      Mary|    Sluis|     F|1990-01-22| 50927|           d009|    111692|         49839| 33|\n",
      "|   d009| 10011|1953-11-07|      Mary|    Sluis|     F|1990-01-22| 50927|           d009|    111784|         40000| 34|\n",
      "|   d009| 10011|1953-11-07|      Mary|    Sluis|     F|1990-01-22| 50927|           d009|    111784|         41189| 35|\n",
      "|   d009| 10011|1953-11-07|      Mary|    Sluis|     F|1990-01-22| 50927|           d009|    111784|         44026| 36|\n",
      "|   d009| 10011|1953-11-07|      Mary|    Sluis|     F|1990-01-22| 50927|           d009|    111784|         48315| 37|\n",
      "|   d009| 10011|1953-11-07|      Mary|    Sluis|     F|1990-01-22| 50927|           d009|    111784|         48079| 38|\n",
      "|   d009| 10011|1953-11-07|      Mary|    Sluis|     F|1990-01-22| 50927|           d009|    111784|         48181| 39|\n",
      "|   d009| 10011|1953-11-07|      Mary|    Sluis|     F|1990-01-22| 50927|           d009|    111784|         48273| 40|\n",
      "|   d009| 10011|1953-11-07|      Mary|    Sluis|     F|1990-01-22| 50927|           d009|    111784|         49770| 41|\n",
      "|   d009| 10011|1953-11-07|      Mary|    Sluis|     F|1990-01-22| 50927|           d009|    111939|         40000| 42|\n",
      "|   d009| 10011|1953-11-07|      Mary|    Sluis|     F|1990-01-22| 50927|           d009|    111939|         40285| 43|\n",
      "|   d009| 10011|1953-11-07|      Mary|    Sluis|     F|1990-01-22| 50927|           d009|    111939|         40514| 44|\n",
      "|   d009| 10011|1953-11-07|      Mary|    Sluis|     F|1990-01-22| 50927|           d009|    111939|         44046| 45|\n",
      "|   d009| 10011|1953-11-07|      Mary|    Sluis|     F|1990-01-22| 50927|           d009|    111939|         48317| 46|\n",
      "|   d009| 10011|1953-11-07|      Mary|    Sluis|     F|1990-01-22| 50927|           d009|    111939|         48325| 47|\n",
      "|   d009| 10011|1953-11-07|      Mary|    Sluis|     F|1990-01-22| 50927|           d009|    111939|         48905| 48|\n",
      "|   d009| 10011|1953-11-07|      Mary|    Sluis|     F|1990-01-22| 50927|           d009|    111939|         50555| 49|\n",
      "|   d009| 10011|1953-11-07|      Mary|    Sluis|     F|1990-01-22| 51470|           d009|    111692|         40000| 50|\n",
      "|   d009| 10011|1953-11-07|      Mary|    Sluis|     F|1990-01-22| 51470|           d009|    111692|         42706| 51|\n",
      "|   d009| 10011|1953-11-07|      Mary|    Sluis|     F|1990-01-22| 51470|           d009|    111692|         46154| 52|\n",
      "|   d009| 10011|1953-11-07|      Mary|    Sluis|     F|1990-01-22| 51470|           d009|    111692|         46488| 53|\n",
      "|   d009| 10011|1953-11-07|      Mary|    Sluis|     F|1990-01-22| 51470|           d009|    111692|         49839| 54|\n",
      "|   d009| 10011|1953-11-07|      Mary|    Sluis|     F|1990-01-22| 51470|           d009|    111784|         40000| 55|\n",
      "|   d009| 10011|1953-11-07|      Mary|    Sluis|     F|1990-01-22| 51470|           d009|    111784|         41189| 56|\n",
      "|   d009| 10011|1953-11-07|      Mary|    Sluis|     F|1990-01-22| 51470|           d009|    111784|         44026| 57|\n",
      "|   d009| 10011|1953-11-07|      Mary|    Sluis|     F|1990-01-22| 51470|           d009|    111784|         48315| 58|\n",
      "|   d009| 10011|1953-11-07|      Mary|    Sluis|     F|1990-01-22| 51470|           d009|    111784|         48079| 59|\n",
      "|   d009| 10011|1953-11-07|      Mary|    Sluis|     F|1990-01-22| 51470|           d009|    111784|         48181| 60|\n",
      "|   d009| 10011|1953-11-07|      Mary|    Sluis|     F|1990-01-22| 51470|           d009|    111784|         48273| 61|\n",
      "|   d009| 10011|1953-11-07|      Mary|    Sluis|     F|1990-01-22| 51470|           d009|    111784|         49770| 62|\n",
      "|   d009| 10011|1953-11-07|      Mary|    Sluis|     F|1990-01-22| 51470|           d009|    111939|         40000| 63|\n",
      "|   d009| 10011|1953-11-07|      Mary|    Sluis|     F|1990-01-22| 51470|           d009|    111939|         40285| 64|\n",
      "|   d009| 10011|1953-11-07|      Mary|    Sluis|     F|1990-01-22| 51470|           d009|    111939|         40514| 65|\n",
      "|   d009| 10011|1953-11-07|      Mary|    Sluis|     F|1990-01-22| 51470|           d009|    111939|         44046| 66|\n",
      "|   d009| 10011|1953-11-07|      Mary|    Sluis|     F|1990-01-22| 51470|           d009|    111939|         48317| 67|\n",
      "|   d009| 10011|1953-11-07|      Mary|    Sluis|     F|1990-01-22| 51470|           d009|    111939|         48325| 68|\n",
      "|   d009| 10011|1953-11-07|      Mary|    Sluis|     F|1990-01-22| 51470|           d009|    111939|         48905| 69|\n",
      "|   d009| 10011|1953-11-07|      Mary|    Sluis|     F|1990-01-22| 51470|           d009|    111939|         50555| 70|\n",
      "|   d009| 10011|1953-11-07|      Mary|    Sluis|     F|1990-01-22| 54545|           d009|    111692|         40000| 71|\n",
      "|   d009| 10011|1953-11-07|      Mary|    Sluis|     F|1990-01-22| 54545|           d009|    111692|         42706| 72|\n",
      "|   d009| 10011|1953-11-07|      Mary|    Sluis|     F|1990-01-22| 54545|           d009|    111692|         46154| 73|\n",
      "|   d009| 10011|1953-11-07|      Mary|    Sluis|     F|1990-01-22| 54545|           d009|    111692|         46488| 74|\n",
      "|   d009| 10011|1953-11-07|      Mary|    Sluis|     F|1990-01-22| 54545|           d009|    111692|         49839| 75|\n",
      "|   d009| 10011|1953-11-07|      Mary|    Sluis|     F|1990-01-22| 54545|           d009|    111692|         51810| 76|\n",
      "|   d009| 10011|1953-11-07|      Mary|    Sluis|     F|1990-01-22| 54545|           d009|    111877|         53846| 77|\n",
      "|   d009| 10011|1953-11-07|      Mary|    Sluis|     F|1990-01-22| 54545|           d009|    111877|         54158| 78|\n",
      "|   d009| 10011|1953-11-07|      Mary|    Sluis|     F|1990-01-22| 54545|           d009|    111784|         40000| 79|\n",
      "|   d009| 10011|1953-11-07|      Mary|    Sluis|     F|1990-01-22| 54545|           d009|    111784|         41189| 80|\n",
      "|   d009| 10011|1953-11-07|      Mary|    Sluis|     F|1990-01-22| 54545|           d009|    111784|         44026| 81|\n",
      "|   d009| 10011|1953-11-07|      Mary|    Sluis|     F|1990-01-22| 54545|           d009|    111784|         48315| 82|\n",
      "|   d009| 10011|1953-11-07|      Mary|    Sluis|     F|1990-01-22| 54545|           d009|    111784|         48079| 83|\n",
      "|   d009| 10011|1953-11-07|      Mary|    Sluis|     F|1990-01-22| 54545|           d009|    111784|         48181| 84|\n",
      "|   d009| 10011|1953-11-07|      Mary|    Sluis|     F|1990-01-22| 54545|           d009|    111784|         48273| 85|\n",
      "|   d009| 10011|1953-11-07|      Mary|    Sluis|     F|1990-01-22| 54545|           d009|    111784|         49770| 86|\n",
      "|   d009| 10011|1953-11-07|      Mary|    Sluis|     F|1990-01-22| 54545|           d009|    111784|         51900| 87|\n",
      "|   d009| 10011|1953-11-07|      Mary|    Sluis|     F|1990-01-22| 54545|           d009|    111784|         52121| 88|\n",
      "|   d009| 10011|1953-11-07|      Mary|    Sluis|     F|1990-01-22| 54545|           d009|    111784|         54187| 89|\n",
      "|   d009| 10011|1953-11-07|      Mary|    Sluis|     F|1990-01-22| 54545|           d009|    111784|         54138| 90|\n",
      "|   d009| 10011|1953-11-07|      Mary|    Sluis|     F|1990-01-22| 54545|           d009|    111784|         54183| 91|\n",
      "|   d009| 10011|1953-11-07|      Mary|    Sluis|     F|1990-01-22| 54545|           d009|    111939|         40000| 92|\n",
      "|   d009| 10011|1953-11-07|      Mary|    Sluis|     F|1990-01-22| 54545|           d009|    111939|         40285| 93|\n",
      "|   d009| 10011|1953-11-07|      Mary|    Sluis|     F|1990-01-22| 54545|           d009|    111939|         40514| 94|\n",
      "|   d009| 10011|1953-11-07|      Mary|    Sluis|     F|1990-01-22| 54545|           d009|    111939|         44046| 95|\n",
      "|   d009| 10011|1953-11-07|      Mary|    Sluis|     F|1990-01-22| 54545|           d009|    111939|         48317| 96|\n",
      "|   d009| 10011|1953-11-07|      Mary|    Sluis|     F|1990-01-22| 54545|           d009|    111939|         48325| 97|\n",
      "|   d009| 10011|1953-11-07|      Mary|    Sluis|     F|1990-01-22| 54545|           d009|    111939|         48905| 98|\n",
      "|   d009| 10011|1953-11-07|      Mary|    Sluis|     F|1990-01-22| 54545|           d009|    111939|         50555| 99|\n",
      "|   d009| 10011|1953-11-07|      Mary|    Sluis|     F|1990-01-22| 54545|           d009|    111939|         51812|100|\n",
      "|   d009| 10011|1953-11-07|      Mary|    Sluis|     F|1990-01-22| 54545|           d009|    111939|         52051|101|\n",
      "|   d009| 10011|1953-11-07|      Mary|    Sluis|     F|1990-01-22| 56753|           d009|    111692|         40000|102|\n",
      "|   d009| 10011|1953-11-07|      Mary|    Sluis|     F|1990-01-22| 56753|           d009|    111692|         42706|103|\n",
      "|   d009| 10011|1953-11-07|      Mary|    Sluis|     F|1990-01-22| 56753|           d009|    111692|         46154|104|\n",
      "|   d009| 10011|1953-11-07|      Mary|    Sluis|     F|1990-01-22| 56753|           d009|    111692|         46488|105|\n",
      "|   d009| 10011|1953-11-07|      Mary|    Sluis|     F|1990-01-22| 56753|           d009|    111692|         49839|106|\n",
      "|   d009| 10011|1953-11-07|      Mary|    Sluis|     F|1990-01-22| 56753|           d009|    111692|         51810|107|\n",
      "|   d009| 10011|1953-11-07|      Mary|    Sluis|     F|1990-01-22| 56753|           d009|    111692|         54618|108|\n",
      "|   d009| 10011|1953-11-07|      Mary|    Sluis|     F|1990-01-22| 56753|           d009|    111692|         55108|109|\n",
      "|   d009| 10011|1953-11-07|      Mary|    Sluis|     F|1990-01-22| 56753|           d009|    111877|         53846|110|\n",
      "|   d009| 10011|1953-11-07|      Mary|    Sluis|     F|1990-01-22| 56753|           d009|    111877|         54158|111|\n",
      "|   d009| 10011|1953-11-07|      Mary|    Sluis|     F|1990-01-22| 56753|           d009|    111784|         40000|112|\n",
      "|   d009| 10011|1953-11-07|      Mary|    Sluis|     F|1990-01-22| 56753|           d009|    111784|         41189|113|\n",
      "|   d009| 10011|1953-11-07|      Mary|    Sluis|     F|1990-01-22| 56753|           d009|    111784|         44026|114|\n",
      "|   d009| 10011|1953-11-07|      Mary|    Sluis|     F|1990-01-22| 56753|           d009|    111784|         48315|115|\n",
      "|   d009| 10011|1953-11-07|      Mary|    Sluis|     F|1990-01-22| 56753|           d009|    111784|         48079|116|\n",
      "|   d009| 10011|1953-11-07|      Mary|    Sluis|     F|1990-01-22| 56753|           d009|    111784|         48181|117|\n",
      "|   d009| 10011|1953-11-07|      Mary|    Sluis|     F|1990-01-22| 56753|           d009|    111784|         48273|118|\n",
      "|   d009| 10011|1953-11-07|      Mary|    Sluis|     F|1990-01-22| 56753|           d009|    111784|         49770|119|\n",
      "|   d009| 10011|1953-11-07|      Mary|    Sluis|     F|1990-01-22| 56753|           d009|    111784|         51900|120|\n",
      "|   d009| 10011|1953-11-07|      Mary|    Sluis|     F|1990-01-22| 56753|           d009|    111784|         52121|121|\n",
      "|   d009| 10011|1953-11-07|      Mary|    Sluis|     F|1990-01-22| 56753|           d009|    111784|         54187|122|\n",
      "|   d009| 10011|1953-11-07|      Mary|    Sluis|     F|1990-01-22| 56753|           d009|    111784|         54138|123|\n",
      "|   d009| 10011|1953-11-07|      Mary|    Sluis|     F|1990-01-22| 56753|           d009|    111784|         54183|124|\n",
      "|   d009| 10011|1953-11-07|      Mary|    Sluis|     F|1990-01-22| 56753|           d009|    111939|         40000|125|\n",
      "|   d009| 10011|1953-11-07|      Mary|    Sluis|     F|1990-01-22| 56753|           d009|    111939|         40285|126|\n",
      "|   d009| 10011|1953-11-07|      Mary|    Sluis|     F|1990-01-22| 56753|           d009|    111939|         40514|127|\n",
      "|   d009| 10011|1953-11-07|      Mary|    Sluis|     F|1990-01-22| 56753|           d009|    111939|         44046|128|\n",
      "|   d009| 10011|1953-11-07|      Mary|    Sluis|     F|1990-01-22| 56753|           d009|    111939|         48317|129|\n",
      "|   d009| 10011|1953-11-07|      Mary|    Sluis|     F|1990-01-22| 56753|           d009|    111939|         48325|130|\n",
      "|   d009| 10011|1953-11-07|      Mary|    Sluis|     F|1990-01-22| 56753|           d009|    111939|         48905|131|\n",
      "|   d009| 10011|1953-11-07|      Mary|    Sluis|     F|1990-01-22| 56753|           d009|    111939|         50555|132|\n",
      "|   d009| 10011|1953-11-07|      Mary|    Sluis|     F|1990-01-22| 56753|           d009|    111939|         51812|133|\n",
      "|   d009| 10011|1953-11-07|      Mary|    Sluis|     F|1990-01-22| 56753|           d009|    111939|         52051|134|\n",
      "|   d009| 10011|1953-11-07|      Mary|    Sluis|     F|1990-01-22| 56753|           d009|    111939|         56454|135|\n",
      "|   d003| 10013|1963-06-07| Eberhardt|   Terkki|     M|1985-10-20| 40623|           d003|    110228|         40000|  1|\n",
      "|   d003| 10013|1963-06-07| Eberhardt|   Terkki|     M|1985-10-20| 40561|           d003|    110228|         40000|  2|\n",
      "|   d003| 10013|1963-06-07| Eberhardt|   Terkki|     M|1985-10-20| 40306|           d003|    110228|         40000|  3|\n",
      "|   d003| 10013|1963-06-07| Eberhardt|   Terkki|     M|1985-10-20| 43569|           d003|    110228|         40000|  4|\n",
      "|   d003| 10013|1963-06-07| Eberhardt|   Terkki|     M|1985-10-20| 43569|           d003|    110228|         43069|  5|\n",
      "|   d003| 10013|1963-06-07| Eberhardt|   Terkki|     M|1985-10-20| 46305|           d003|    110228|         40000|  6|\n",
      "|   d003| 10013|1963-06-07| Eberhardt|   Terkki|     M|1985-10-20| 46305|           d003|    110228|         43069|  7|\n",
      "|   d003| 10013|1963-06-07| Eberhardt|   Terkki|     M|1985-10-20| 46305|           d003|    110228|         44284|  8|\n",
      "|   d003| 10013|1963-06-07| Eberhardt|   Terkki|     M|1985-10-20| 47118|           d003|    110228|         40000|  9|\n",
      "|   d003| 10013|1963-06-07| Eberhardt|   Terkki|     M|1985-10-20| 47118|           d003|    110228|         43069| 10|\n",
      "|   d003| 10013|1963-06-07| Eberhardt|   Terkki|     M|1985-10-20| 47118|           d003|    110228|         44284| 11|\n",
      "|   d003| 10013|1963-06-07| Eberhardt|   Terkki|     M|1985-10-20| 50351|           d003|    110228|         40000| 12|\n",
      "|   d003| 10013|1963-06-07| Eberhardt|   Terkki|     M|1985-10-20| 50351|           d003|    110228|         43069| 13|\n",
      "|   d003| 10013|1963-06-07| Eberhardt|   Terkki|     M|1985-10-20| 50351|           d003|    110228|         44284| 14|\n",
      "|   d003| 10013|1963-06-07| Eberhardt|   Terkki|     M|1985-10-20| 50351|           d003|    110228|         47816| 15|\n",
      "|   d003| 10013|1963-06-07| Eberhardt|   Terkki|     M|1985-10-20| 50351|           d003|    110228|         49541| 16|\n",
      "|   d003| 10013|1963-06-07| Eberhardt|   Terkki|     M|1985-10-20| 50351|           d003|    110228|         49547| 17|\n",
      "|   d003| 10013|1963-06-07| Eberhardt|   Terkki|     M|1985-10-20| 50351|           d003|    110228|         50122| 18|\n",
      "|   d003| 10013|1963-06-07| Eberhardt|   Terkki|     M|1985-10-20| 50351|           d003|    110228|         49867| 19|\n",
      "|   d003| 10013|1963-06-07| Eberhardt|   Terkki|     M|1985-10-20| 50351|           d003|    110183|         48291| 20|\n",
      "|   d003| 10013|1963-06-07| Eberhardt|   Terkki|     M|1985-10-20| 50351|           d003|    110183|         50319| 21|\n",
      "|   d003| 10013|1963-06-07| Eberhardt|   Terkki|     M|1985-10-20| 49887|           d003|    110228|         40000| 22|\n",
      "|   d003| 10013|1963-06-07| Eberhardt|   Terkki|     M|1985-10-20| 49887|           d003|    110228|         43069| 23|\n",
      "|   d003| 10013|1963-06-07| Eberhardt|   Terkki|     M|1985-10-20| 49887|           d003|    110228|         44284| 24|\n",
      "|   d003| 10013|1963-06-07| Eberhardt|   Terkki|     M|1985-10-20| 49887|           d003|    110228|         47816| 25|\n",
      "|   d003| 10013|1963-06-07| Eberhardt|   Terkki|     M|1985-10-20| 49887|           d003|    110228|         49541| 26|\n",
      "|   d003| 10013|1963-06-07| Eberhardt|   Terkki|     M|1985-10-20| 49887|           d003|    110228|         49547| 27|\n",
      "|   d003| 10013|1963-06-07| Eberhardt|   Terkki|     M|1985-10-20| 49887|           d003|    110228|         49867| 28|\n",
      "|   d003| 10013|1963-06-07| Eberhardt|   Terkki|     M|1985-10-20| 49887|           d003|    110183|         48291| 29|\n",
      "|   d003| 10013|1963-06-07| Eberhardt|   Terkki|     M|1985-10-20| 53957|           d003|    110228|         40000| 30|\n",
      "|   d003| 10013|1963-06-07| Eberhardt|   Terkki|     M|1985-10-20| 53957|           d003|    110228|         43069| 31|\n",
      "|   d003| 10013|1963-06-07| Eberhardt|   Terkki|     M|1985-10-20| 53957|           d003|    110228|         44284| 32|\n",
      "|   d003| 10013|1963-06-07| Eberhardt|   Terkki|     M|1985-10-20| 53957|           d003|    110228|         47816| 33|\n",
      "|   d003| 10013|1963-06-07| Eberhardt|   Terkki|     M|1985-10-20| 53957|           d003|    110228|         49541| 34|\n",
      "|   d003| 10013|1963-06-07| Eberhardt|   Terkki|     M|1985-10-20| 53957|           d003|    110228|         49547| 35|\n",
      "|   d003| 10013|1963-06-07| Eberhardt|   Terkki|     M|1985-10-20| 53957|           d003|    110228|         50122| 36|\n",
      "|   d003| 10013|1963-06-07| Eberhardt|   Terkki|     M|1985-10-20| 53957|           d003|    110228|         49867| 37|\n",
      "|   d003| 10013|1963-06-07| Eberhardt|   Terkki|     M|1985-10-20| 53957|           d003|    110228|         51472| 38|\n",
      "|   d003| 10013|1963-06-07| Eberhardt|   Terkki|     M|1985-10-20| 53957|           d003|    110183|         48291| 39|\n",
      "|   d003| 10013|1963-06-07| Eberhardt|   Terkki|     M|1985-10-20| 53957|           d003|    110183|         50319| 40|\n",
      "|   d003| 10013|1963-06-07| Eberhardt|   Terkki|     M|1985-10-20| 53957|           d003|    110183|         51622| 41|\n",
      "|   d003| 10013|1963-06-07| Eberhardt|   Terkki|     M|1985-10-20| 53957|           d003|    110183|         51298| 42|\n",
      "|   d003| 10013|1963-06-07| Eberhardt|   Terkki|     M|1985-10-20| 57590|           d003|    110228|         40000| 43|\n",
      "|   d003| 10013|1963-06-07| Eberhardt|   Terkki|     M|1985-10-20| 57590|           d003|    110228|         43069| 44|\n",
      "|   d003| 10013|1963-06-07| Eberhardt|   Terkki|     M|1985-10-20| 57590|           d003|    110228|         44284| 45|\n",
      "|   d003| 10013|1963-06-07| Eberhardt|   Terkki|     M|1985-10-20| 57590|           d003|    110228|         47816| 46|\n",
      "|   d003| 10013|1963-06-07| Eberhardt|   Terkki|     M|1985-10-20| 57590|           d003|    110228|         49541| 47|\n",
      "|   d003| 10013|1963-06-07| Eberhardt|   Terkki|     M|1985-10-20| 57590|           d003|    110228|         49547| 48|\n",
      "|   d003| 10013|1963-06-07| Eberhardt|   Terkki|     M|1985-10-20| 57590|           d003|    110228|         50122| 49|\n",
      "|   d003| 10013|1963-06-07| Eberhardt|   Terkki|     M|1985-10-20| 57590|           d003|    110228|         49867| 50|\n",
      "|   d003| 10013|1963-06-07| Eberhardt|   Terkki|     M|1985-10-20| 57590|           d003|    110228|         51472| 51|\n",
      "|   d003| 10013|1963-06-07| Eberhardt|   Terkki|     M|1985-10-20| 57590|           d003|    110228|         55445| 52|\n",
      "|   d003| 10013|1963-06-07| Eberhardt|   Terkki|     M|1985-10-20| 57590|           d003|    110228|         55733| 53|\n",
      "|   d003| 10013|1963-06-07| Eberhardt|   Terkki|     M|1985-10-20| 57590|           d003|    110228|         57431| 54|\n",
      "|   d003| 10013|1963-06-07| Eberhardt|   Terkki|     M|1985-10-20| 57590|           d003|    110183|         48291| 55|\n",
      "|   d003| 10013|1963-06-07| Eberhardt|   Terkki|     M|1985-10-20| 57590|           d003|    110183|         50319| 56|\n",
      "|   d003| 10013|1963-06-07| Eberhardt|   Terkki|     M|1985-10-20| 57590|           d003|    110183|         51622| 57|\n",
      "|   d003| 10013|1963-06-07| Eberhardt|   Terkki|     M|1985-10-20| 57590|           d003|    110183|         51298| 58|\n",
      "|   d003| 10013|1963-06-07| Eberhardt|   Terkki|     M|1985-10-20| 57590|           d003|    110183|         55582| 59|\n",
      "|   d003| 10013|1963-06-07| Eberhardt|   Terkki|     M|1985-10-20| 57590|           d003|    110183|         57197| 60|\n",
      "|   d003| 10013|1963-06-07| Eberhardt|   Terkki|     M|1985-10-20| 59228|           d003|    110228|         40000| 61|\n",
      "|   d003| 10013|1963-06-07| Eberhardt|   Terkki|     M|1985-10-20| 59228|           d003|    110228|         43069| 62|\n",
      "|   d003| 10013|1963-06-07| Eberhardt|   Terkki|     M|1985-10-20| 59228|           d003|    110228|         44284| 63|\n",
      "|   d003| 10013|1963-06-07| Eberhardt|   Terkki|     M|1985-10-20| 59228|           d003|    110228|         47816| 64|\n",
      "|   d003| 10013|1963-06-07| Eberhardt|   Terkki|     M|1985-10-20| 59228|           d003|    110228|         49541| 65|\n",
      "|   d003| 10013|1963-06-07| Eberhardt|   Terkki|     M|1985-10-20| 59228|           d003|    110228|         49547| 66|\n",
      "|   d003| 10013|1963-06-07| Eberhardt|   Terkki|     M|1985-10-20| 59228|           d003|    110228|         50122| 67|\n",
      "|   d003| 10013|1963-06-07| Eberhardt|   Terkki|     M|1985-10-20| 59228|           d003|    110228|         49867| 68|\n",
      "|   d003| 10013|1963-06-07| Eberhardt|   Terkki|     M|1985-10-20| 59228|           d003|    110228|         51472| 69|\n",
      "|   d003| 10013|1963-06-07| Eberhardt|   Terkki|     M|1985-10-20| 59228|           d003|    110228|         55445| 70|\n",
      "|   d003| 10013|1963-06-07| Eberhardt|   Terkki|     M|1985-10-20| 59228|           d003|    110228|         55733| 71|\n",
      "|   d003| 10013|1963-06-07| Eberhardt|   Terkki|     M|1985-10-20| 59228|           d003|    110228|         57431| 72|\n",
      "|   d003| 10013|1963-06-07| Eberhardt|   Terkki|     M|1985-10-20| 59228|           d003|    110228|         58932| 73|\n",
      "|   d003| 10013|1963-06-07| Eberhardt|   Terkki|     M|1985-10-20| 59228|           d003|    110183|         48291| 74|\n",
      "|   d003| 10013|1963-06-07| Eberhardt|   Terkki|     M|1985-10-20| 59228|           d003|    110183|         50319| 75|\n",
      "|   d003| 10013|1963-06-07| Eberhardt|   Terkki|     M|1985-10-20| 59228|           d003|    110183|         51622| 76|\n",
      "|   d003| 10013|1963-06-07| Eberhardt|   Terkki|     M|1985-10-20| 59228|           d003|    110183|         51298| 77|\n",
      "|   d003| 10013|1963-06-07| Eberhardt|   Terkki|     M|1985-10-20| 59228|           d003|    110183|         55582| 78|\n",
      "|   d003| 10013|1963-06-07| Eberhardt|   Terkki|     M|1985-10-20| 59228|           d003|    110183|         57197| 79|\n",
      "|   d003| 10013|1963-06-07| Eberhardt|   Terkki|     M|1985-10-20| 59571|           d003|    110228|         40000| 80|\n",
      "|   d003| 10013|1963-06-07| Eberhardt|   Terkki|     M|1985-10-20| 59571|           d003|    110228|         43069| 81|\n",
      "|   d003| 10013|1963-06-07| Eberhardt|   Terkki|     M|1985-10-20| 59571|           d003|    110228|         44284| 82|\n",
      "|   d003| 10013|1963-06-07| Eberhardt|   Terkki|     M|1985-10-20| 59571|           d003|    110228|         47816| 83|\n",
      "|   d003| 10013|1963-06-07| Eberhardt|   Terkki|     M|1985-10-20| 59571|           d003|    110228|         49541| 84|\n",
      "|   d003| 10013|1963-06-07| Eberhardt|   Terkki|     M|1985-10-20| 59571|           d003|    110228|         49547| 85|\n",
      "|   d003| 10013|1963-06-07| Eberhardt|   Terkki|     M|1985-10-20| 59571|           d003|    110228|         50122| 86|\n",
      "|   d003| 10013|1963-06-07| Eberhardt|   Terkki|     M|1985-10-20| 59571|           d003|    110228|         49867| 87|\n",
      "|   d003| 10013|1963-06-07| Eberhardt|   Terkki|     M|1985-10-20| 59571|           d003|    110228|         51472| 88|\n",
      "|   d003| 10013|1963-06-07| Eberhardt|   Terkki|     M|1985-10-20| 59571|           d003|    110228|         55445| 89|\n",
      "|   d003| 10013|1963-06-07| Eberhardt|   Terkki|     M|1985-10-20| 59571|           d003|    110228|         55733| 90|\n",
      "|   d003| 10013|1963-06-07| Eberhardt|   Terkki|     M|1985-10-20| 59571|           d003|    110228|         57431| 91|\n",
      "|   d003| 10013|1963-06-07| Eberhardt|   Terkki|     M|1985-10-20| 59571|           d003|    110228|         58932| 92|\n",
      "|   d003| 10013|1963-06-07| Eberhardt|   Terkki|     M|1985-10-20| 59571|           d003|    110228|         59259| 93|\n",
      "|   d003| 10013|1963-06-07| Eberhardt|   Terkki|     M|1985-10-20| 59571|           d003|    110183|         48291| 94|\n",
      "|   d003| 10013|1963-06-07| Eberhardt|   Terkki|     M|1985-10-20| 59571|           d003|    110183|         50319| 95|\n",
      "|   d003| 10013|1963-06-07| Eberhardt|   Terkki|     M|1985-10-20| 59571|           d003|    110183|         51622| 96|\n",
      "|   d003| 10013|1963-06-07| Eberhardt|   Terkki|     M|1985-10-20| 59571|           d003|    110183|         51298| 97|\n",
      "|   d003| 10013|1963-06-07| Eberhardt|   Terkki|     M|1985-10-20| 59571|           d003|    110183|         55582| 98|\n",
      "|   d003| 10013|1963-06-07| Eberhardt|   Terkki|     M|1985-10-20| 59571|           d003|    110183|         57197| 99|\n",
      "|   d003| 10013|1963-06-07| Eberhardt|   Terkki|     M|1985-10-20| 63274|           d003|    110228|         40000|100|\n",
      "|   d003| 10013|1963-06-07| Eberhardt|   Terkki|     M|1985-10-20| 63274|           d003|    110228|         43069|101|\n",
      "|   d003| 10013|1963-06-07| Eberhardt|   Terkki|     M|1985-10-20| 63274|           d003|    110228|         44284|102|\n",
      "|   d003| 10013|1963-06-07| Eberhardt|   Terkki|     M|1985-10-20| 63274|           d003|    110228|         47816|103|\n",
      "|   d003| 10013|1963-06-07| Eberhardt|   Terkki|     M|1985-10-20| 63274|           d003|    110228|         49541|104|\n",
      "|   d003| 10013|1963-06-07| Eberhardt|   Terkki|     M|1985-10-20| 63274|           d003|    110228|         49547|105|\n",
      "|   d003| 10013|1963-06-07| Eberhardt|   Terkki|     M|1985-10-20| 63274|           d003|    110228|         50122|106|\n",
      "|   d003| 10013|1963-06-07| Eberhardt|   Terkki|     M|1985-10-20| 63274|           d003|    110228|         49867|107|\n",
      "|   d003| 10013|1963-06-07| Eberhardt|   Terkki|     M|1985-10-20| 63274|           d003|    110228|         51472|108|\n",
      "|   d003| 10013|1963-06-07| Eberhardt|   Terkki|     M|1985-10-20| 63274|           d003|    110228|         55445|109|\n",
      "|   d003| 10013|1963-06-07| Eberhardt|   Terkki|     M|1985-10-20| 63274|           d003|    110228|         55733|110|\n",
      "|   d003| 10013|1963-06-07| Eberhardt|   Terkki|     M|1985-10-20| 63274|           d003|    110228|         57431|111|\n",
      "|   d003| 10013|1963-06-07| Eberhardt|   Terkki|     M|1985-10-20| 63274|           d003|    110228|         58932|112|\n",
      "|   d003| 10013|1963-06-07| Eberhardt|   Terkki|     M|1985-10-20| 63274|           d003|    110228|         59259|113|\n",
      "|   d003| 10013|1963-06-07| Eberhardt|   Terkki|     M|1985-10-20| 63274|           d003|    110228|         61684|114|\n",
      "|   d003| 10013|1963-06-07| Eberhardt|   Terkki|     M|1985-10-20| 63274|           d003|    110228|         62596|115|\n",
      "|   d003| 10013|1963-06-07| Eberhardt|   Terkki|     M|1985-10-20| 63274|           d003|    110228|         62276|116|\n",
      "|   d003| 10013|1963-06-07| Eberhardt|   Terkki|     M|1985-10-20| 63274|           d003|    110183|         48291|117|\n",
      "|   d003| 10013|1963-06-07| Eberhardt|   Terkki|     M|1985-10-20| 63274|           d003|    110183|         50319|118|\n",
      "|   d003| 10013|1963-06-07| Eberhardt|   Terkki|     M|1985-10-20| 63274|           d003|    110183|         51622|119|\n",
      "|   d003| 10013|1963-06-07| Eberhardt|   Terkki|     M|1985-10-20| 63274|           d003|    110183|         51298|120|\n",
      "|   d003| 10013|1963-06-07| Eberhardt|   Terkki|     M|1985-10-20| 63274|           d003|    110183|         55582|121|\n",
      "|   d003| 10013|1963-06-07| Eberhardt|   Terkki|     M|1985-10-20| 63274|           d003|    110183|         57197|122|\n",
      "|   d003| 10013|1963-06-07| Eberhardt|   Terkki|     M|1985-10-20| 63274|           d003|    110183|         59629|123|\n",
      "|   d003| 10013|1963-06-07| Eberhardt|   Terkki|     M|1985-10-20| 63274|           d003|    110183|         60356|124|\n",
      "|   d003| 10013|1963-06-07| Eberhardt|   Terkki|     M|1985-10-20| 63274|           d003|    110183|         63190|125|\n",
      "|   d003| 10013|1963-06-07| Eberhardt|   Terkki|     M|1985-10-20| 63352|           d003|    110228|         40000|126|\n",
      "|   d003| 10013|1963-06-07| Eberhardt|   Terkki|     M|1985-10-20| 63352|           d003|    110228|         43069|127|\n",
      "|   d003| 10013|1963-06-07| Eberhardt|   Terkki|     M|1985-10-20| 63352|           d003|    110228|         44284|128|\n",
      "|   d003| 10013|1963-06-07| Eberhardt|   Terkki|     M|1985-10-20| 63352|           d003|    110228|         47816|129|\n",
      "|   d003| 10013|1963-06-07| Eberhardt|   Terkki|     M|1985-10-20| 63352|           d003|    110228|         49541|130|\n",
      "|   d003| 10013|1963-06-07| Eberhardt|   Terkki|     M|1985-10-20| 63352|           d003|    110228|         49547|131|\n",
      "|   d003| 10013|1963-06-07| Eberhardt|   Terkki|     M|1985-10-20| 63352|           d003|    110228|         50122|132|\n",
      "|   d003| 10013|1963-06-07| Eberhardt|   Terkki|     M|1985-10-20| 63352|           d003|    110228|         49867|133|\n",
      "|   d003| 10013|1963-06-07| Eberhardt|   Terkki|     M|1985-10-20| 63352|           d003|    110228|         51472|134|\n",
      "|   d003| 10013|1963-06-07| Eberhardt|   Terkki|     M|1985-10-20| 63352|           d003|    110228|         55445|135|\n",
      "|   d003| 10013|1963-06-07| Eberhardt|   Terkki|     M|1985-10-20| 63352|           d003|    110228|         55733|136|\n",
      "|   d003| 10013|1963-06-07| Eberhardt|   Terkki|     M|1985-10-20| 63352|           d003|    110228|         57431|137|\n",
      "|   d003| 10013|1963-06-07| Eberhardt|   Terkki|     M|1985-10-20| 63352|           d003|    110228|         58932|138|\n",
      "|   d003| 10013|1963-06-07| Eberhardt|   Terkki|     M|1985-10-20| 63352|           d003|    110228|         59259|139|\n",
      "|   d003| 10013|1963-06-07| Eberhardt|   Terkki|     M|1985-10-20| 63352|           d003|    110228|         61684|140|\n",
      "|   d003| 10013|1963-06-07| Eberhardt|   Terkki|     M|1985-10-20| 63352|           d003|    110228|         62596|141|\n",
      "|   d003| 10013|1963-06-07| Eberhardt|   Terkki|     M|1985-10-20| 63352|           d003|    110228|         62276|142|\n",
      "|   d003| 10013|1963-06-07| Eberhardt|   Terkki|     M|1985-10-20| 63352|           d003|    110183|         48291|143|\n",
      "|   d003| 10013|1963-06-07| Eberhardt|   Terkki|     M|1985-10-20| 63352|           d003|    110183|         50319|144|\n",
      "|   d003| 10013|1963-06-07| Eberhardt|   Terkki|     M|1985-10-20| 63352|           d003|    110183|         51622|145|\n",
      "|   d003| 10013|1963-06-07| Eberhardt|   Terkki|     M|1985-10-20| 63352|           d003|    110183|         51298|146|\n",
      "|   d003| 10013|1963-06-07| Eberhardt|   Terkki|     M|1985-10-20| 63352|           d003|    110183|         55582|147|\n",
      "|   d003| 10013|1963-06-07| Eberhardt|   Terkki|     M|1985-10-20| 63352|           d003|    110183|         57197|148|\n",
      "|   d003| 10013|1963-06-07| Eberhardt|   Terkki|     M|1985-10-20| 63352|           d003|    110183|         59629|149|\n",
      "|   d003| 10013|1963-06-07| Eberhardt|   Terkki|     M|1985-10-20| 63352|           d003|    110183|         60356|150|\n",
      "|   d003| 10013|1963-06-07| Eberhardt|   Terkki|     M|1985-10-20| 63352|           d003|    110183|         63190|151|\n",
      "|   d003| 10013|1963-06-07| Eberhardt|   Terkki|     M|1985-10-20| 66744|           d003|    110228|         40000|152|\n",
      "|   d003| 10013|1963-06-07| Eberhardt|   Terkki|     M|1985-10-20| 66744|           d003|    110228|         43069|153|\n",
      "|   d003| 10013|1963-06-07| Eberhardt|   Terkki|     M|1985-10-20| 66744|           d003|    110228|         44284|154|\n",
      "|   d003| 10013|1963-06-07| Eberhardt|   Terkki|     M|1985-10-20| 66744|           d003|    110228|         47816|155|\n",
      "|   d003| 10013|1963-06-07| Eberhardt|   Terkki|     M|1985-10-20| 66744|           d003|    110228|         49541|156|\n",
      "|   d003| 10013|1963-06-07| Eberhardt|   Terkki|     M|1985-10-20| 66744|           d003|    110228|         49547|157|\n",
      "|   d003| 10013|1963-06-07| Eberhardt|   Terkki|     M|1985-10-20| 66744|           d003|    110228|         50122|158|\n",
      "|   d003| 10013|1963-06-07| Eberhardt|   Terkki|     M|1985-10-20| 66744|           d003|    110228|         49867|159|\n",
      "|   d003| 10013|1963-06-07| Eberhardt|   Terkki|     M|1985-10-20| 66744|           d003|    110228|         51472|160|\n",
      "|   d003| 10013|1963-06-07| Eberhardt|   Terkki|     M|1985-10-20| 66744|           d003|    110228|         55445|161|\n",
      "|   d003| 10013|1963-06-07| Eberhardt|   Terkki|     M|1985-10-20| 66744|           d003|    110228|         55733|162|\n",
      "|   d003| 10013|1963-06-07| Eberhardt|   Terkki|     M|1985-10-20| 66744|           d003|    110228|         57431|163|\n",
      "|   d003| 10013|1963-06-07| Eberhardt|   Terkki|     M|1985-10-20| 66744|           d003|    110228|         58932|164|\n",
      "|   d003| 10013|1963-06-07| Eberhardt|   Terkki|     M|1985-10-20| 66744|           d003|    110228|         59259|165|\n",
      "|   d003| 10013|1963-06-07| Eberhardt|   Terkki|     M|1985-10-20| 66744|           d003|    110228|         61684|166|\n",
      "|   d003| 10013|1963-06-07| Eberhardt|   Terkki|     M|1985-10-20| 66744|           d003|    110228|         62596|167|\n",
      "|   d003| 10013|1963-06-07| Eberhardt|   Terkki|     M|1985-10-20| 66744|           d003|    110228|         62276|168|\n",
      "|   d003| 10013|1963-06-07| Eberhardt|   Terkki|     M|1985-10-20| 66744|           d003|    110228|         65400|169|\n",
      "|   d003| 10013|1963-06-07| Eberhardt|   Terkki|     M|1985-10-20| 66744|           d003|    110183|         48291|170|\n",
      "|   d003| 10013|1963-06-07| Eberhardt|   Terkki|     M|1985-10-20| 66744|           d003|    110183|         50319|171|\n",
      "|   d003| 10013|1963-06-07| Eberhardt|   Terkki|     M|1985-10-20| 66744|           d003|    110183|         51622|172|\n",
      "|   d003| 10013|1963-06-07| Eberhardt|   Terkki|     M|1985-10-20| 66744|           d003|    110183|         51298|173|\n",
      "|   d003| 10013|1963-06-07| Eberhardt|   Terkki|     M|1985-10-20| 66744|           d003|    110183|         55582|174|\n",
      "|   d003| 10013|1963-06-07| Eberhardt|   Terkki|     M|1985-10-20| 66744|           d003|    110183|         57197|175|\n",
      "|   d003| 10013|1963-06-07| Eberhardt|   Terkki|     M|1985-10-20| 66744|           d003|    110183|         59629|176|\n",
      "|   d003| 10013|1963-06-07| Eberhardt|   Terkki|     M|1985-10-20| 66744|           d003|    110183|         60356|177|\n",
      "|   d003| 10013|1963-06-07| Eberhardt|   Terkki|     M|1985-10-20| 66744|           d003|    110183|         63677|178|\n",
      "|   d003| 10013|1963-06-07| Eberhardt|   Terkki|     M|1985-10-20| 66744|           d003|    110183|         63190|179|\n",
      "|   d003| 10013|1963-06-07| Eberhardt|   Terkki|     M|1985-10-20| 66744|           d003|    110183|         64652|180|\n",
      "|   d003| 10013|1963-06-07| Eberhardt|   Terkki|     M|1985-10-20| 66744|           d003|    110183|         66530|181|\n",
      "|   d003| 10013|1963-06-07| Eberhardt|   Terkki|     M|1985-10-20| 68901|           d003|    110228|         40000|182|\n",
      "|   d003| 10013|1963-06-07| Eberhardt|   Terkki|     M|1985-10-20| 68901|           d003|    110228|         43069|183|\n",
      "|   d003| 10013|1963-06-07| Eberhardt|   Terkki|     M|1985-10-20| 68901|           d003|    110228|         44284|184|\n",
      "|   d003| 10013|1963-06-07| Eberhardt|   Terkki|     M|1985-10-20| 68901|           d003|    110228|         47816|185|\n",
      "|   d003| 10013|1963-06-07| Eberhardt|   Terkki|     M|1985-10-20| 68901|           d003|    110228|         49541|186|\n",
      "|   d003| 10013|1963-06-07| Eberhardt|   Terkki|     M|1985-10-20| 68901|           d003|    110228|         49547|187|\n",
      "|   d003| 10013|1963-06-07| Eberhardt|   Terkki|     M|1985-10-20| 68901|           d003|    110228|         50122|188|\n",
      "|   d003| 10013|1963-06-07| Eberhardt|   Terkki|     M|1985-10-20| 68901|           d003|    110228|         49867|189|\n",
      "|   d003| 10013|1963-06-07| Eberhardt|   Terkki|     M|1985-10-20| 68901|           d003|    110228|         51472|190|\n",
      "|   d003| 10013|1963-06-07| Eberhardt|   Terkki|     M|1985-10-20| 68901|           d003|    110228|         55445|191|\n",
      "|   d003| 10013|1963-06-07| Eberhardt|   Terkki|     M|1985-10-20| 68901|           d003|    110228|         55733|192|\n",
      "|   d003| 10013|1963-06-07| Eberhardt|   Terkki|     M|1985-10-20| 68901|           d003|    110228|         57431|193|\n",
      "|   d003| 10013|1963-06-07| Eberhardt|   Terkki|     M|1985-10-20| 68901|           d003|    110228|         58932|194|\n",
      "|   d003| 10013|1963-06-07| Eberhardt|   Terkki|     M|1985-10-20| 68901|           d003|    110228|         59259|195|\n",
      "|   d003| 10013|1963-06-07| Eberhardt|   Terkki|     M|1985-10-20| 68901|           d003|    110228|         61684|196|\n",
      "|   d003| 10013|1963-06-07| Eberhardt|   Terkki|     M|1985-10-20| 68901|           d003|    110228|         62596|197|\n",
      "|   d003| 10013|1963-06-07| Eberhardt|   Terkki|     M|1985-10-20| 68901|           d003|    110228|         62276|198|\n",
      "|   d003| 10013|1963-06-07| Eberhardt|   Terkki|     M|1985-10-20| 68901|           d003|    110228|         65400|199|\n",
      "|   d003| 10013|1963-06-07| Eberhardt|   Terkki|     M|1985-10-20| 68901|           d003|    110183|         48291|200|\n",
      "|   d003| 10013|1963-06-07| Eberhardt|   Terkki|     M|1985-10-20| 68901|           d003|    110183|         50319|201|\n",
      "|   d003| 10013|1963-06-07| Eberhardt|   Terkki|     M|1985-10-20| 68901|           d003|    110183|         51622|202|\n",
      "|   d003| 10013|1963-06-07| Eberhardt|   Terkki|     M|1985-10-20| 68901|           d003|    110183|         51298|203|\n",
      "|   d003| 10013|1963-06-07| Eberhardt|   Terkki|     M|1985-10-20| 68901|           d003|    110183|         55582|204|\n",
      "|   d003| 10013|1963-06-07| Eberhardt|   Terkki|     M|1985-10-20| 68901|           d003|    110183|         57197|205|\n",
      "|   d003| 10013|1963-06-07| Eberhardt|   Terkki|     M|1985-10-20| 68901|           d003|    110183|         59629|206|\n",
      "|   d003| 10013|1963-06-07| Eberhardt|   Terkki|     M|1985-10-20| 68901|           d003|    110183|         60356|207|\n",
      "|   d003| 10013|1963-06-07| Eberhardt|   Terkki|     M|1985-10-20| 68901|           d003|    110183|         63677|208|\n",
      "|   d003| 10013|1963-06-07| Eberhardt|   Terkki|     M|1985-10-20| 68901|           d003|    110183|         63190|209|\n",
      "|   d003| 10013|1963-06-07| Eberhardt|   Terkki|     M|1985-10-20| 68901|           d003|    110183|         64652|210|\n",
      "|   d003| 10013|1963-06-07| Eberhardt|   Terkki|     M|1985-10-20| 68901|           d003|    110183|         66530|211|\n",
      "|   d003| 10013|1963-06-07| Eberhardt|   Terkki|     M|1985-10-20| 68901|           d003|    110183|         67423|212|\n",
      "|   d005| 10018|1954-06-19|  Kazuhide|     Peha|     F|1987-04-03| 55881|           d005|    110567|         40000|  1|\n",
      "|   d005| 10018|1954-06-19|  Kazuhide|     Peha|     F|1987-04-03| 55881|           d005|    110567|         42616|  2|\n",
      "|   d005| 10018|1954-06-19|  Kazuhide|     Peha|     F|1987-04-03| 55881|           d005|    110567|         44173|  3|\n",
      "|   d005| 10018|1954-06-19|  Kazuhide|     Peha|     F|1987-04-03| 55881|           d005|    110567|         48434|  4|\n",
      "|   d005| 10018|1954-06-19|  Kazuhide|     Peha|     F|1987-04-03| 55881|           d005|    110567|         48535|  5|\n",
      "|   d005| 10018|1954-06-19|  Kazuhide|     Peha|     F|1987-04-03| 55881|           d005|    110567|         50276|  6|\n",
      "|   d005| 10018|1954-06-19|  Kazuhide|     Peha|     F|1987-04-03| 55881|           d005|    110567|         53205|  7|\n",
      "|   d005| 10018|1954-06-19|  Kazuhide|     Peha|     F|1987-04-03| 55881|           d005|    110511|         48626|  8|\n",
      "|   d005| 10018|1954-06-19|  Kazuhide|     Peha|     F|1987-04-03| 55881|           d005|    110511|         49148|  9|\n",
      "|   d005| 10018|1954-06-19|  Kazuhide|     Peha|     F|1987-04-03| 55881|           d005|    110511|         49877| 10|\n",
      "|   d005| 10018|1954-06-19|  Kazuhide|     Peha|     F|1987-04-03| 55881|           d005|    110511|         51690| 11|\n",
      "|   d005| 10018|1954-06-19|  Kazuhide|     Peha|     F|1987-04-03| 55881|           d005|    110511|         52342| 12|\n",
      "|   d005| 10018|1954-06-19|  Kazuhide|     Peha|     F|1987-04-03| 55881|           d005|    110511|         54300| 13|\n",
      "|   d005| 10018|1954-06-19|  Kazuhide|     Peha|     F|1987-04-03| 59206|           d005|    110567|         40000| 14|\n",
      "|   d005| 10018|1954-06-19|  Kazuhide|     Peha|     F|1987-04-03| 59206|           d005|    110567|         42616| 15|\n",
      "|   d005| 10018|1954-06-19|  Kazuhide|     Peha|     F|1987-04-03| 59206|           d005|    110567|         44173| 16|\n",
      "|   d005| 10018|1954-06-19|  Kazuhide|     Peha|     F|1987-04-03| 59206|           d005|    110567|         48434| 17|\n",
      "|   d005| 10018|1954-06-19|  Kazuhide|     Peha|     F|1987-04-03| 59206|           d005|    110567|         48535| 18|\n",
      "|   d005| 10018|1954-06-19|  Kazuhide|     Peha|     F|1987-04-03| 59206|           d005|    110567|         50276| 19|\n",
      "|   d005| 10018|1954-06-19|  Kazuhide|     Peha|     F|1987-04-03| 59206|           d005|    110567|         53205| 20|\n",
      "|   d005| 10018|1954-06-19|  Kazuhide|     Peha|     F|1987-04-03| 59206|           d005|    110567|         57384| 21|\n",
      "|   d005| 10018|1954-06-19|  Kazuhide|     Peha|     F|1987-04-03| 59206|           d005|    110567|         56966| 22|\n",
      "|   d005| 10018|1954-06-19|  Kazuhide|     Peha|     F|1987-04-03| 59206|           d005|    110511|         48626| 23|\n",
      "|   d005| 10018|1954-06-19|  Kazuhide|     Peha|     F|1987-04-03| 59206|           d005|    110511|         49148| 24|\n",
      "|   d005| 10018|1954-06-19|  Kazuhide|     Peha|     F|1987-04-03| 59206|           d005|    110511|         49877| 25|\n",
      "|   d005| 10018|1954-06-19|  Kazuhide|     Peha|     F|1987-04-03| 59206|           d005|    110511|         51690| 26|\n",
      "|   d005| 10018|1954-06-19|  Kazuhide|     Peha|     F|1987-04-03| 59206|           d005|    110511|         52342| 27|\n",
      "|   d005| 10018|1954-06-19|  Kazuhide|     Peha|     F|1987-04-03| 59206|           d005|    110511|         54300| 28|\n",
      "|   d005| 10018|1954-06-19|  Kazuhide|     Peha|     F|1987-04-03| 59206|           d005|    110511|         56962| 29|\n",
      "|   d005| 10018|1954-06-19|  Kazuhide|     Peha|     F|1987-04-03| 59206|           d005|    110511|         59070| 30|\n",
      "|   d005| 10018|1954-06-19|  Kazuhide|     Peha|     F|1987-04-03| 61361|           d005|    110567|         40000| 31|\n",
      "|   d005| 10018|1954-06-19|  Kazuhide|     Peha|     F|1987-04-03| 61361|           d005|    110567|         42616| 32|\n",
      "|   d005| 10018|1954-06-19|  Kazuhide|     Peha|     F|1987-04-03| 61361|           d005|    110567|         44173| 33|\n",
      "|   d005| 10018|1954-06-19|  Kazuhide|     Peha|     F|1987-04-03| 61361|           d005|    110567|         48434| 34|\n",
      "|   d005| 10018|1954-06-19|  Kazuhide|     Peha|     F|1987-04-03| 61361|           d005|    110567|         48535| 35|\n",
      "|   d005| 10018|1954-06-19|  Kazuhide|     Peha|     F|1987-04-03| 61361|           d005|    110567|         50276| 36|\n",
      "|   d005| 10018|1954-06-19|  Kazuhide|     Peha|     F|1987-04-03| 61361|           d005|    110567|         53205| 37|\n",
      "|   d005| 10018|1954-06-19|  Kazuhide|     Peha|     F|1987-04-03| 61361|           d005|    110567|         57384| 38|\n",
      "|   d005| 10018|1954-06-19|  Kazuhide|     Peha|     F|1987-04-03| 61361|           d005|    110567|         56966| 39|\n",
      "|   d005| 10018|1954-06-19|  Kazuhide|     Peha|     F|1987-04-03| 61361|           d005|    110567|         59878| 40|\n",
      "|   d005| 10018|1954-06-19|  Kazuhide|     Peha|     F|1987-04-03| 61361|           d005|    110511|         48626| 41|\n",
      "|   d005| 10018|1954-06-19|  Kazuhide|     Peha|     F|1987-04-03| 61361|           d005|    110511|         49148| 42|\n",
      "|   d005| 10018|1954-06-19|  Kazuhide|     Peha|     F|1987-04-03| 61361|           d005|    110511|         49877| 43|\n",
      "|   d005| 10018|1954-06-19|  Kazuhide|     Peha|     F|1987-04-03| 61361|           d005|    110511|         51690| 44|\n",
      "|   d005| 10018|1954-06-19|  Kazuhide|     Peha|     F|1987-04-03| 61361|           d005|    110511|         52342| 45|\n",
      "|   d005| 10018|1954-06-19|  Kazuhide|     Peha|     F|1987-04-03| 61361|           d005|    110511|         54300| 46|\n",
      "|   d005| 10018|1954-06-19|  Kazuhide|     Peha|     F|1987-04-03| 61361|           d005|    110511|         56962| 47|\n",
      "|   d005| 10018|1954-06-19|  Kazuhide|     Peha|     F|1987-04-03| 61361|           d005|    110511|         59070| 48|\n",
      "|   d005| 10018|1954-06-19|  Kazuhide|     Peha|     F|1987-04-03| 61648|           d005|    110567|         40000| 49|\n",
      "|   d005| 10018|1954-06-19|  Kazuhide|     Peha|     F|1987-04-03| 61648|           d005|    110567|         42616| 50|\n",
      "|   d005| 10018|1954-06-19|  Kazuhide|     Peha|     F|1987-04-03| 61648|           d005|    110567|         44173| 51|\n",
      "|   d005| 10018|1954-06-19|  Kazuhide|     Peha|     F|1987-04-03| 61648|           d005|    110567|         48434| 52|\n",
      "|   d005| 10018|1954-06-19|  Kazuhide|     Peha|     F|1987-04-03| 61648|           d005|    110567|         48535| 53|\n",
      "|   d005| 10018|1954-06-19|  Kazuhide|     Peha|     F|1987-04-03| 61648|           d005|    110567|         50276| 54|\n",
      "|   d005| 10018|1954-06-19|  Kazuhide|     Peha|     F|1987-04-03| 61648|           d005|    110567|         53205| 55|\n",
      "|   d005| 10018|1954-06-19|  Kazuhide|     Peha|     F|1987-04-03| 61648|           d005|    110567|         57384| 56|\n",
      "|   d005| 10018|1954-06-19|  Kazuhide|     Peha|     F|1987-04-03| 61648|           d005|    110567|         56966| 57|\n",
      "|   d005| 10018|1954-06-19|  Kazuhide|     Peha|     F|1987-04-03| 61648|           d005|    110567|         59878| 58|\n",
      "|   d005| 10018|1954-06-19|  Kazuhide|     Peha|     F|1987-04-03| 61648|           d005|    110511|         48626| 59|\n",
      "|   d005| 10018|1954-06-19|  Kazuhide|     Peha|     F|1987-04-03| 61648|           d005|    110511|         49148| 60|\n",
      "|   d005| 10018|1954-06-19|  Kazuhide|     Peha|     F|1987-04-03| 61648|           d005|    110511|         49877| 61|\n",
      "|   d005| 10018|1954-06-19|  Kazuhide|     Peha|     F|1987-04-03| 61648|           d005|    110511|         51690| 62|\n",
      "|   d005| 10018|1954-06-19|  Kazuhide|     Peha|     F|1987-04-03| 61648|           d005|    110511|         52342| 63|\n",
      "|   d005| 10018|1954-06-19|  Kazuhide|     Peha|     F|1987-04-03| 61648|           d005|    110511|         54300| 64|\n",
      "|   d005| 10018|1954-06-19|  Kazuhide|     Peha|     F|1987-04-03| 61648|           d005|    110511|         56962| 65|\n",
      "|   d005| 10018|1954-06-19|  Kazuhide|     Peha|     F|1987-04-03| 61648|           d005|    110511|         59070| 66|\n",
      "|   d005| 10018|1954-06-19|  Kazuhide|     Peha|     F|1987-04-03| 61217|           d005|    110567|         40000| 67|\n",
      "|   d005| 10018|1954-06-19|  Kazuhide|     Peha|     F|1987-04-03| 61217|           d005|    110567|         42616| 68|\n",
      "|   d005| 10018|1954-06-19|  Kazuhide|     Peha|     F|1987-04-03| 61217|           d005|    110567|         44173| 69|\n",
      "|   d005| 10018|1954-06-19|  Kazuhide|     Peha|     F|1987-04-03| 61217|           d005|    110567|         48434| 70|\n",
      "|   d005| 10018|1954-06-19|  Kazuhide|     Peha|     F|1987-04-03| 61217|           d005|    110567|         48535| 71|\n",
      "|   d005| 10018|1954-06-19|  Kazuhide|     Peha|     F|1987-04-03| 61217|           d005|    110567|         50276| 72|\n",
      "|   d005| 10018|1954-06-19|  Kazuhide|     Peha|     F|1987-04-03| 61217|           d005|    110567|         53205| 73|\n",
      "|   d005| 10018|1954-06-19|  Kazuhide|     Peha|     F|1987-04-03| 61217|           d005|    110567|         57384| 74|\n",
      "|   d005| 10018|1954-06-19|  Kazuhide|     Peha|     F|1987-04-03| 61217|           d005|    110567|         56966| 75|\n",
      "|   d005| 10018|1954-06-19|  Kazuhide|     Peha|     F|1987-04-03| 61217|           d005|    110567|         59878| 76|\n",
      "|   d005| 10018|1954-06-19|  Kazuhide|     Peha|     F|1987-04-03| 61217|           d005|    110511|         48626| 77|\n",
      "|   d005| 10018|1954-06-19|  Kazuhide|     Peha|     F|1987-04-03| 61217|           d005|    110511|         49148| 78|\n",
      "|   d005| 10018|1954-06-19|  Kazuhide|     Peha|     F|1987-04-03| 61217|           d005|    110511|         49877| 79|\n",
      "|   d005| 10018|1954-06-19|  Kazuhide|     Peha|     F|1987-04-03| 61217|           d005|    110511|         51690| 80|\n",
      "|   d005| 10018|1954-06-19|  Kazuhide|     Peha|     F|1987-04-03| 61217|           d005|    110511|         52342| 81|\n",
      "|   d005| 10018|1954-06-19|  Kazuhide|     Peha|     F|1987-04-03| 61217|           d005|    110511|         54300| 82|\n",
      "|   d005| 10018|1954-06-19|  Kazuhide|     Peha|     F|1987-04-03| 61217|           d005|    110511|         56962| 83|\n",
      "|   d005| 10018|1954-06-19|  Kazuhide|     Peha|     F|1987-04-03| 61217|           d005|    110511|         59070| 84|\n",
      "|   d005| 10018|1954-06-19|  Kazuhide|     Peha|     F|1987-04-03| 61244|           d005|    110567|         40000| 85|\n",
      "|   d005| 10018|1954-06-19|  Kazuhide|     Peha|     F|1987-04-03| 61244|           d005|    110567|         42616| 86|\n",
      "|   d005| 10018|1954-06-19|  Kazuhide|     Peha|     F|1987-04-03| 61244|           d005|    110567|         44173| 87|\n",
      "|   d005| 10018|1954-06-19|  Kazuhide|     Peha|     F|1987-04-03| 61244|           d005|    110567|         48434| 88|\n",
      "|   d005| 10018|1954-06-19|  Kazuhide|     Peha|     F|1987-04-03| 61244|           d005|    110567|         48535| 89|\n",
      "|   d005| 10018|1954-06-19|  Kazuhide|     Peha|     F|1987-04-03| 61244|           d005|    110567|         50276| 90|\n",
      "|   d005| 10018|1954-06-19|  Kazuhide|     Peha|     F|1987-04-03| 61244|           d005|    110567|         53205| 91|\n",
      "|   d005| 10018|1954-06-19|  Kazuhide|     Peha|     F|1987-04-03| 61244|           d005|    110567|         57384| 92|\n",
      "|   d005| 10018|1954-06-19|  Kazuhide|     Peha|     F|1987-04-03| 61244|           d005|    110567|         56966| 93|\n",
      "|   d005| 10018|1954-06-19|  Kazuhide|     Peha|     F|1987-04-03| 61244|           d005|    110567|         59878| 94|\n",
      "|   d005| 10018|1954-06-19|  Kazuhide|     Peha|     F|1987-04-03| 61244|           d005|    110511|         48626| 95|\n",
      "|   d005| 10018|1954-06-19|  Kazuhide|     Peha|     F|1987-04-03| 61244|           d005|    110511|         49148| 96|\n",
      "|   d005| 10018|1954-06-19|  Kazuhide|     Peha|     F|1987-04-03| 61244|           d005|    110511|         49877| 97|\n",
      "|   d005| 10018|1954-06-19|  Kazuhide|     Peha|     F|1987-04-03| 61244|           d005|    110511|         51690| 98|\n",
      "|   d005| 10018|1954-06-19|  Kazuhide|     Peha|     F|1987-04-03| 61244|           d005|    110511|         52342| 99|\n",
      "|   d005| 10018|1954-06-19|  Kazuhide|     Peha|     F|1987-04-03| 61244|           d005|    110511|         54300|100|\n",
      "|   d005| 10018|1954-06-19|  Kazuhide|     Peha|     F|1987-04-03| 61244|           d005|    110511|         56962|101|\n",
      "|   d005| 10018|1954-06-19|  Kazuhide|     Peha|     F|1987-04-03| 61244|           d005|    110511|         59070|102|\n",
      "|   d005| 10018|1954-06-19|  Kazuhide|     Peha|     F|1987-04-03| 63286|           d005|    110567|         40000|103|\n",
      "|   d005| 10018|1954-06-19|  Kazuhide|     Peha|     F|1987-04-03| 63286|           d005|    110567|         42616|104|\n",
      "|   d005| 10018|1954-06-19|  Kazuhide|     Peha|     F|1987-04-03| 63286|           d005|    110567|         44173|105|\n",
      "|   d005| 10018|1954-06-19|  Kazuhide|     Peha|     F|1987-04-03| 63286|           d005|    110567|         48434|106|\n",
      "|   d005| 10018|1954-06-19|  Kazuhide|     Peha|     F|1987-04-03| 63286|           d005|    110567|         48535|107|\n",
      "|   d005| 10018|1954-06-19|  Kazuhide|     Peha|     F|1987-04-03| 63286|           d005|    110567|         50276|108|\n",
      "|   d005| 10018|1954-06-19|  Kazuhide|     Peha|     F|1987-04-03| 63286|           d005|    110567|         53205|109|\n",
      "|   d005| 10018|1954-06-19|  Kazuhide|     Peha|     F|1987-04-03| 63286|           d005|    110567|         57384|110|\n",
      "|   d005| 10018|1954-06-19|  Kazuhide|     Peha|     F|1987-04-03| 63286|           d005|    110567|         56966|111|\n",
      "|   d005| 10018|1954-06-19|  Kazuhide|     Peha|     F|1987-04-03| 63286|           d005|    110567|         59878|112|\n",
      "|   d005| 10018|1954-06-19|  Kazuhide|     Peha|     F|1987-04-03| 63286|           d005|    110567|         62829|113|\n",
      "|   d005| 10018|1954-06-19|  Kazuhide|     Peha|     F|1987-04-03| 63286|           d005|    110567|         63249|114|\n",
      "|   d005| 10018|1954-06-19|  Kazuhide|     Peha|     F|1987-04-03| 63286|           d005|    110511|         48626|115|\n",
      "|   d005| 10018|1954-06-19|  Kazuhide|     Peha|     F|1987-04-03| 63286|           d005|    110511|         49148|116|\n",
      "|   d005| 10018|1954-06-19|  Kazuhide|     Peha|     F|1987-04-03| 63286|           d005|    110511|         49877|117|\n",
      "|   d005| 10018|1954-06-19|  Kazuhide|     Peha|     F|1987-04-03| 63286|           d005|    110511|         51690|118|\n",
      "|   d005| 10018|1954-06-19|  Kazuhide|     Peha|     F|1987-04-03| 63286|           d005|    110511|         52342|119|\n",
      "|   d005| 10018|1954-06-19|  Kazuhide|     Peha|     F|1987-04-03| 63286|           d005|    110511|         54300|120|\n",
      "|   d005| 10018|1954-06-19|  Kazuhide|     Peha|     F|1987-04-03| 63286|           d005|    110511|         56962|121|\n",
      "|   d005| 10018|1954-06-19|  Kazuhide|     Peha|     F|1987-04-03| 63286|           d005|    110511|         59070|122|\n",
      "|   d005| 10018|1954-06-19|  Kazuhide|     Peha|     F|1987-04-03| 63286|           d005|    110511|         62206|123|\n",
      "|   d005| 10018|1954-06-19|  Kazuhide|     Peha|     F|1987-04-03| 65739|           d005|    110567|         40000|124|\n",
      "|   d005| 10018|1954-06-19|  Kazuhide|     Peha|     F|1987-04-03| 65739|           d005|    110567|         42616|125|\n",
      "|   d005| 10018|1954-06-19|  Kazuhide|     Peha|     F|1987-04-03| 65739|           d005|    110567|         44173|126|\n",
      "|   d005| 10018|1954-06-19|  Kazuhide|     Peha|     F|1987-04-03| 65739|           d005|    110567|         48434|127|\n",
      "|   d005| 10018|1954-06-19|  Kazuhide|     Peha|     F|1987-04-03| 65739|           d005|    110567|         48535|128|\n",
      "|   d005| 10018|1954-06-19|  Kazuhide|     Peha|     F|1987-04-03| 65739|           d005|    110567|         50276|129|\n",
      "|   d005| 10018|1954-06-19|  Kazuhide|     Peha|     F|1987-04-03| 65739|           d005|    110567|         53205|130|\n",
      "|   d005| 10018|1954-06-19|  Kazuhide|     Peha|     F|1987-04-03| 65739|           d005|    110567|         57384|131|\n",
      "|   d005| 10018|1954-06-19|  Kazuhide|     Peha|     F|1987-04-03| 65739|           d005|    110567|         56966|132|\n",
      "|   d005| 10018|1954-06-19|  Kazuhide|     Peha|     F|1987-04-03| 65739|           d005|    110567|         59878|133|\n",
      "|   d005| 10018|1954-06-19|  Kazuhide|     Peha|     F|1987-04-03| 65739|           d005|    110567|         62829|134|\n",
      "|   d005| 10018|1954-06-19|  Kazuhide|     Peha|     F|1987-04-03| 65739|           d005|    110567|         63249|135|\n",
      "|   d005| 10018|1954-06-19|  Kazuhide|     Peha|     F|1987-04-03| 65739|           d005|    110567|         63487|136|\n",
      "|   d005| 10018|1954-06-19|  Kazuhide|     Peha|     F|1987-04-03| 65739|           d005|    110511|         48626|137|\n",
      "|   d005| 10018|1954-06-19|  Kazuhide|     Peha|     F|1987-04-03| 65739|           d005|    110511|         49148|138|\n",
      "|   d005| 10018|1954-06-19|  Kazuhide|     Peha|     F|1987-04-03| 65739|           d005|    110511|         49877|139|\n",
      "|   d005| 10018|1954-06-19|  Kazuhide|     Peha|     F|1987-04-03| 65739|           d005|    110511|         51690|140|\n",
      "|   d005| 10018|1954-06-19|  Kazuhide|     Peha|     F|1987-04-03| 65739|           d005|    110511|         52342|141|\n",
      "|   d005| 10018|1954-06-19|  Kazuhide|     Peha|     F|1987-04-03| 65739|           d005|    110511|         54300|142|\n",
      "|   d005| 10018|1954-06-19|  Kazuhide|     Peha|     F|1987-04-03| 65739|           d005|    110511|         56962|143|\n",
      "|   d005| 10018|1954-06-19|  Kazuhide|     Peha|     F|1987-04-03| 65739|           d005|    110511|         59070|144|\n",
      "|   d005| 10018|1954-06-19|  Kazuhide|     Peha|     F|1987-04-03| 65739|           d005|    110511|         62206|145|\n",
      "|   d005| 10018|1954-06-19|  Kazuhide|     Peha|     F|1987-04-03| 65739|           d005|    110511|         64431|146|\n",
      "|   d005| 10018|1954-06-19|  Kazuhide|     Peha|     F|1987-04-03| 67519|           d005|    110567|         40000|147|\n",
      "|   d005| 10018|1954-06-19|  Kazuhide|     Peha|     F|1987-04-03| 67519|           d005|    110567|         42616|148|\n",
      "|   d005| 10018|1954-06-19|  Kazuhide|     Peha|     F|1987-04-03| 67519|           d005|    110567|         44173|149|\n",
      "|   d005| 10018|1954-06-19|  Kazuhide|     Peha|     F|1987-04-03| 67519|           d005|    110567|         48434|150|\n",
      "|   d005| 10018|1954-06-19|  Kazuhide|     Peha|     F|1987-04-03| 67519|           d005|    110567|         48535|151|\n",
      "|   d005| 10018|1954-06-19|  Kazuhide|     Peha|     F|1987-04-03| 67519|           d005|    110567|         50276|152|\n",
      "|   d005| 10018|1954-06-19|  Kazuhide|     Peha|     F|1987-04-03| 67519|           d005|    110567|         53205|153|\n",
      "|   d005| 10018|1954-06-19|  Kazuhide|     Peha|     F|1987-04-03| 67519|           d005|    110567|         57384|154|\n",
      "|   d005| 10018|1954-06-19|  Kazuhide|     Peha|     F|1987-04-03| 67519|           d005|    110567|         56966|155|\n",
      "|   d005| 10018|1954-06-19|  Kazuhide|     Peha|     F|1987-04-03| 67519|           d005|    110567|         59878|156|\n",
      "|   d005| 10018|1954-06-19|  Kazuhide|     Peha|     F|1987-04-03| 67519|           d005|    110567|         62829|157|\n",
      "|   d005| 10018|1954-06-19|  Kazuhide|     Peha|     F|1987-04-03| 67519|           d005|    110567|         63249|158|\n",
      "|   d005| 10018|1954-06-19|  Kazuhide|     Peha|     F|1987-04-03| 67519|           d005|    110567|         63487|159|\n",
      "|   d005| 10018|1954-06-19|  Kazuhide|     Peha|     F|1987-04-03| 67519|           d005|    110567|         66307|160|\n",
      "|   d005| 10018|1954-06-19|  Kazuhide|     Peha|     F|1987-04-03| 67519|           d005|    110511|         48626|161|\n",
      "|   d005| 10018|1954-06-19|  Kazuhide|     Peha|     F|1987-04-03| 67519|           d005|    110511|         49148|162|\n",
      "|   d005| 10018|1954-06-19|  Kazuhide|     Peha|     F|1987-04-03| 67519|           d005|    110511|         49877|163|\n",
      "|   d005| 10018|1954-06-19|  Kazuhide|     Peha|     F|1987-04-03| 67519|           d005|    110511|         51690|164|\n",
      "|   d005| 10018|1954-06-19|  Kazuhide|     Peha|     F|1987-04-03| 67519|           d005|    110511|         52342|165|\n",
      "|   d005| 10018|1954-06-19|  Kazuhide|     Peha|     F|1987-04-03| 67519|           d005|    110511|         54300|166|\n",
      "|   d005| 10018|1954-06-19|  Kazuhide|     Peha|     F|1987-04-03| 67519|           d005|    110511|         56962|167|\n",
      "|   d005| 10018|1954-06-19|  Kazuhide|     Peha|     F|1987-04-03| 67519|           d005|    110511|         59070|168|\n",
      "|   d005| 10018|1954-06-19|  Kazuhide|     Peha|     F|1987-04-03| 67519|           d005|    110511|         62206|169|\n",
      "|   d005| 10018|1954-06-19|  Kazuhide|     Peha|     F|1987-04-03| 67519|           d005|    110511|         64431|170|\n",
      "|   d005| 10018|1954-06-19|  Kazuhide|     Peha|     F|1987-04-03| 67519|           d005|    110511|         66656|171|\n",
      "|   d005| 10018|1954-06-19|  Kazuhide|     Peha|     F|1987-04-03| 69276|           d005|    110567|         40000|172|\n",
      "|   d005| 10018|1954-06-19|  Kazuhide|     Peha|     F|1987-04-03| 69276|           d005|    110567|         42616|173|\n",
      "|   d005| 10018|1954-06-19|  Kazuhide|     Peha|     F|1987-04-03| 69276|           d005|    110567|         44173|174|\n",
      "|   d005| 10018|1954-06-19|  Kazuhide|     Peha|     F|1987-04-03| 69276|           d005|    110567|         48434|175|\n",
      "|   d005| 10018|1954-06-19|  Kazuhide|     Peha|     F|1987-04-03| 69276|           d005|    110567|         48535|176|\n",
      "|   d005| 10018|1954-06-19|  Kazuhide|     Peha|     F|1987-04-03| 69276|           d005|    110567|         50276|177|\n",
      "|   d005| 10018|1954-06-19|  Kazuhide|     Peha|     F|1987-04-03| 69276|           d005|    110567|         53205|178|\n",
      "|   d005| 10018|1954-06-19|  Kazuhide|     Peha|     F|1987-04-03| 69276|           d005|    110567|         57384|179|\n",
      "|   d005| 10018|1954-06-19|  Kazuhide|     Peha|     F|1987-04-03| 69276|           d005|    110567|         56966|180|\n",
      "|   d005| 10018|1954-06-19|  Kazuhide|     Peha|     F|1987-04-03| 69276|           d005|    110567|         59878|181|\n",
      "|   d005| 10018|1954-06-19|  Kazuhide|     Peha|     F|1987-04-03| 69276|           d005|    110567|         62829|182|\n",
      "|   d005| 10018|1954-06-19|  Kazuhide|     Peha|     F|1987-04-03| 69276|           d005|    110567|         63249|183|\n",
      "|   d005| 10018|1954-06-19|  Kazuhide|     Peha|     F|1987-04-03| 69276|           d005|    110567|         63487|184|\n",
      "|   d005| 10018|1954-06-19|  Kazuhide|     Peha|     F|1987-04-03| 69276|           d005|    110567|         66307|185|\n",
      "|   d005| 10018|1954-06-19|  Kazuhide|     Peha|     F|1987-04-03| 69276|           d005|    110511|         48626|186|\n",
      "|   d005| 10018|1954-06-19|  Kazuhide|     Peha|     F|1987-04-03| 69276|           d005|    110511|         49148|187|\n",
      "|   d005| 10018|1954-06-19|  Kazuhide|     Peha|     F|1987-04-03| 69276|           d005|    110511|         49877|188|\n",
      "|   d005| 10018|1954-06-19|  Kazuhide|     Peha|     F|1987-04-03| 69276|           d005|    110511|         51690|189|\n",
      "|   d005| 10018|1954-06-19|  Kazuhide|     Peha|     F|1987-04-03| 69276|           d005|    110511|         52342|190|\n",
      "|   d005| 10018|1954-06-19|  Kazuhide|     Peha|     F|1987-04-03| 69276|           d005|    110511|         54300|191|\n",
      "|   d005| 10018|1954-06-19|  Kazuhide|     Peha|     F|1987-04-03| 69276|           d005|    110511|         56962|192|\n",
      "|   d005| 10018|1954-06-19|  Kazuhide|     Peha|     F|1987-04-03| 69276|           d005|    110511|         59070|193|\n",
      "|   d005| 10018|1954-06-19|  Kazuhide|     Peha|     F|1987-04-03| 69276|           d005|    110511|         62206|194|\n",
      "|   d005| 10018|1954-06-19|  Kazuhide|     Peha|     F|1987-04-03| 69276|           d005|    110511|         64431|195|\n",
      "|   d005| 10018|1954-06-19|  Kazuhide|     Peha|     F|1987-04-03| 69276|           d005|    110511|         66656|196|\n",
      "|   d005| 10018|1954-06-19|  Kazuhide|     Peha|     F|1987-04-03| 72585|           d005|    110567|         40000|197|\n",
      "|   d005| 10018|1954-06-19|  Kazuhide|     Peha|     F|1987-04-03| 72585|           d005|    110567|         42616|198|\n",
      "|   d005| 10018|1954-06-19|  Kazuhide|     Peha|     F|1987-04-03| 72585|           d005|    110567|         44173|199|\n",
      "|   d005| 10018|1954-06-19|  Kazuhide|     Peha|     F|1987-04-03| 72585|           d005|    110567|         48434|200|\n",
      "|   d005| 10018|1954-06-19|  Kazuhide|     Peha|     F|1987-04-03| 72585|           d005|    110567|         48535|201|\n",
      "|   d005| 10018|1954-06-19|  Kazuhide|     Peha|     F|1987-04-03| 72585|           d005|    110567|         50276|202|\n",
      "|   d005| 10018|1954-06-19|  Kazuhide|     Peha|     F|1987-04-03| 72585|           d005|    110567|         53205|203|\n",
      "|   d005| 10018|1954-06-19|  Kazuhide|     Peha|     F|1987-04-03| 72585|           d005|    110567|         57384|204|\n",
      "|   d005| 10018|1954-06-19|  Kazuhide|     Peha|     F|1987-04-03| 72585|           d005|    110567|         56966|205|\n",
      "|   d005| 10018|1954-06-19|  Kazuhide|     Peha|     F|1987-04-03| 72585|           d005|    110567|         59878|206|\n",
      "|   d005| 10018|1954-06-19|  Kazuhide|     Peha|     F|1987-04-03| 72585|           d005|    110567|         62829|207|\n",
      "|   d005| 10018|1954-06-19|  Kazuhide|     Peha|     F|1987-04-03| 72585|           d005|    110567|         63249|208|\n",
      "|   d005| 10018|1954-06-19|  Kazuhide|     Peha|     F|1987-04-03| 72585|           d005|    110567|         63487|209|\n",
      "|   d005| 10018|1954-06-19|  Kazuhide|     Peha|     F|1987-04-03| 72585|           d005|    110567|         66307|210|\n",
      "|   d005| 10018|1954-06-19|  Kazuhide|     Peha|     F|1987-04-03| 72585|           d005|    110567|         70300|211|\n",
      "|   d005| 10018|1954-06-19|  Kazuhide|     Peha|     F|1987-04-03| 72585|           d005|    110511|         48626|212|\n",
      "|   d005| 10018|1954-06-19|  Kazuhide|     Peha|     F|1987-04-03| 72585|           d005|    110511|         49148|213|\n",
      "|   d005| 10018|1954-06-19|  Kazuhide|     Peha|     F|1987-04-03| 72585|           d005|    110511|         49877|214|\n",
      "|   d005| 10018|1954-06-19|  Kazuhide|     Peha|     F|1987-04-03| 72585|           d005|    110511|         51690|215|\n",
      "|   d005| 10018|1954-06-19|  Kazuhide|     Peha|     F|1987-04-03| 72585|           d005|    110511|         52342|216|\n",
      "|   d005| 10018|1954-06-19|  Kazuhide|     Peha|     F|1987-04-03| 72585|           d005|    110511|         54300|217|\n",
      "|   d005| 10018|1954-06-19|  Kazuhide|     Peha|     F|1987-04-03| 72585|           d005|    110511|         56962|218|\n",
      "|   d005| 10018|1954-06-19|  Kazuhide|     Peha|     F|1987-04-03| 72585|           d005|    110511|         59070|219|\n",
      "|   d005| 10018|1954-06-19|  Kazuhide|     Peha|     F|1987-04-03| 72585|           d005|    110511|         62206|220|\n",
      "|   d005| 10018|1954-06-19|  Kazuhide|     Peha|     F|1987-04-03| 72585|           d005|    110511|         64431|221|\n",
      "|   d005| 10018|1954-06-19|  Kazuhide|     Peha|     F|1987-04-03| 72585|           d005|    110511|         66656|222|\n",
      "|   d005| 10018|1954-06-19|  Kazuhide|     Peha|     F|1987-04-03| 72585|           d005|    110511|         70698|223|\n",
      "|   d005| 10018|1954-06-19|  Kazuhide|     Peha|     F|1987-04-03| 72804|           d005|    110567|         40000|224|\n",
      "|   d005| 10018|1954-06-19|  Kazuhide|     Peha|     F|1987-04-03| 72804|           d005|    110567|         42616|225|\n",
      "|   d005| 10018|1954-06-19|  Kazuhide|     Peha|     F|1987-04-03| 72804|           d005|    110567|         44173|226|\n",
      "|   d005| 10018|1954-06-19|  Kazuhide|     Peha|     F|1987-04-03| 72804|           d005|    110567|         48434|227|\n",
      "|   d005| 10018|1954-06-19|  Kazuhide|     Peha|     F|1987-04-03| 72804|           d005|    110567|         48535|228|\n",
      "|   d005| 10018|1954-06-19|  Kazuhide|     Peha|     F|1987-04-03| 72804|           d005|    110567|         50276|229|\n",
      "|   d005| 10018|1954-06-19|  Kazuhide|     Peha|     F|1987-04-03| 72804|           d005|    110567|         53205|230|\n",
      "|   d005| 10018|1954-06-19|  Kazuhide|     Peha|     F|1987-04-03| 72804|           d005|    110567|         57384|231|\n",
      "|   d005| 10018|1954-06-19|  Kazuhide|     Peha|     F|1987-04-03| 72804|           d005|    110567|         56966|232|\n",
      "|   d005| 10018|1954-06-19|  Kazuhide|     Peha|     F|1987-04-03| 72804|           d005|    110567|         59878|233|\n",
      "|   d005| 10018|1954-06-19|  Kazuhide|     Peha|     F|1987-04-03| 72804|           d005|    110567|         62829|234|\n",
      "|   d005| 10018|1954-06-19|  Kazuhide|     Peha|     F|1987-04-03| 72804|           d005|    110567|         63249|235|\n",
      "|   d005| 10018|1954-06-19|  Kazuhide|     Peha|     F|1987-04-03| 72804|           d005|    110567|         63487|236|\n",
      "|   d005| 10018|1954-06-19|  Kazuhide|     Peha|     F|1987-04-03| 72804|           d005|    110567|         66307|237|\n",
      "|   d005| 10018|1954-06-19|  Kazuhide|     Peha|     F|1987-04-03| 72804|           d005|    110567|         70300|238|\n",
      "|   d005| 10018|1954-06-19|  Kazuhide|     Peha|     F|1987-04-03| 72804|           d005|    110511|         48626|239|\n",
      "|   d005| 10018|1954-06-19|  Kazuhide|     Peha|     F|1987-04-03| 72804|           d005|    110511|         49148|240|\n",
      "|   d005| 10018|1954-06-19|  Kazuhide|     Peha|     F|1987-04-03| 72804|           d005|    110511|         49877|241|\n",
      "|   d005| 10018|1954-06-19|  Kazuhide|     Peha|     F|1987-04-03| 72804|           d005|    110511|         51690|242|\n",
      "|   d005| 10018|1954-06-19|  Kazuhide|     Peha|     F|1987-04-03| 72804|           d005|    110511|         52342|243|\n",
      "|   d005| 10018|1954-06-19|  Kazuhide|     Peha|     F|1987-04-03| 72804|           d005|    110511|         54300|244|\n",
      "|   d005| 10018|1954-06-19|  Kazuhide|     Peha|     F|1987-04-03| 72804|           d005|    110511|         56962|245|\n",
      "|   d005| 10018|1954-06-19|  Kazuhide|     Peha|     F|1987-04-03| 72804|           d005|    110511|         59070|246|\n",
      "|   d005| 10018|1954-06-19|  Kazuhide|     Peha|     F|1987-04-03| 72804|           d005|    110511|         62206|247|\n",
      "|   d005| 10018|1954-06-19|  Kazuhide|     Peha|     F|1987-04-03| 72804|           d005|    110511|         64431|248|\n",
      "|   d005| 10018|1954-06-19|  Kazuhide|     Peha|     F|1987-04-03| 72804|           d005|    110511|         66656|249|\n",
      "|   d005| 10018|1954-06-19|  Kazuhide|     Peha|     F|1987-04-03| 72804|           d005|    110511|         70698|250|\n",
      "|   d005| 10018|1954-06-19|  Kazuhide|     Peha|     F|1987-04-03| 76957|           d005|    110567|         40000|251|\n",
      "|   d005| 10018|1954-06-19|  Kazuhide|     Peha|     F|1987-04-03| 76957|           d005|    110567|         42616|252|\n",
      "|   d005| 10018|1954-06-19|  Kazuhide|     Peha|     F|1987-04-03| 76957|           d005|    110567|         44173|253|\n",
      "|   d005| 10018|1954-06-19|  Kazuhide|     Peha|     F|1987-04-03| 76957|           d005|    110567|         48434|254|\n",
      "|   d005| 10018|1954-06-19|  Kazuhide|     Peha|     F|1987-04-03| 76957|           d005|    110567|         48535|255|\n",
      "|   d005| 10018|1954-06-19|  Kazuhide|     Peha|     F|1987-04-03| 76957|           d005|    110567|         50276|256|\n",
      "|   d005| 10018|1954-06-19|  Kazuhide|     Peha|     F|1987-04-03| 76957|           d005|    110567|         53205|257|\n",
      "|   d005| 10018|1954-06-19|  Kazuhide|     Peha|     F|1987-04-03| 76957|           d005|    110567|         57384|258|\n",
      "|   d005| 10018|1954-06-19|  Kazuhide|     Peha|     F|1987-04-03| 76957|           d005|    110567|         56966|259|\n",
      "|   d005| 10018|1954-06-19|  Kazuhide|     Peha|     F|1987-04-03| 76957|           d005|    110567|         59878|260|\n",
      "|   d005| 10018|1954-06-19|  Kazuhide|     Peha|     F|1987-04-03| 76957|           d005|    110567|         62829|261|\n",
      "|   d005| 10018|1954-06-19|  Kazuhide|     Peha|     F|1987-04-03| 76957|           d005|    110567|         63249|262|\n",
      "|   d005| 10018|1954-06-19|  Kazuhide|     Peha|     F|1987-04-03| 76957|           d005|    110567|         63487|263|\n",
      "|   d005| 10018|1954-06-19|  Kazuhide|     Peha|     F|1987-04-03| 76957|           d005|    110567|         66307|264|\n",
      "|   d005| 10018|1954-06-19|  Kazuhide|     Peha|     F|1987-04-03| 76957|           d005|    110567|         70300|265|\n",
      "|   d005| 10018|1954-06-19|  Kazuhide|     Peha|     F|1987-04-03| 76957|           d005|    110567|         74510|266|\n",
      "|   d005| 10018|1954-06-19|  Kazuhide|     Peha|     F|1987-04-03| 76957|           d005|    110511|         48626|267|\n",
      "|   d005| 10018|1954-06-19|  Kazuhide|     Peha|     F|1987-04-03| 76957|           d005|    110511|         49148|268|\n",
      "|   d005| 10018|1954-06-19|  Kazuhide|     Peha|     F|1987-04-03| 76957|           d005|    110511|         49877|269|\n",
      "|   d005| 10018|1954-06-19|  Kazuhide|     Peha|     F|1987-04-03| 76957|           d005|    110511|         51690|270|\n",
      "|   d005| 10018|1954-06-19|  Kazuhide|     Peha|     F|1987-04-03| 76957|           d005|    110511|         52342|271|\n",
      "|   d005| 10018|1954-06-19|  Kazuhide|     Peha|     F|1987-04-03| 76957|           d005|    110511|         54300|272|\n",
      "|   d005| 10018|1954-06-19|  Kazuhide|     Peha|     F|1987-04-03| 76957|           d005|    110511|         56962|273|\n",
      "|   d005| 10018|1954-06-19|  Kazuhide|     Peha|     F|1987-04-03| 76957|           d005|    110511|         59070|274|\n",
      "|   d005| 10018|1954-06-19|  Kazuhide|     Peha|     F|1987-04-03| 76957|           d005|    110511|         62206|275|\n",
      "|   d005| 10018|1954-06-19|  Kazuhide|     Peha|     F|1987-04-03| 76957|           d005|    110511|         64431|276|\n",
      "|   d005| 10018|1954-06-19|  Kazuhide|     Peha|     F|1987-04-03| 76957|           d005|    110511|         66656|277|\n",
      "|   d005| 10018|1954-06-19|  Kazuhide|     Peha|     F|1987-04-03| 76957|           d005|    110511|         70698|278|\n",
      "|   d005| 10018|1954-06-19|  Kazuhide|     Peha|     F|1987-04-03| 76957|           d005|    110511|         73013|279|\n",
      "|   d005| 10018|1954-06-19|  Kazuhide|     Peha|     F|1987-04-03| 76957|           d005|    110511|         74056|280|\n",
      "|   d005| 10018|1954-06-19|  Kazuhide|     Peha|     F|1987-04-03| 76957|           d005|    110511|         73614|281|\n",
      "|   d005| 10018|1954-06-19|  Kazuhide|     Peha|     F|1987-04-03| 76957|           d005|    110511|         73350|282|\n",
      "|   d005| 10018|1954-06-19|  Kazuhide|     Peha|     F|1987-04-03| 76957|           d005|    110511|         73285|283|\n",
      "|   d005| 10018|1954-06-19|  Kazuhide|     Peha|     F|1987-04-03| 76957|           d005|    110511|         72903|284|\n",
      "|   d005| 10018|1954-06-19|  Kazuhide|     Peha|     F|1987-04-03| 80305|           d005|    110567|         40000|285|\n",
      "|   d005| 10018|1954-06-19|  Kazuhide|     Peha|     F|1987-04-03| 80305|           d005|    110567|         42616|286|\n",
      "|   d005| 10018|1954-06-19|  Kazuhide|     Peha|     F|1987-04-03| 80305|           d005|    110567|         44173|287|\n",
      "|   d005| 10018|1954-06-19|  Kazuhide|     Peha|     F|1987-04-03| 80305|           d005|    110567|         48434|288|\n",
      "|   d005| 10018|1954-06-19|  Kazuhide|     Peha|     F|1987-04-03| 80305|           d005|    110567|         48535|289|\n",
      "|   d005| 10018|1954-06-19|  Kazuhide|     Peha|     F|1987-04-03| 80305|           d005|    110567|         50276|290|\n",
      "|   d005| 10018|1954-06-19|  Kazuhide|     Peha|     F|1987-04-03| 80305|           d005|    110567|         53205|291|\n",
      "|   d005| 10018|1954-06-19|  Kazuhide|     Peha|     F|1987-04-03| 80305|           d005|    110567|         57384|292|\n",
      "|   d005| 10018|1954-06-19|  Kazuhide|     Peha|     F|1987-04-03| 80305|           d005|    110567|         56966|293|\n",
      "|   d005| 10018|1954-06-19|  Kazuhide|     Peha|     F|1987-04-03| 80305|           d005|    110567|         59878|294|\n",
      "|   d005| 10018|1954-06-19|  Kazuhide|     Peha|     F|1987-04-03| 80305|           d005|    110567|         62829|295|\n",
      "|   d005| 10018|1954-06-19|  Kazuhide|     Peha|     F|1987-04-03| 80305|           d005|    110567|         63249|296|\n",
      "|   d005| 10018|1954-06-19|  Kazuhide|     Peha|     F|1987-04-03| 80305|           d005|    110567|         63487|297|\n",
      "|   d005| 10018|1954-06-19|  Kazuhide|     Peha|     F|1987-04-03| 80305|           d005|    110567|         66307|298|\n",
      "|   d005| 10018|1954-06-19|  Kazuhide|     Peha|     F|1987-04-03| 80305|           d005|    110567|         70300|299|\n",
      "|   d005| 10018|1954-06-19|  Kazuhide|     Peha|     F|1987-04-03| 80305|           d005|    110567|         74510|300|\n",
      "|   d005| 10018|1954-06-19|  Kazuhide|     Peha|     F|1987-04-03| 80305|           d005|    110511|         48626|301|\n",
      "|   d005| 10018|1954-06-19|  Kazuhide|     Peha|     F|1987-04-03| 80305|           d005|    110511|         49148|302|\n",
      "|   d005| 10018|1954-06-19|  Kazuhide|     Peha|     F|1987-04-03| 80305|           d005|    110511|         49877|303|\n",
      "|   d005| 10018|1954-06-19|  Kazuhide|     Peha|     F|1987-04-03| 80305|           d005|    110511|         51690|304|\n",
      "|   d005| 10018|1954-06-19|  Kazuhide|     Peha|     F|1987-04-03| 80305|           d005|    110511|         52342|305|\n",
      "|   d005| 10018|1954-06-19|  Kazuhide|     Peha|     F|1987-04-03| 80305|           d005|    110511|         54300|306|\n",
      "|   d005| 10018|1954-06-19|  Kazuhide|     Peha|     F|1987-04-03| 80305|           d005|    110511|         56962|307|\n",
      "|   d005| 10018|1954-06-19|  Kazuhide|     Peha|     F|1987-04-03| 80305|           d005|    110511|         59070|308|\n",
      "|   d005| 10018|1954-06-19|  Kazuhide|     Peha|     F|1987-04-03| 80305|           d005|    110511|         62206|309|\n",
      "|   d005| 10018|1954-06-19|  Kazuhide|     Peha|     F|1987-04-03| 80305|           d005|    110511|         64431|310|\n",
      "|   d005| 10018|1954-06-19|  Kazuhide|     Peha|     F|1987-04-03| 80305|           d005|    110511|         66656|311|\n",
      "|   d005| 10018|1954-06-19|  Kazuhide|     Peha|     F|1987-04-03| 80305|           d005|    110511|         70698|312|\n",
      "|   d005| 10018|1954-06-19|  Kazuhide|     Peha|     F|1987-04-03| 80305|           d005|    110511|         73013|313|\n",
      "|   d005| 10018|1954-06-19|  Kazuhide|     Peha|     F|1987-04-03| 80305|           d005|    110511|         74056|314|\n",
      "|   d005| 10018|1954-06-19|  Kazuhide|     Peha|     F|1987-04-03| 80305|           d005|    110511|         73614|315|\n",
      "|   d005| 10018|1954-06-19|  Kazuhide|     Peha|     F|1987-04-03| 80305|           d005|    110511|         73350|316|\n",
      "|   d005| 10018|1954-06-19|  Kazuhide|     Peha|     F|1987-04-03| 80305|           d005|    110511|         73285|317|\n",
      "|   d005| 10018|1954-06-19|  Kazuhide|     Peha|     F|1987-04-03| 80305|           d005|    110511|         72903|318|\n",
      "|   d005| 10018|1954-06-19|  Kazuhide|     Peha|     F|1987-04-03| 84541|           d005|    110567|         40000|319|\n",
      "|   d005| 10018|1954-06-19|  Kazuhide|     Peha|     F|1987-04-03| 84541|           d005|    110567|         42616|320|\n",
      "|   d005| 10018|1954-06-19|  Kazuhide|     Peha|     F|1987-04-03| 84541|           d005|    110567|         44173|321|\n",
      "|   d005| 10018|1954-06-19|  Kazuhide|     Peha|     F|1987-04-03| 84541|           d005|    110567|         48434|322|\n",
      "|   d005| 10018|1954-06-19|  Kazuhide|     Peha|     F|1987-04-03| 84541|           d005|    110567|         48535|323|\n",
      "|   d005| 10018|1954-06-19|  Kazuhide|     Peha|     F|1987-04-03| 84541|           d005|    110567|         50276|324|\n",
      "|   d005| 10018|1954-06-19|  Kazuhide|     Peha|     F|1987-04-03| 84541|           d005|    110567|         53205|325|\n",
      "|   d005| 10018|1954-06-19|  Kazuhide|     Peha|     F|1987-04-03| 84541|           d005|    110567|         57384|326|\n",
      "|   d005| 10018|1954-06-19|  Kazuhide|     Peha|     F|1987-04-03| 84541|           d005|    110567|         56966|327|\n",
      "|   d005| 10018|1954-06-19|  Kazuhide|     Peha|     F|1987-04-03| 84541|           d005|    110567|         59878|328|\n",
      "|   d005| 10018|1954-06-19|  Kazuhide|     Peha|     F|1987-04-03| 84541|           d005|    110567|         62829|329|\n",
      "|   d005| 10018|1954-06-19|  Kazuhide|     Peha|     F|1987-04-03| 84541|           d005|    110567|         63249|330|\n",
      "|   d005| 10018|1954-06-19|  Kazuhide|     Peha|     F|1987-04-03| 84541|           d005|    110567|         63487|331|\n",
      "|   d005| 10018|1954-06-19|  Kazuhide|     Peha|     F|1987-04-03| 84541|           d005|    110567|         66307|332|\n",
      "|   d005| 10018|1954-06-19|  Kazuhide|     Peha|     F|1987-04-03| 84541|           d005|    110567|         70300|333|\n",
      "|   d005| 10018|1954-06-19|  Kazuhide|     Peha|     F|1987-04-03| 84541|           d005|    110567|         74510|334|\n",
      "|   d005| 10018|1954-06-19|  Kazuhide|     Peha|     F|1987-04-03| 84541|           d005|    110511|         48626|335|\n",
      "|   d005| 10018|1954-06-19|  Kazuhide|     Peha|     F|1987-04-03| 84541|           d005|    110511|         49148|336|\n",
      "|   d005| 10018|1954-06-19|  Kazuhide|     Peha|     F|1987-04-03| 84541|           d005|    110511|         49877|337|\n",
      "|   d005| 10018|1954-06-19|  Kazuhide|     Peha|     F|1987-04-03| 84541|           d005|    110511|         51690|338|\n",
      "|   d005| 10018|1954-06-19|  Kazuhide|     Peha|     F|1987-04-03| 84541|           d005|    110511|         52342|339|\n",
      "|   d005| 10018|1954-06-19|  Kazuhide|     Peha|     F|1987-04-03| 84541|           d005|    110511|         54300|340|\n",
      "|   d005| 10018|1954-06-19|  Kazuhide|     Peha|     F|1987-04-03| 84541|           d005|    110511|         56962|341|\n",
      "|   d005| 10018|1954-06-19|  Kazuhide|     Peha|     F|1987-04-03| 84541|           d005|    110511|         59070|342|\n",
      "|   d005| 10018|1954-06-19|  Kazuhide|     Peha|     F|1987-04-03| 84541|           d005|    110511|         62206|343|\n",
      "|   d005| 10018|1954-06-19|  Kazuhide|     Peha|     F|1987-04-03| 84541|           d005|    110511|         64431|344|\n",
      "|   d005| 10018|1954-06-19|  Kazuhide|     Peha|     F|1987-04-03| 84541|           d005|    110511|         66656|345|\n",
      "|   d005| 10018|1954-06-19|  Kazuhide|     Peha|     F|1987-04-03| 84541|           d005|    110511|         70698|346|\n",
      "|   d005| 10018|1954-06-19|  Kazuhide|     Peha|     F|1987-04-03| 84541|           d005|    110511|         73013|347|\n",
      "|   d005| 10018|1954-06-19|  Kazuhide|     Peha|     F|1987-04-03| 84541|           d005|    110511|         74056|348|\n",
      "|   d005| 10018|1954-06-19|  Kazuhide|     Peha|     F|1987-04-03| 84541|           d005|    110511|         73614|349|\n",
      "|   d005| 10018|1954-06-19|  Kazuhide|     Peha|     F|1987-04-03| 84541|           d005|    110511|         73350|350|\n",
      "|   d005| 10018|1954-06-19|  Kazuhide|     Peha|     F|1987-04-03| 84541|           d005|    110511|         73285|351|\n",
      "|   d005| 10018|1954-06-19|  Kazuhide|     Peha|     F|1987-04-03| 84541|           d005|    110511|         72903|352|\n",
      "|   d005| 10018|1954-06-19|  Kazuhide|     Peha|     F|1987-04-03| 84672|           d005|    110567|         40000|353|\n",
      "|   d005| 10018|1954-06-19|  Kazuhide|     Peha|     F|1987-04-03| 84672|           d005|    110567|         42616|354|\n",
      "|   d005| 10018|1954-06-19|  Kazuhide|     Peha|     F|1987-04-03| 84672|           d005|    110567|         44173|355|\n",
      "|   d005| 10018|1954-06-19|  Kazuhide|     Peha|     F|1987-04-03| 84672|           d005|    110567|         48434|356|\n",
      "|   d005| 10018|1954-06-19|  Kazuhide|     Peha|     F|1987-04-03| 84672|           d005|    110567|         48535|357|\n",
      "|   d005| 10018|1954-06-19|  Kazuhide|     Peha|     F|1987-04-03| 84672|           d005|    110567|         50276|358|\n",
      "|   d005| 10018|1954-06-19|  Kazuhide|     Peha|     F|1987-04-03| 84672|           d005|    110567|         53205|359|\n",
      "|   d005| 10018|1954-06-19|  Kazuhide|     Peha|     F|1987-04-03| 84672|           d005|    110567|         57384|360|\n",
      "|   d005| 10018|1954-06-19|  Kazuhide|     Peha|     F|1987-04-03| 84672|           d005|    110567|         56966|361|\n",
      "|   d005| 10018|1954-06-19|  Kazuhide|     Peha|     F|1987-04-03| 84672|           d005|    110567|         59878|362|\n",
      "|   d005| 10018|1954-06-19|  Kazuhide|     Peha|     F|1987-04-03| 84672|           d005|    110567|         62829|363|\n",
      "|   d005| 10018|1954-06-19|  Kazuhide|     Peha|     F|1987-04-03| 84672|           d005|    110567|         63249|364|\n",
      "|   d005| 10018|1954-06-19|  Kazuhide|     Peha|     F|1987-04-03| 84672|           d005|    110567|         63487|365|\n",
      "|   d005| 10018|1954-06-19|  Kazuhide|     Peha|     F|1987-04-03| 84672|           d005|    110567|         66307|366|\n",
      "|   d005| 10018|1954-06-19|  Kazuhide|     Peha|     F|1987-04-03| 84672|           d005|    110567|         70300|367|\n",
      "|   d005| 10018|1954-06-19|  Kazuhide|     Peha|     F|1987-04-03| 84672|           d005|    110567|         74510|368|\n",
      "|   d005| 10018|1954-06-19|  Kazuhide|     Peha|     F|1987-04-03| 84672|           d005|    110511|         48626|369|\n",
      "|   d005| 10018|1954-06-19|  Kazuhide|     Peha|     F|1987-04-03| 84672|           d005|    110511|         49148|370|\n",
      "|   d005| 10018|1954-06-19|  Kazuhide|     Peha|     F|1987-04-03| 84672|           d005|    110511|         49877|371|\n",
      "|   d005| 10018|1954-06-19|  Kazuhide|     Peha|     F|1987-04-03| 84672|           d005|    110511|         51690|372|\n",
      "|   d005| 10018|1954-06-19|  Kazuhide|     Peha|     F|1987-04-03| 84672|           d005|    110511|         52342|373|\n",
      "|   d005| 10018|1954-06-19|  Kazuhide|     Peha|     F|1987-04-03| 84672|           d005|    110511|         54300|374|\n",
      "|   d005| 10018|1954-06-19|  Kazuhide|     Peha|     F|1987-04-03| 84672|           d005|    110511|         56962|375|\n",
      "|   d005| 10018|1954-06-19|  Kazuhide|     Peha|     F|1987-04-03| 84672|           d005|    110511|         59070|376|\n",
      "|   d005| 10018|1954-06-19|  Kazuhide|     Peha|     F|1987-04-03| 84672|           d005|    110511|         62206|377|\n",
      "|   d005| 10018|1954-06-19|  Kazuhide|     Peha|     F|1987-04-03| 84672|           d005|    110511|         64431|378|\n",
      "|   d005| 10018|1954-06-19|  Kazuhide|     Peha|     F|1987-04-03| 84672|           d005|    110511|         66656|379|\n",
      "|   d005| 10018|1954-06-19|  Kazuhide|     Peha|     F|1987-04-03| 84672|           d005|    110511|         70698|380|\n",
      "|   d005| 10018|1954-06-19|  Kazuhide|     Peha|     F|1987-04-03| 84672|           d005|    110511|         73013|381|\n",
      "|   d005| 10018|1954-06-19|  Kazuhide|     Peha|     F|1987-04-03| 84672|           d005|    110511|         74056|382|\n",
      "|   d005| 10018|1954-06-19|  Kazuhide|     Peha|     F|1987-04-03| 84672|           d005|    110511|         73614|383|\n",
      "|   d005| 10018|1954-06-19|  Kazuhide|     Peha|     F|1987-04-03| 84672|           d005|    110511|         73350|384|\n",
      "|   d005| 10018|1954-06-19|  Kazuhide|     Peha|     F|1987-04-03| 84672|           d005|    110511|         73285|385|\n",
      "|   d005| 10018|1954-06-19|  Kazuhide|     Peha|     F|1987-04-03| 84672|           d005|    110511|         72903|386|\n",
      "|   d004| 10018|1954-06-19|  Kazuhide|     Peha|     F|1987-04-03| 55881|           d004|    110386|         40000|387|\n",
      "|   d004| 10018|1954-06-19|  Kazuhide|     Peha|     F|1987-04-03| 55881|           d004|    110386|         42536|388|\n",
      "|   d004| 10018|1954-06-19|  Kazuhide|     Peha|     F|1987-04-03| 55881|           d004|    110386|         45922|389|\n",
      "|   d004| 10018|1954-06-19|  Kazuhide|     Peha|     F|1987-04-03| 55881|           d004|    110386|         47117|390|\n",
      "|   d004| 10018|1954-06-19|  Kazuhide|     Peha|     F|1987-04-03| 55881|           d004|    110386|         47794|391|\n",
      "|   d004| 10018|1954-06-19|  Kazuhide|     Peha|     F|1987-04-03| 55881|           d004|    110386|         51381|392|\n",
      "|   d004| 10018|1954-06-19|  Kazuhide|     Peha|     F|1987-04-03| 55881|           d004|    110386|         53926|393|\n",
      "|   d004| 10018|1954-06-19|  Kazuhide|     Peha|     F|1987-04-03| 55881|           d004|    110420|         40000|394|\n",
      "|   d004| 10018|1954-06-19|  Kazuhide|     Peha|     F|1987-04-03| 55881|           d004|    110420|         40762|395|\n",
      "|   d004| 10018|1954-06-19|  Kazuhide|     Peha|     F|1987-04-03| 55881|           d004|    110420|         42236|396|\n",
      "|   d004| 10018|1954-06-19|  Kazuhide|     Peha|     F|1987-04-03| 55881|           d004|    110420|         42891|397|\n",
      "|   d004| 10018|1954-06-19|  Kazuhide|     Peha|     F|1987-04-03| 55881|           d004|    110420|         43304|398|\n",
      "|   d004| 10018|1954-06-19|  Kazuhide|     Peha|     F|1987-04-03| 55881|           d004|    110420|         43862|399|\n",
      "|   d004| 10018|1954-06-19|  Kazuhide|     Peha|     F|1987-04-03| 55881|           d004|    110420|         47053|400|\n",
      "|   d004| 10018|1954-06-19|  Kazuhide|     Peha|     F|1987-04-03| 55881|           d004|    110420|         50868|401|\n",
      "|   d004| 10018|1954-06-19|  Kazuhide|     Peha|     F|1987-04-03| 55881|           d004|    110420|         53773|402|\n",
      "|   d004| 10018|1954-06-19|  Kazuhide|     Peha|     F|1987-04-03| 55881|           d004|    110420|         53978|403|\n",
      "|   d004| 10018|1954-06-19|  Kazuhide|     Peha|     F|1987-04-03| 55881|           d004|    110303|         42093|404|\n",
      "|   d004| 10018|1954-06-19|  Kazuhide|     Peha|     F|1987-04-03| 55881|           d004|    110303|         42808|405|\n",
      "|   d004| 10018|1954-06-19|  Kazuhide|     Peha|     F|1987-04-03| 55881|           d004|    110303|         42368|406|\n",
      "|   d004| 10018|1954-06-19|  Kazuhide|     Peha|     F|1987-04-03| 55881|           d004|    110303|         44954|407|\n",
      "|   d004| 10018|1954-06-19|  Kazuhide|     Peha|     F|1987-04-03| 55881|           d004|    110303|         47446|408|\n",
      "|   d004| 10018|1954-06-19|  Kazuhide|     Peha|     F|1987-04-03| 55881|           d004|    110303|         50390|409|\n",
      "|   d004| 10018|1954-06-19|  Kazuhide|     Peha|     F|1987-04-03| 55881|           d004|    110303|         52603|410|\n",
      "|   d004| 10018|1954-06-19|  Kazuhide|     Peha|     F|1987-04-03| 55881|           d004|    110344|         50365|411|\n",
      "|   d004| 10018|1954-06-19|  Kazuhide|     Peha|     F|1987-04-03| 55881|           d004|    110344|         50953|412|\n",
      "|   d004| 10018|1954-06-19|  Kazuhide|     Peha|     F|1987-04-03| 55881|           d004|    110344|         53052|413|\n",
      "|   d004| 10018|1954-06-19|  Kazuhide|     Peha|     F|1987-04-03| 55881|           d004|    110344|         55704|414|\n",
      "|   d004| 10018|1954-06-19|  Kazuhide|     Peha|     F|1987-04-03| 59206|           d004|    110386|         40000|415|\n",
      "|   d004| 10018|1954-06-19|  Kazuhide|     Peha|     F|1987-04-03| 59206|           d004|    110386|         42536|416|\n",
      "|   d004| 10018|1954-06-19|  Kazuhide|     Peha|     F|1987-04-03| 59206|           d004|    110386|         45922|417|\n",
      "|   d004| 10018|1954-06-19|  Kazuhide|     Peha|     F|1987-04-03| 59206|           d004|    110386|         47117|418|\n",
      "|   d004| 10018|1954-06-19|  Kazuhide|     Peha|     F|1987-04-03| 59206|           d004|    110386|         47794|419|\n",
      "|   d004| 10018|1954-06-19|  Kazuhide|     Peha|     F|1987-04-03| 59206|           d004|    110386|         51381|420|\n",
      "|   d004| 10018|1954-06-19|  Kazuhide|     Peha|     F|1987-04-03| 59206|           d004|    110386|         53926|421|\n",
      "|   d004| 10018|1954-06-19|  Kazuhide|     Peha|     F|1987-04-03| 59206|           d004|    110386|         56028|422|\n",
      "|   d004| 10018|1954-06-19|  Kazuhide|     Peha|     F|1987-04-03| 59206|           d004|    110386|         56528|423|\n",
      "|   d004| 10018|1954-06-19|  Kazuhide|     Peha|     F|1987-04-03| 59206|           d004|    110386|         56530|424|\n",
      "|   d004| 10018|1954-06-19|  Kazuhide|     Peha|     F|1987-04-03| 59206|           d004|    110420|         40000|425|\n",
      "|   d004| 10018|1954-06-19|  Kazuhide|     Peha|     F|1987-04-03| 59206|           d004|    110420|         40762|426|\n",
      "|   d004| 10018|1954-06-19|  Kazuhide|     Peha|     F|1987-04-03| 59206|           d004|    110420|         42236|427|\n",
      "|   d004| 10018|1954-06-19|  Kazuhide|     Peha|     F|1987-04-03| 59206|           d004|    110420|         42891|428|\n",
      "|   d004| 10018|1954-06-19|  Kazuhide|     Peha|     F|1987-04-03| 59206|           d004|    110420|         43304|429|\n",
      "|   d004| 10018|1954-06-19|  Kazuhide|     Peha|     F|1987-04-03| 59206|           d004|    110420|         43862|430|\n",
      "|   d004| 10018|1954-06-19|  Kazuhide|     Peha|     F|1987-04-03| 59206|           d004|    110420|         47053|431|\n",
      "|   d004| 10018|1954-06-19|  Kazuhide|     Peha|     F|1987-04-03| 59206|           d004|    110420|         50868|432|\n",
      "|   d004| 10018|1954-06-19|  Kazuhide|     Peha|     F|1987-04-03| 59206|           d004|    110420|         53773|433|\n",
      "|   d004| 10018|1954-06-19|  Kazuhide|     Peha|     F|1987-04-03| 59206|           d004|    110420|         53978|434|\n",
      "|   d004| 10018|1954-06-19|  Kazuhide|     Peha|     F|1987-04-03| 59206|           d004|    110420|         56654|435|\n",
      "|   d004| 10018|1954-06-19|  Kazuhide|     Peha|     F|1987-04-03| 59206|           d004|    110303|         42093|436|\n",
      "|   d004| 10018|1954-06-19|  Kazuhide|     Peha|     F|1987-04-03| 59206|           d004|    110303|         42808|437|\n",
      "|   d004| 10018|1954-06-19|  Kazuhide|     Peha|     F|1987-04-03| 59206|           d004|    110303|         42368|438|\n",
      "|   d004| 10018|1954-06-19|  Kazuhide|     Peha|     F|1987-04-03| 59206|           d004|    110303|         44954|439|\n",
      "|   d004| 10018|1954-06-19|  Kazuhide|     Peha|     F|1987-04-03| 59206|           d004|    110303|         47446|440|\n",
      "|   d004| 10018|1954-06-19|  Kazuhide|     Peha|     F|1987-04-03| 59206|           d004|    110303|         50390|441|\n",
      "|   d004| 10018|1954-06-19|  Kazuhide|     Peha|     F|1987-04-03| 59206|           d004|    110303|         52603|442|\n",
      "|   d004| 10018|1954-06-19|  Kazuhide|     Peha|     F|1987-04-03| 59206|           d004|    110303|         56607|443|\n",
      "|   d004| 10018|1954-06-19|  Kazuhide|     Peha|     F|1987-04-03| 59206|           d004|    110303|         57246|444|\n",
      "|   d004| 10018|1954-06-19|  Kazuhide|     Peha|     F|1987-04-03| 59206|           d004|    110303|         59135|445|\n",
      "|   d004| 10018|1954-06-19|  Kazuhide|     Peha|     F|1987-04-03| 59206|           d004|    110344|         50365|446|\n",
      "|   d004| 10018|1954-06-19|  Kazuhide|     Peha|     F|1987-04-03| 59206|           d004|    110344|         50953|447|\n",
      "|   d004| 10018|1954-06-19|  Kazuhide|     Peha|     F|1987-04-03| 59206|           d004|    110344|         53052|448|\n",
      "|   d004| 10018|1954-06-19|  Kazuhide|     Peha|     F|1987-04-03| 59206|           d004|    110344|         55704|449|\n",
      "|   d004| 10018|1954-06-19|  Kazuhide|     Peha|     F|1987-04-03| 61361|           d004|    110386|         40000|450|\n",
      "|   d004| 10018|1954-06-19|  Kazuhide|     Peha|     F|1987-04-03| 61361|           d004|    110386|         42536|451|\n",
      "|   d004| 10018|1954-06-19|  Kazuhide|     Peha|     F|1987-04-03| 61361|           d004|    110386|         45922|452|\n",
      "|   d004| 10018|1954-06-19|  Kazuhide|     Peha|     F|1987-04-03| 61361|           d004|    110386|         47117|453|\n",
      "|   d004| 10018|1954-06-19|  Kazuhide|     Peha|     F|1987-04-03| 61361|           d004|    110386|         47794|454|\n",
      "|   d004| 10018|1954-06-19|  Kazuhide|     Peha|     F|1987-04-03| 61361|           d004|    110386|         51381|455|\n",
      "|   d004| 10018|1954-06-19|  Kazuhide|     Peha|     F|1987-04-03| 61361|           d004|    110386|         53926|456|\n",
      "|   d004| 10018|1954-06-19|  Kazuhide|     Peha|     F|1987-04-03| 61361|           d004|    110386|         56028|457|\n",
      "|   d004| 10018|1954-06-19|  Kazuhide|     Peha|     F|1987-04-03| 61361|           d004|    110386|         56528|458|\n",
      "|   d004| 10018|1954-06-19|  Kazuhide|     Peha|     F|1987-04-03| 61361|           d004|    110386|         56530|459|\n",
      "|   d004| 10018|1954-06-19|  Kazuhide|     Peha|     F|1987-04-03| 61361|           d004|    110386|         59960|460|\n",
      "|   d004| 10018|1954-06-19|  Kazuhide|     Peha|     F|1987-04-03| 61361|           d004|    110386|         61207|461|\n",
      "|   d004| 10018|1954-06-19|  Kazuhide|     Peha|     F|1987-04-03| 61361|           d004|    110420|         40000|462|\n",
      "|   d004| 10018|1954-06-19|  Kazuhide|     Peha|     F|1987-04-03| 61361|           d004|    110420|         40762|463|\n",
      "|   d004| 10018|1954-06-19|  Kazuhide|     Peha|     F|1987-04-03| 61361|           d004|    110420|         42236|464|\n",
      "|   d004| 10018|1954-06-19|  Kazuhide|     Peha|     F|1987-04-03| 61361|           d004|    110420|         42891|465|\n",
      "|   d004| 10018|1954-06-19|  Kazuhide|     Peha|     F|1987-04-03| 61361|           d004|    110420|         43304|466|\n",
      "|   d004| 10018|1954-06-19|  Kazuhide|     Peha|     F|1987-04-03| 61361|           d004|    110420|         43862|467|\n",
      "|   d004| 10018|1954-06-19|  Kazuhide|     Peha|     F|1987-04-03| 61361|           d004|    110420|         47053|468|\n",
      "|   d004| 10018|1954-06-19|  Kazuhide|     Peha|     F|1987-04-03| 61361|           d004|    110420|         50868|469|\n",
      "|   d004| 10018|1954-06-19|  Kazuhide|     Peha|     F|1987-04-03| 61361|           d004|    110420|         53773|470|\n",
      "|   d004| 10018|1954-06-19|  Kazuhide|     Peha|     F|1987-04-03| 61361|           d004|    110420|         53978|471|\n",
      "|   d004| 10018|1954-06-19|  Kazuhide|     Peha|     F|1987-04-03| 61361|           d004|    110420|         56654|472|\n",
      "|   d004| 10018|1954-06-19|  Kazuhide|     Peha|     F|1987-04-03| 61361|           d004|    110303|         42093|473|\n",
      "|   d004| 10018|1954-06-19|  Kazuhide|     Peha|     F|1987-04-03| 61361|           d004|    110303|         42808|474|\n",
      "|   d004| 10018|1954-06-19|  Kazuhide|     Peha|     F|1987-04-03| 61361|           d004|    110303|         42368|475|\n",
      "|   d004| 10018|1954-06-19|  Kazuhide|     Peha|     F|1987-04-03| 61361|           d004|    110303|         44954|476|\n",
      "|   d004| 10018|1954-06-19|  Kazuhide|     Peha|     F|1987-04-03| 61361|           d004|    110303|         47446|477|\n",
      "|   d004| 10018|1954-06-19|  Kazuhide|     Peha|     F|1987-04-03| 61361|           d004|    110303|         50390|478|\n",
      "|   d004| 10018|1954-06-19|  Kazuhide|     Peha|     F|1987-04-03| 61361|           d004|    110303|         52603|479|\n",
      "|   d004| 10018|1954-06-19|  Kazuhide|     Peha|     F|1987-04-03| 61361|           d004|    110303|         56607|480|\n",
      "|   d004| 10018|1954-06-19|  Kazuhide|     Peha|     F|1987-04-03| 61361|           d004|    110303|         57246|481|\n",
      "|   d004| 10018|1954-06-19|  Kazuhide|     Peha|     F|1987-04-03| 61361|           d004|    110303|         59135|482|\n",
      "|   d004| 10018|1954-06-19|  Kazuhide|     Peha|     F|1987-04-03| 61361|           d004|    110303|         60568|483|\n",
      "|   d004| 10018|1954-06-19|  Kazuhide|     Peha|     F|1987-04-03| 61361|           d004|    110303|         60162|484|\n",
      "|   d004| 10018|1954-06-19|  Kazuhide|     Peha|     F|1987-04-03| 61361|           d004|    110344|         50365|485|\n",
      "|   d004| 10018|1954-06-19|  Kazuhide|     Peha|     F|1987-04-03| 61361|           d004|    110344|         50953|486|\n",
      "|   d004| 10018|1954-06-19|  Kazuhide|     Peha|     F|1987-04-03| 61361|           d004|    110344|         53052|487|\n",
      "|   d004| 10018|1954-06-19|  Kazuhide|     Peha|     F|1987-04-03| 61361|           d004|    110344|         55704|488|\n",
      "|   d004| 10018|1954-06-19|  Kazuhide|     Peha|     F|1987-04-03| 61361|           d004|    110344|         59323|489|\n",
      "|   d004| 10018|1954-06-19|  Kazuhide|     Peha|     F|1987-04-03| 61361|           d004|    110344|         61115|490|\n",
      "|   d004| 10018|1954-06-19|  Kazuhide|     Peha|     F|1987-04-03| 61648|           d004|    110386|         40000|491|\n",
      "|   d004| 10018|1954-06-19|  Kazuhide|     Peha|     F|1987-04-03| 61648|           d004|    110386|         42536|492|\n",
      "|   d004| 10018|1954-06-19|  Kazuhide|     Peha|     F|1987-04-03| 61648|           d004|    110386|         45922|493|\n",
      "|   d004| 10018|1954-06-19|  Kazuhide|     Peha|     F|1987-04-03| 61648|           d004|    110386|         47117|494|\n",
      "|   d004| 10018|1954-06-19|  Kazuhide|     Peha|     F|1987-04-03| 61648|           d004|    110386|         47794|495|\n",
      "|   d004| 10018|1954-06-19|  Kazuhide|     Peha|     F|1987-04-03| 61648|           d004|    110386|         51381|496|\n",
      "|   d004| 10018|1954-06-19|  Kazuhide|     Peha|     F|1987-04-03| 61648|           d004|    110386|         53926|497|\n",
      "|   d004| 10018|1954-06-19|  Kazuhide|     Peha|     F|1987-04-03| 61648|           d004|    110386|         56028|498|\n",
      "|   d004| 10018|1954-06-19|  Kazuhide|     Peha|     F|1987-04-03| 61648|           d004|    110386|         56528|499|\n",
      "|   d004| 10018|1954-06-19|  Kazuhide|     Peha|     F|1987-04-03| 61648|           d004|    110386|         56530|500|\n",
      "|   d004| 10018|1954-06-19|  Kazuhide|     Peha|     F|1987-04-03| 61648|           d004|    110386|         59960|501|\n",
      "|   d004| 10018|1954-06-19|  Kazuhide|     Peha|     F|1987-04-03| 61648|           d004|    110386|         61207|502|\n",
      "|   d004| 10018|1954-06-19|  Kazuhide|     Peha|     F|1987-04-03| 61648|           d004|    110420|         40000|503|\n",
      "|   d004| 10018|1954-06-19|  Kazuhide|     Peha|     F|1987-04-03| 61648|           d004|    110420|         40762|504|\n",
      "|   d004| 10018|1954-06-19|  Kazuhide|     Peha|     F|1987-04-03| 61648|           d004|    110420|         42236|505|\n",
      "|   d004| 10018|1954-06-19|  Kazuhide|     Peha|     F|1987-04-03| 61648|           d004|    110420|         42891|506|\n",
      "|   d004| 10018|1954-06-19|  Kazuhide|     Peha|     F|1987-04-03| 61648|           d004|    110420|         43304|507|\n",
      "|   d004| 10018|1954-06-19|  Kazuhide|     Peha|     F|1987-04-03| 61648|           d004|    110420|         43862|508|\n",
      "|   d004| 10018|1954-06-19|  Kazuhide|     Peha|     F|1987-04-03| 61648|           d004|    110420|         47053|509|\n",
      "|   d004| 10018|1954-06-19|  Kazuhide|     Peha|     F|1987-04-03| 61648|           d004|    110420|         50868|510|\n",
      "|   d004| 10018|1954-06-19|  Kazuhide|     Peha|     F|1987-04-03| 61648|           d004|    110420|         53773|511|\n",
      "|   d004| 10018|1954-06-19|  Kazuhide|     Peha|     F|1987-04-03| 61648|           d004|    110420|         53978|512|\n",
      "|   d004| 10018|1954-06-19|  Kazuhide|     Peha|     F|1987-04-03| 61648|           d004|    110420|         56654|513|\n",
      "|   d004| 10018|1954-06-19|  Kazuhide|     Peha|     F|1987-04-03| 61648|           d004|    110303|         42093|514|\n",
      "|   d004| 10018|1954-06-19|  Kazuhide|     Peha|     F|1987-04-03| 61648|           d004|    110303|         42808|515|\n",
      "|   d004| 10018|1954-06-19|  Kazuhide|     Peha|     F|1987-04-03| 61648|           d004|    110303|         42368|516|\n",
      "|   d004| 10018|1954-06-19|  Kazuhide|     Peha|     F|1987-04-03| 61648|           d004|    110303|         44954|517|\n",
      "|   d004| 10018|1954-06-19|  Kazuhide|     Peha|     F|1987-04-03| 61648|           d004|    110303|         47446|518|\n",
      "|   d004| 10018|1954-06-19|  Kazuhide|     Peha|     F|1987-04-03| 61648|           d004|    110303|         50390|519|\n",
      "|   d004| 10018|1954-06-19|  Kazuhide|     Peha|     F|1987-04-03| 61648|           d004|    110303|         52603|520|\n",
      "|   d004| 10018|1954-06-19|  Kazuhide|     Peha|     F|1987-04-03| 61648|           d004|    110303|         56607|521|\n",
      "|   d004| 10018|1954-06-19|  Kazuhide|     Peha|     F|1987-04-03| 61648|           d004|    110303|         57246|522|\n",
      "|   d004| 10018|1954-06-19|  Kazuhide|     Peha|     F|1987-04-03| 61648|           d004|    110303|         59135|523|\n",
      "|   d004| 10018|1954-06-19|  Kazuhide|     Peha|     F|1987-04-03| 61648|           d004|    110303|         60568|524|\n",
      "|   d004| 10018|1954-06-19|  Kazuhide|     Peha|     F|1987-04-03| 61648|           d004|    110303|         60162|525|\n",
      "|   d004| 10018|1954-06-19|  Kazuhide|     Peha|     F|1987-04-03| 61648|           d004|    110344|         50365|526|\n",
      "|   d004| 10018|1954-06-19|  Kazuhide|     Peha|     F|1987-04-03| 61648|           d004|    110344|         50953|527|\n",
      "|   d004| 10018|1954-06-19|  Kazuhide|     Peha|     F|1987-04-03| 61648|           d004|    110344|         53052|528|\n",
      "|   d004| 10018|1954-06-19|  Kazuhide|     Peha|     F|1987-04-03| 61648|           d004|    110344|         55704|529|\n",
      "|   d004| 10018|1954-06-19|  Kazuhide|     Peha|     F|1987-04-03| 61648|           d004|    110344|         59323|530|\n",
      "|   d004| 10018|1954-06-19|  Kazuhide|     Peha|     F|1987-04-03| 61648|           d004|    110344|         61115|531|\n",
      "|   d004| 10018|1954-06-19|  Kazuhide|     Peha|     F|1987-04-03| 61217|           d004|    110386|         40000|532|\n",
      "|   d004| 10018|1954-06-19|  Kazuhide|     Peha|     F|1987-04-03| 61217|           d004|    110386|         42536|533|\n",
      "|   d004| 10018|1954-06-19|  Kazuhide|     Peha|     F|1987-04-03| 61217|           d004|    110386|         45922|534|\n",
      "|   d004| 10018|1954-06-19|  Kazuhide|     Peha|     F|1987-04-03| 61217|           d004|    110386|         47117|535|\n",
      "|   d004| 10018|1954-06-19|  Kazuhide|     Peha|     F|1987-04-03| 61217|           d004|    110386|         47794|536|\n",
      "|   d004| 10018|1954-06-19|  Kazuhide|     Peha|     F|1987-04-03| 61217|           d004|    110386|         51381|537|\n",
      "|   d004| 10018|1954-06-19|  Kazuhide|     Peha|     F|1987-04-03| 61217|           d004|    110386|         53926|538|\n",
      "|   d004| 10018|1954-06-19|  Kazuhide|     Peha|     F|1987-04-03| 61217|           d004|    110386|         56028|539|\n",
      "|   d004| 10018|1954-06-19|  Kazuhide|     Peha|     F|1987-04-03| 61217|           d004|    110386|         56528|540|\n",
      "|   d004| 10018|1954-06-19|  Kazuhide|     Peha|     F|1987-04-03| 61217|           d004|    110386|         56530|541|\n",
      "|   d004| 10018|1954-06-19|  Kazuhide|     Peha|     F|1987-04-03| 61217|           d004|    110386|         59960|542|\n",
      "|   d004| 10018|1954-06-19|  Kazuhide|     Peha|     F|1987-04-03| 61217|           d004|    110386|         61207|543|\n",
      "|   d004| 10018|1954-06-19|  Kazuhide|     Peha|     F|1987-04-03| 61217|           d004|    110420|         40000|544|\n",
      "|   d004| 10018|1954-06-19|  Kazuhide|     Peha|     F|1987-04-03| 61217|           d004|    110420|         40762|545|\n",
      "|   d004| 10018|1954-06-19|  Kazuhide|     Peha|     F|1987-04-03| 61217|           d004|    110420|         42236|546|\n",
      "|   d004| 10018|1954-06-19|  Kazuhide|     Peha|     F|1987-04-03| 61217|           d004|    110420|         42891|547|\n",
      "|   d004| 10018|1954-06-19|  Kazuhide|     Peha|     F|1987-04-03| 61217|           d004|    110420|         43304|548|\n",
      "|   d004| 10018|1954-06-19|  Kazuhide|     Peha|     F|1987-04-03| 61217|           d004|    110420|         43862|549|\n",
      "|   d004| 10018|1954-06-19|  Kazuhide|     Peha|     F|1987-04-03| 61217|           d004|    110420|         47053|550|\n",
      "|   d004| 10018|1954-06-19|  Kazuhide|     Peha|     F|1987-04-03| 61217|           d004|    110420|         50868|551|\n",
      "|   d004| 10018|1954-06-19|  Kazuhide|     Peha|     F|1987-04-03| 61217|           d004|    110420|         53773|552|\n",
      "|   d004| 10018|1954-06-19|  Kazuhide|     Peha|     F|1987-04-03| 61217|           d004|    110420|         53978|553|\n",
      "|   d004| 10018|1954-06-19|  Kazuhide|     Peha|     F|1987-04-03| 61217|           d004|    110420|         56654|554|\n",
      "|   d004| 10018|1954-06-19|  Kazuhide|     Peha|     F|1987-04-03| 61217|           d004|    110303|         42093|555|\n",
      "|   d004| 10018|1954-06-19|  Kazuhide|     Peha|     F|1987-04-03| 61217|           d004|    110303|         42808|556|\n",
      "|   d004| 10018|1954-06-19|  Kazuhide|     Peha|     F|1987-04-03| 61217|           d004|    110303|         42368|557|\n",
      "|   d004| 10018|1954-06-19|  Kazuhide|     Peha|     F|1987-04-03| 61217|           d004|    110303|         44954|558|\n",
      "|   d004| 10018|1954-06-19|  Kazuhide|     Peha|     F|1987-04-03| 61217|           d004|    110303|         47446|559|\n",
      "|   d004| 10018|1954-06-19|  Kazuhide|     Peha|     F|1987-04-03| 61217|           d004|    110303|         50390|560|\n",
      "|   d004| 10018|1954-06-19|  Kazuhide|     Peha|     F|1987-04-03| 61217|           d004|    110303|         52603|561|\n",
      "|   d004| 10018|1954-06-19|  Kazuhide|     Peha|     F|1987-04-03| 61217|           d004|    110303|         56607|562|\n",
      "|   d004| 10018|1954-06-19|  Kazuhide|     Peha|     F|1987-04-03| 61217|           d004|    110303|         57246|563|\n",
      "|   d004| 10018|1954-06-19|  Kazuhide|     Peha|     F|1987-04-03| 61217|           d004|    110303|         59135|564|\n",
      "|   d004| 10018|1954-06-19|  Kazuhide|     Peha|     F|1987-04-03| 61217|           d004|    110303|         60568|565|\n",
      "|   d004| 10018|1954-06-19|  Kazuhide|     Peha|     F|1987-04-03| 61217|           d004|    110303|         60162|566|\n",
      "|   d004| 10018|1954-06-19|  Kazuhide|     Peha|     F|1987-04-03| 61217|           d004|    110344|         50365|567|\n",
      "|   d004| 10018|1954-06-19|  Kazuhide|     Peha|     F|1987-04-03| 61217|           d004|    110344|         50953|568|\n",
      "|   d004| 10018|1954-06-19|  Kazuhide|     Peha|     F|1987-04-03| 61217|           d004|    110344|         53052|569|\n",
      "|   d004| 10018|1954-06-19|  Kazuhide|     Peha|     F|1987-04-03| 61217|           d004|    110344|         55704|570|\n",
      "|   d004| 10018|1954-06-19|  Kazuhide|     Peha|     F|1987-04-03| 61217|           d004|    110344|         59323|571|\n",
      "|   d004| 10018|1954-06-19|  Kazuhide|     Peha|     F|1987-04-03| 61217|           d004|    110344|         61115|572|\n",
      "|   d004| 10018|1954-06-19|  Kazuhide|     Peha|     F|1987-04-03| 61244|           d004|    110386|         40000|573|\n",
      "|   d004| 10018|1954-06-19|  Kazuhide|     Peha|     F|1987-04-03| 61244|           d004|    110386|         42536|574|\n",
      "|   d004| 10018|1954-06-19|  Kazuhide|     Peha|     F|1987-04-03| 61244|           d004|    110386|         45922|575|\n",
      "|   d004| 10018|1954-06-19|  Kazuhide|     Peha|     F|1987-04-03| 61244|           d004|    110386|         47117|576|\n",
      "|   d004| 10018|1954-06-19|  Kazuhide|     Peha|     F|1987-04-03| 61244|           d004|    110386|         47794|577|\n",
      "|   d004| 10018|1954-06-19|  Kazuhide|     Peha|     F|1987-04-03| 61244|           d004|    110386|         51381|578|\n",
      "|   d004| 10018|1954-06-19|  Kazuhide|     Peha|     F|1987-04-03| 61244|           d004|    110386|         53926|579|\n",
      "|   d004| 10018|1954-06-19|  Kazuhide|     Peha|     F|1987-04-03| 61244|           d004|    110386|         56028|580|\n",
      "|   d004| 10018|1954-06-19|  Kazuhide|     Peha|     F|1987-04-03| 61244|           d004|    110386|         56528|581|\n",
      "|   d004| 10018|1954-06-19|  Kazuhide|     Peha|     F|1987-04-03| 61244|           d004|    110386|         56530|582|\n",
      "|   d004| 10018|1954-06-19|  Kazuhide|     Peha|     F|1987-04-03| 61244|           d004|    110386|         59960|583|\n",
      "|   d004| 10018|1954-06-19|  Kazuhide|     Peha|     F|1987-04-03| 61244|           d004|    110386|         61207|584|\n",
      "|   d004| 10018|1954-06-19|  Kazuhide|     Peha|     F|1987-04-03| 61244|           d004|    110420|         40000|585|\n",
      "|   d004| 10018|1954-06-19|  Kazuhide|     Peha|     F|1987-04-03| 61244|           d004|    110420|         40762|586|\n",
      "|   d004| 10018|1954-06-19|  Kazuhide|     Peha|     F|1987-04-03| 61244|           d004|    110420|         42236|587|\n",
      "|   d004| 10018|1954-06-19|  Kazuhide|     Peha|     F|1987-04-03| 61244|           d004|    110420|         42891|588|\n",
      "|   d004| 10018|1954-06-19|  Kazuhide|     Peha|     F|1987-04-03| 61244|           d004|    110420|         43304|589|\n",
      "|   d004| 10018|1954-06-19|  Kazuhide|     Peha|     F|1987-04-03| 61244|           d004|    110420|         43862|590|\n",
      "|   d004| 10018|1954-06-19|  Kazuhide|     Peha|     F|1987-04-03| 61244|           d004|    110420|         47053|591|\n",
      "|   d004| 10018|1954-06-19|  Kazuhide|     Peha|     F|1987-04-03| 61244|           d004|    110420|         50868|592|\n",
      "|   d004| 10018|1954-06-19|  Kazuhide|     Peha|     F|1987-04-03| 61244|           d004|    110420|         53773|593|\n",
      "|   d004| 10018|1954-06-19|  Kazuhide|     Peha|     F|1987-04-03| 61244|           d004|    110420|         53978|594|\n",
      "|   d004| 10018|1954-06-19|  Kazuhide|     Peha|     F|1987-04-03| 61244|           d004|    110420|         56654|595|\n",
      "|   d004| 10018|1954-06-19|  Kazuhide|     Peha|     F|1987-04-03| 61244|           d004|    110303|         42093|596|\n",
      "|   d004| 10018|1954-06-19|  Kazuhide|     Peha|     F|1987-04-03| 61244|           d004|    110303|         42808|597|\n",
      "|   d004| 10018|1954-06-19|  Kazuhide|     Peha|     F|1987-04-03| 61244|           d004|    110303|         42368|598|\n",
      "|   d004| 10018|1954-06-19|  Kazuhide|     Peha|     F|1987-04-03| 61244|           d004|    110303|         44954|599|\n",
      "|   d004| 10018|1954-06-19|  Kazuhide|     Peha|     F|1987-04-03| 61244|           d004|    110303|         47446|600|\n",
      "|   d004| 10018|1954-06-19|  Kazuhide|     Peha|     F|1987-04-03| 61244|           d004|    110303|         50390|601|\n",
      "|   d004| 10018|1954-06-19|  Kazuhide|     Peha|     F|1987-04-03| 61244|           d004|    110303|         52603|602|\n",
      "|   d004| 10018|1954-06-19|  Kazuhide|     Peha|     F|1987-04-03| 61244|           d004|    110303|         56607|603|\n",
      "|   d004| 10018|1954-06-19|  Kazuhide|     Peha|     F|1987-04-03| 61244|           d004|    110303|         57246|604|\n",
      "|   d004| 10018|1954-06-19|  Kazuhide|     Peha|     F|1987-04-03| 61244|           d004|    110303|         59135|605|\n",
      "|   d004| 10018|1954-06-19|  Kazuhide|     Peha|     F|1987-04-03| 61244|           d004|    110303|         60568|606|\n",
      "|   d004| 10018|1954-06-19|  Kazuhide|     Peha|     F|1987-04-03| 61244|           d004|    110303|         60162|607|\n",
      "|   d004| 10018|1954-06-19|  Kazuhide|     Peha|     F|1987-04-03| 61244|           d004|    110344|         50365|608|\n",
      "|   d004| 10018|1954-06-19|  Kazuhide|     Peha|     F|1987-04-03| 61244|           d004|    110344|         50953|609|\n",
      "|   d004| 10018|1954-06-19|  Kazuhide|     Peha|     F|1987-04-03| 61244|           d004|    110344|         53052|610|\n",
      "|   d004| 10018|1954-06-19|  Kazuhide|     Peha|     F|1987-04-03| 61244|           d004|    110344|         55704|611|\n",
      "|   d004| 10018|1954-06-19|  Kazuhide|     Peha|     F|1987-04-03| 61244|           d004|    110344|         59323|612|\n",
      "|   d004| 10018|1954-06-19|  Kazuhide|     Peha|     F|1987-04-03| 61244|           d004|    110344|         61115|613|\n",
      "|   d004| 10018|1954-06-19|  Kazuhide|     Peha|     F|1987-04-03| 63286|           d004|    110386|         40000|614|\n",
      "|   d004| 10018|1954-06-19|  Kazuhide|     Peha|     F|1987-04-03| 63286|           d004|    110386|         42536|615|\n",
      "|   d004| 10018|1954-06-19|  Kazuhide|     Peha|     F|1987-04-03| 63286|           d004|    110386|         45922|616|\n",
      "|   d004| 10018|1954-06-19|  Kazuhide|     Peha|     F|1987-04-03| 63286|           d004|    110386|         47117|617|\n",
      "|   d004| 10018|1954-06-19|  Kazuhide|     Peha|     F|1987-04-03| 63286|           d004|    110386|         47794|618|\n",
      "|   d004| 10018|1954-06-19|  Kazuhide|     Peha|     F|1987-04-03| 63286|           d004|    110386|         51381|619|\n",
      "|   d004| 10018|1954-06-19|  Kazuhide|     Peha|     F|1987-04-03| 63286|           d004|    110386|         53926|620|\n",
      "|   d004| 10018|1954-06-19|  Kazuhide|     Peha|     F|1987-04-03| 63286|           d004|    110386|         56028|621|\n",
      "|   d004| 10018|1954-06-19|  Kazuhide|     Peha|     F|1987-04-03| 63286|           d004|    110386|         56528|622|\n",
      "|   d004| 10018|1954-06-19|  Kazuhide|     Peha|     F|1987-04-03| 63286|           d004|    110386|         56530|623|\n",
      "|   d004| 10018|1954-06-19|  Kazuhide|     Peha|     F|1987-04-03| 63286|           d004|    110386|         59960|624|\n",
      "|   d004| 10018|1954-06-19|  Kazuhide|     Peha|     F|1987-04-03| 63286|           d004|    110386|         61207|625|\n",
      "|   d004| 10018|1954-06-19|  Kazuhide|     Peha|     F|1987-04-03| 63286|           d004|    110420|         40000|626|\n",
      "|   d004| 10018|1954-06-19|  Kazuhide|     Peha|     F|1987-04-03| 63286|           d004|    110420|         40762|627|\n",
      "|   d004| 10018|1954-06-19|  Kazuhide|     Peha|     F|1987-04-03| 63286|           d004|    110420|         42236|628|\n",
      "|   d004| 10018|1954-06-19|  Kazuhide|     Peha|     F|1987-04-03| 63286|           d004|    110420|         42891|629|\n",
      "|   d004| 10018|1954-06-19|  Kazuhide|     Peha|     F|1987-04-03| 63286|           d004|    110420|         43304|630|\n",
      "|   d004| 10018|1954-06-19|  Kazuhide|     Peha|     F|1987-04-03| 63286|           d004|    110420|         43862|631|\n",
      "|   d004| 10018|1954-06-19|  Kazuhide|     Peha|     F|1987-04-03| 63286|           d004|    110420|         47053|632|\n",
      "|   d004| 10018|1954-06-19|  Kazuhide|     Peha|     F|1987-04-03| 63286|           d004|    110420|         50868|633|\n",
      "|   d004| 10018|1954-06-19|  Kazuhide|     Peha|     F|1987-04-03| 63286|           d004|    110420|         53773|634|\n",
      "|   d004| 10018|1954-06-19|  Kazuhide|     Peha|     F|1987-04-03| 63286|           d004|    110420|         53978|635|\n",
      "|   d004| 10018|1954-06-19|  Kazuhide|     Peha|     F|1987-04-03| 63286|           d004|    110420|         56654|636|\n",
      "|   d004| 10018|1954-06-19|  Kazuhide|     Peha|     F|1987-04-03| 63286|           d004|    110303|         42093|637|\n",
      "|   d004| 10018|1954-06-19|  Kazuhide|     Peha|     F|1987-04-03| 63286|           d004|    110303|         42808|638|\n",
      "|   d004| 10018|1954-06-19|  Kazuhide|     Peha|     F|1987-04-03| 63286|           d004|    110303|         42368|639|\n",
      "|   d004| 10018|1954-06-19|  Kazuhide|     Peha|     F|1987-04-03| 63286|           d004|    110303|         44954|640|\n",
      "|   d004| 10018|1954-06-19|  Kazuhide|     Peha|     F|1987-04-03| 63286|           d004|    110303|         47446|641|\n",
      "|   d004| 10018|1954-06-19|  Kazuhide|     Peha|     F|1987-04-03| 63286|           d004|    110303|         50390|642|\n",
      "|   d004| 10018|1954-06-19|  Kazuhide|     Peha|     F|1987-04-03| 63286|           d004|    110303|         52603|643|\n",
      "|   d004| 10018|1954-06-19|  Kazuhide|     Peha|     F|1987-04-03| 63286|           d004|    110303|         56607|644|\n",
      "|   d004| 10018|1954-06-19|  Kazuhide|     Peha|     F|1987-04-03| 63286|           d004|    110303|         57246|645|\n",
      "|   d004| 10018|1954-06-19|  Kazuhide|     Peha|     F|1987-04-03| 63286|           d004|    110303|         59135|646|\n",
      "|   d004| 10018|1954-06-19|  Kazuhide|     Peha|     F|1987-04-03| 63286|           d004|    110303|         60568|647|\n",
      "|   d004| 10018|1954-06-19|  Kazuhide|     Peha|     F|1987-04-03| 63286|           d004|    110303|         60162|648|\n",
      "|   d004| 10018|1954-06-19|  Kazuhide|     Peha|     F|1987-04-03| 63286|           d004|    110344|         50365|649|\n",
      "|   d004| 10018|1954-06-19|  Kazuhide|     Peha|     F|1987-04-03| 63286|           d004|    110344|         50953|650|\n",
      "|   d004| 10018|1954-06-19|  Kazuhide|     Peha|     F|1987-04-03| 63286|           d004|    110344|         53052|651|\n",
      "|   d004| 10018|1954-06-19|  Kazuhide|     Peha|     F|1987-04-03| 63286|           d004|    110344|         55704|652|\n",
      "|   d004| 10018|1954-06-19|  Kazuhide|     Peha|     F|1987-04-03| 63286|           d004|    110344|         59323|653|\n",
      "+-------+------+----------+----------+---------+------+----------+------+---------------+----------+--------------+---+\n",
      "only showing top 1000 rows\n",
      "\n"
     ]
    }
   ],
   "source": [
    "result4 = app.sql(\n",
    "                    '''\n",
    "                    with managers as\n",
    "                    (\n",
    "                    select distinct(dept_no) as `manager_dept_no`, dm.emp_no as `manager_no`,s.salary as `manager_salary`\n",
    "                    from (dept_manager as dm) inner join (salaries as s) \n",
    "                    on dm.emp_no = s.emp_no\n",
    "                    )\n",
    "                    ,employees as\n",
    "                    (\n",
    "                    select d.dept_no,e.*,s.salary\n",
    "                    from (emp as e) inner join (salaries as s)\n",
    "                    on e.emp_no = s.emp_no\n",
    "                    inner join (dept_emp as de)\n",
    "                    on de.emp_no = e.emp_no\n",
    "                    inner join (dept as d) on d.dept_no = de.dept_no\n",
    "                    )\n",
    "                    ,distinct_employees as\n",
    "                    (\n",
    "                    select *,\n",
    "                    row_number() over(partition by e.emp_no order by e.emp_no) as `rn`\n",
    "                    from\n",
    "                    (employees as e) inner join (managers as m)\n",
    "                    on e.dept_no = m.manager_dept_no\n",
    "                    where e.salary > m.manager_salary\n",
    "                    )\n",
    "                    select * from distinct_employees\n",
    "                    '''\n",
    "                    )\n",
    "\n",
    "result4.show(n=1000)"
   ]
  },
  {
   "cell_type": "markdown",
   "id": "f14787d8-33a5-4967-99a1-1cbcd53edeac",
   "metadata": {},
   "source": [
    "## -------------------------------------------------------------------------------------------"
   ]
  },
  {
   "cell_type": "markdown",
   "id": "eefaef74-fbaa-4581-9234-1cd0638755d4",
   "metadata": {},
   "source": [
    "## find the top-20 employees who are all earning morethan their manager salary"
   ]
  },
  {
   "cell_type": "code",
   "execution_count": 32,
   "id": "4e312874-0469-4f14-9a1c-30b6e932128a",
   "metadata": {},
   "outputs": [
    {
     "name": "stdout",
     "output_type": "stream",
     "text": [
      "+-------+------+----------+------------------+------+----------+------+---------------+----------+--------------+---+\n",
      "|dept_no|emp_no|birth_date|     employee_name|gender| hire_date|salary|manager_dept_no|manager_no|manager_salary| rn|\n",
      "+-------+------+----------+------------------+------+----------+------+---------------+----------+--------------+---+\n",
      "|   d005| 10006|1953-04-20|    Anneke Preusig|     F|1989-06-02| 60098|           d005|    110567|         40000|  1|\n",
      "|   d008| 10007|1957-05-23| Tzvetan Zielinski|     F|1989-02-10| 88070|           d008|    111400|         72446|  1|\n",
      "|   d004| 10010|1963-06-01|Duangkaew Piveteau|     F|1989-08-24| 80324|           d004|    110386|         40000|  1|\n",
      "|   d009| 10011|1953-11-07|        Mary Sluis|     F|1990-01-22| 56753|           d009|    111692|         40000|  1|\n",
      "|   d003| 10013|1963-06-07|  Eberhardt Terkki|     M|1985-10-20| 68901|           d003|    110228|         40000|  1|\n",
      "|   d005| 10018|1954-06-19|     Kazuhide Peha|     F|1987-04-03| 84672|           d005|    110567|         40000|  1|\n",
      "|   d004| 10020|1952-12-24|    Mayuko Warwick|     M|1991-01-26| 47017|           d004|    110386|         40000|  1|\n",
      "|   d005| 10022|1952-07-08|     Shahaf Famili|     M|1995-08-22| 41348|           d005|    110567|         40000|  1|\n",
      "|   d004| 10032|1960-08-09|     Jeong Reistad|     F|1990-06-20| 69539|           d004|    110386|         40000|  1|\n",
      "|   d005| 10037|1963-07-22|  Pradeep Makrucki|     M|1990-12-05| 60992|           d005|    110567|         40000|  1|\n",
      "|   d005| 10043|1960-09-19|    Yishay Tzvieli|     M|1990-10-20| 77659|           d005|    110567|         40000|  1|\n",
      "|   d009| 10049|1961-04-24|      Basil Tramer|     F|1992-05-04| 51326|           d009|    111692|         40000|  1|\n",
      "|   d007| 10053|1954-09-13|   Sanjiv Zschoche|     F|1986-02-04| 78478|           d007|    111035|         71612|  1|\n",
      "|   d001| 10058|1954-10-01|  Berhard McFarlin|     M|1987-04-13| 72542|           d001|    110039|         69941|  1|\n",
      "|   d004| 10063|1952-08-06|    Gino Leonhardt|     F|1989-04-08| 74841|           d004|    110386|         40000|  1|\n",
      "|   d005| 10070|1955-08-20| Reuven Garigliano|     M|1985-10-14| 96322|           d005|    110567|         40000|  1|\n",
      "|   d005| 10075|1960-03-09|      Gao Dolinsky|     F|1987-03-19| 67492|           d005|    110567|         40000|  1|\n",
      "|   d005| 10079|1961-10-05|      Kshitij Gils|     F|1986-03-27| 67231|           d005|    110567|         40000|  1|\n",
      "|   d004| 10081|1960-12-17|    Zhongwei Rosen|     M|1986-10-30| 79351|           d004|    110386|         40000|  1|\n",
      "|   d008| 10082|1963-09-09|      Parviz Lortz|     M|1990-01-03| 48935|           d008|    111534|         48077|  1|\n",
      "+-------+------+----------+------------------+------+----------+------+---------------+----------+--------------+---+\n",
      "\n"
     ]
    }
   ],
   "source": [
    "result4 = app.sql(\n",
    "                    '''\n",
    "                    with managers as\n",
    "                    (\n",
    "                    select distinct(dept_no) as `manager_dept_no`, dm.emp_no as `manager_no`,s.salary as `manager_salary`\n",
    "                    from (dept_manager as dm) inner join (salaries as s) \n",
    "                    on dm.emp_no = s.emp_no\n",
    "                    )\n",
    "                    ,employees as\n",
    "                    (\n",
    "                    select d.dept_no,e.emp_no, birth_date, concat(first_name,' ',last_name) as `employee_name`,\n",
    "                    e.gender, e.hire_date,s.salary\n",
    "                    from (emp as e) inner join (salaries as s)\n",
    "                    on e.emp_no = s.emp_no\n",
    "                    inner join (dept_emp as de)\n",
    "                    on de.emp_no = e.emp_no\n",
    "                    inner join (dept as d) on d.dept_no = de.dept_no\n",
    "                    )\n",
    "                    ,distinct_employees as\n",
    "                    (\n",
    "                    select *,\n",
    "                    row_number() over(partition by e.emp_no order by e.salary desc) as `rn`\n",
    "                    from\n",
    "                    (employees as e) inner join (managers as m)\n",
    "                    on e.dept_no = m.manager_dept_no\n",
    "                    where e.salary > m.manager_salary\n",
    "                    )\n",
    "                    select * \n",
    "                    from distinct_employees \n",
    "                    where rn in(1)\n",
    "                    limit 20\n",
    "                    '''\n",
    "                    )\n",
    "\n",
    "result4.show()"
   ]
  },
  {
   "cell_type": "code",
   "execution_count": 33,
   "id": "0ea44862-02af-4553-b61d-fa0c0b301f83",
   "metadata": {},
   "outputs": [],
   "source": [
    "df3 = result4.toPandas()"
   ]
  },
  {
   "cell_type": "code",
   "execution_count": 34,
   "id": "c1d8e2cb-eaac-423d-8002-d7339118e30a",
   "metadata": {},
   "outputs": [
    {
     "data": {
      "text/plain": [
       "Index(['dept_no', 'emp_no', 'birth_date', 'employee_name', 'gender',\n",
       "       'hire_date', 'salary', 'manager_dept_no', 'manager_no',\n",
       "       'manager_salary', 'rn'],\n",
       "      dtype='object')"
      ]
     },
     "execution_count": 34,
     "metadata": {},
     "output_type": "execute_result"
    }
   ],
   "source": [
    "df3.columns"
   ]
  },
  {
   "cell_type": "code",
   "execution_count": 35,
   "id": "f909bf32-1bb9-44e5-9866-abf785a7c1b6",
   "metadata": {},
   "outputs": [
    {
     "data": {
      "application/vnd.plotly.v1+json": {
       "config": {
        "plotlyServerURL": "https://plot.ly"
       },
       "data": [
        {
         "alignmentgroup": "True",
         "hovertemplate": "Role=salary<br>Employee Name=%{x}<br>Salary=%{y}<extra></extra>",
         "legendgroup": "salary",
         "marker": {
          "color": "#636efa",
          "pattern": {
           "shape": ""
          }
         },
         "name": "salary",
         "offsetgroup": "salary",
         "orientation": "v",
         "showlegend": true,
         "textposition": "auto",
         "texttemplate": "%{y}",
         "type": "bar",
         "visible": true,
         "x": [
          "Anneke Preusig",
          "Tzvetan Zielinski",
          "Duangkaew Piveteau",
          "Mary Sluis",
          "Eberhardt Terkki",
          "Kazuhide Peha",
          "Mayuko Warwick",
          "Shahaf Famili",
          "Jeong Reistad",
          "Pradeep Makrucki",
          "Yishay Tzvieli",
          "Basil Tramer",
          "Sanjiv Zschoche",
          "Berhard McFarlin",
          "Gino Leonhardt",
          "Reuven Garigliano",
          "Gao Dolinsky",
          "Kshitij Gils",
          "Zhongwei Rosen",
          "Parviz Lortz"
         ],
         "xaxis": "x",
         "y": [
          60098,
          88070,
          80324,
          56753,
          68901,
          84672,
          47017,
          41348,
          69539,
          60992,
          77659,
          51326,
          78478,
          72542,
          74841,
          96322,
          67492,
          67231,
          79351,
          48935
         ],
         "yaxis": "y"
        },
        {
         "alignmentgroup": "True",
         "hovertemplate": "Role=manager_salary<br>Employee Name=%{x}<br>Salary=%{y}<extra></extra>",
         "legendgroup": "manager_salary",
         "marker": {
          "color": "#EF553B",
          "pattern": {
           "shape": ""
          }
         },
         "name": "manager_salary",
         "offsetgroup": "manager_salary",
         "orientation": "v",
         "showlegend": true,
         "textposition": "auto",
         "texttemplate": "%{y}",
         "type": "bar",
         "visible": true,
         "x": [
          "Anneke Preusig",
          "Tzvetan Zielinski",
          "Duangkaew Piveteau",
          "Mary Sluis",
          "Eberhardt Terkki",
          "Kazuhide Peha",
          "Mayuko Warwick",
          "Shahaf Famili",
          "Jeong Reistad",
          "Pradeep Makrucki",
          "Yishay Tzvieli",
          "Basil Tramer",
          "Sanjiv Zschoche",
          "Berhard McFarlin",
          "Gino Leonhardt",
          "Reuven Garigliano",
          "Gao Dolinsky",
          "Kshitij Gils",
          "Zhongwei Rosen",
          "Parviz Lortz"
         ],
         "xaxis": "x",
         "y": [
          40000,
          72446,
          40000,
          40000,
          40000,
          40000,
          40000,
          40000,
          40000,
          40000,
          40000,
          40000,
          71612,
          69941,
          40000,
          40000,
          40000,
          40000,
          40000,
          48077
         ],
         "yaxis": "y"
        }
       ],
       "layout": {
        "autosize": true,
        "barmode": "group",
        "legend": {
         "title": {
          "text": "Role"
         },
         "tracegroupgap": 0
        },
        "template": {
         "data": {
          "bar": [
           {
            "error_x": {
             "color": "#2a3f5f"
            },
            "error_y": {
             "color": "#2a3f5f"
            },
            "marker": {
             "line": {
              "color": "#E5ECF6",
              "width": 0.5
             },
             "pattern": {
              "fillmode": "overlay",
              "size": 10,
              "solidity": 0.2
             }
            },
            "type": "bar"
           }
          ],
          "barpolar": [
           {
            "marker": {
             "line": {
              "color": "#E5ECF6",
              "width": 0.5
             },
             "pattern": {
              "fillmode": "overlay",
              "size": 10,
              "solidity": 0.2
             }
            },
            "type": "barpolar"
           }
          ],
          "carpet": [
           {
            "aaxis": {
             "endlinecolor": "#2a3f5f",
             "gridcolor": "white",
             "linecolor": "white",
             "minorgridcolor": "white",
             "startlinecolor": "#2a3f5f"
            },
            "baxis": {
             "endlinecolor": "#2a3f5f",
             "gridcolor": "white",
             "linecolor": "white",
             "minorgridcolor": "white",
             "startlinecolor": "#2a3f5f"
            },
            "type": "carpet"
           }
          ],
          "choropleth": [
           {
            "colorbar": {
             "outlinewidth": 0,
             "ticks": ""
            },
            "type": "choropleth"
           }
          ],
          "contour": [
           {
            "colorbar": {
             "outlinewidth": 0,
             "ticks": ""
            },
            "colorscale": [
             [
              0,
              "#0d0887"
             ],
             [
              0.1111111111111111,
              "#46039f"
             ],
             [
              0.2222222222222222,
              "#7201a8"
             ],
             [
              0.3333333333333333,
              "#9c179e"
             ],
             [
              0.4444444444444444,
              "#bd3786"
             ],
             [
              0.5555555555555556,
              "#d8576b"
             ],
             [
              0.6666666666666666,
              "#ed7953"
             ],
             [
              0.7777777777777778,
              "#fb9f3a"
             ],
             [
              0.8888888888888888,
              "#fdca26"
             ],
             [
              1,
              "#f0f921"
             ]
            ],
            "type": "contour"
           }
          ],
          "contourcarpet": [
           {
            "colorbar": {
             "outlinewidth": 0,
             "ticks": ""
            },
            "type": "contourcarpet"
           }
          ],
          "heatmap": [
           {
            "colorbar": {
             "outlinewidth": 0,
             "ticks": ""
            },
            "colorscale": [
             [
              0,
              "#0d0887"
             ],
             [
              0.1111111111111111,
              "#46039f"
             ],
             [
              0.2222222222222222,
              "#7201a8"
             ],
             [
              0.3333333333333333,
              "#9c179e"
             ],
             [
              0.4444444444444444,
              "#bd3786"
             ],
             [
              0.5555555555555556,
              "#d8576b"
             ],
             [
              0.6666666666666666,
              "#ed7953"
             ],
             [
              0.7777777777777778,
              "#fb9f3a"
             ],
             [
              0.8888888888888888,
              "#fdca26"
             ],
             [
              1,
              "#f0f921"
             ]
            ],
            "type": "heatmap"
           }
          ],
          "heatmapgl": [
           {
            "colorbar": {
             "outlinewidth": 0,
             "ticks": ""
            },
            "colorscale": [
             [
              0,
              "#0d0887"
             ],
             [
              0.1111111111111111,
              "#46039f"
             ],
             [
              0.2222222222222222,
              "#7201a8"
             ],
             [
              0.3333333333333333,
              "#9c179e"
             ],
             [
              0.4444444444444444,
              "#bd3786"
             ],
             [
              0.5555555555555556,
              "#d8576b"
             ],
             [
              0.6666666666666666,
              "#ed7953"
             ],
             [
              0.7777777777777778,
              "#fb9f3a"
             ],
             [
              0.8888888888888888,
              "#fdca26"
             ],
             [
              1,
              "#f0f921"
             ]
            ],
            "type": "heatmapgl"
           }
          ],
          "histogram": [
           {
            "marker": {
             "pattern": {
              "fillmode": "overlay",
              "size": 10,
              "solidity": 0.2
             }
            },
            "type": "histogram"
           }
          ],
          "histogram2d": [
           {
            "colorbar": {
             "outlinewidth": 0,
             "ticks": ""
            },
            "colorscale": [
             [
              0,
              "#0d0887"
             ],
             [
              0.1111111111111111,
              "#46039f"
             ],
             [
              0.2222222222222222,
              "#7201a8"
             ],
             [
              0.3333333333333333,
              "#9c179e"
             ],
             [
              0.4444444444444444,
              "#bd3786"
             ],
             [
              0.5555555555555556,
              "#d8576b"
             ],
             [
              0.6666666666666666,
              "#ed7953"
             ],
             [
              0.7777777777777778,
              "#fb9f3a"
             ],
             [
              0.8888888888888888,
              "#fdca26"
             ],
             [
              1,
              "#f0f921"
             ]
            ],
            "type": "histogram2d"
           }
          ],
          "histogram2dcontour": [
           {
            "colorbar": {
             "outlinewidth": 0,
             "ticks": ""
            },
            "colorscale": [
             [
              0,
              "#0d0887"
             ],
             [
              0.1111111111111111,
              "#46039f"
             ],
             [
              0.2222222222222222,
              "#7201a8"
             ],
             [
              0.3333333333333333,
              "#9c179e"
             ],
             [
              0.4444444444444444,
              "#bd3786"
             ],
             [
              0.5555555555555556,
              "#d8576b"
             ],
             [
              0.6666666666666666,
              "#ed7953"
             ],
             [
              0.7777777777777778,
              "#fb9f3a"
             ],
             [
              0.8888888888888888,
              "#fdca26"
             ],
             [
              1,
              "#f0f921"
             ]
            ],
            "type": "histogram2dcontour"
           }
          ],
          "mesh3d": [
           {
            "colorbar": {
             "outlinewidth": 0,
             "ticks": ""
            },
            "type": "mesh3d"
           }
          ],
          "parcoords": [
           {
            "line": {
             "colorbar": {
              "outlinewidth": 0,
              "ticks": ""
             }
            },
            "type": "parcoords"
           }
          ],
          "pie": [
           {
            "automargin": true,
            "type": "pie"
           }
          ],
          "scatter": [
           {
            "fillpattern": {
             "fillmode": "overlay",
             "size": 10,
             "solidity": 0.2
            },
            "type": "scatter"
           }
          ],
          "scatter3d": [
           {
            "line": {
             "colorbar": {
              "outlinewidth": 0,
              "ticks": ""
             }
            },
            "marker": {
             "colorbar": {
              "outlinewidth": 0,
              "ticks": ""
             }
            },
            "type": "scatter3d"
           }
          ],
          "scattercarpet": [
           {
            "marker": {
             "colorbar": {
              "outlinewidth": 0,
              "ticks": ""
             }
            },
            "type": "scattercarpet"
           }
          ],
          "scattergeo": [
           {
            "marker": {
             "colorbar": {
              "outlinewidth": 0,
              "ticks": ""
             }
            },
            "type": "scattergeo"
           }
          ],
          "scattergl": [
           {
            "marker": {
             "colorbar": {
              "outlinewidth": 0,
              "ticks": ""
             }
            },
            "type": "scattergl"
           }
          ],
          "scattermapbox": [
           {
            "marker": {
             "colorbar": {
              "outlinewidth": 0,
              "ticks": ""
             }
            },
            "type": "scattermapbox"
           }
          ],
          "scatterpolar": [
           {
            "marker": {
             "colorbar": {
              "outlinewidth": 0,
              "ticks": ""
             }
            },
            "type": "scatterpolar"
           }
          ],
          "scatterpolargl": [
           {
            "marker": {
             "colorbar": {
              "outlinewidth": 0,
              "ticks": ""
             }
            },
            "type": "scatterpolargl"
           }
          ],
          "scatterternary": [
           {
            "marker": {
             "colorbar": {
              "outlinewidth": 0,
              "ticks": ""
             }
            },
            "type": "scatterternary"
           }
          ],
          "surface": [
           {
            "colorbar": {
             "outlinewidth": 0,
             "ticks": ""
            },
            "colorscale": [
             [
              0,
              "#0d0887"
             ],
             [
              0.1111111111111111,
              "#46039f"
             ],
             [
              0.2222222222222222,
              "#7201a8"
             ],
             [
              0.3333333333333333,
              "#9c179e"
             ],
             [
              0.4444444444444444,
              "#bd3786"
             ],
             [
              0.5555555555555556,
              "#d8576b"
             ],
             [
              0.6666666666666666,
              "#ed7953"
             ],
             [
              0.7777777777777778,
              "#fb9f3a"
             ],
             [
              0.8888888888888888,
              "#fdca26"
             ],
             [
              1,
              "#f0f921"
             ]
            ],
            "type": "surface"
           }
          ],
          "table": [
           {
            "cells": {
             "fill": {
              "color": "#EBF0F8"
             },
             "line": {
              "color": "white"
             }
            },
            "header": {
             "fill": {
              "color": "#C8D4E3"
             },
             "line": {
              "color": "white"
             }
            },
            "type": "table"
           }
          ]
         },
         "layout": {
          "annotationdefaults": {
           "arrowcolor": "#2a3f5f",
           "arrowhead": 0,
           "arrowwidth": 1
          },
          "autotypenumbers": "strict",
          "coloraxis": {
           "colorbar": {
            "outlinewidth": 0,
            "ticks": ""
           }
          },
          "colorscale": {
           "diverging": [
            [
             0,
             "#8e0152"
            ],
            [
             0.1,
             "#c51b7d"
            ],
            [
             0.2,
             "#de77ae"
            ],
            [
             0.3,
             "#f1b6da"
            ],
            [
             0.4,
             "#fde0ef"
            ],
            [
             0.5,
             "#f7f7f7"
            ],
            [
             0.6,
             "#e6f5d0"
            ],
            [
             0.7,
             "#b8e186"
            ],
            [
             0.8,
             "#7fbc41"
            ],
            [
             0.9,
             "#4d9221"
            ],
            [
             1,
             "#276419"
            ]
           ],
           "sequential": [
            [
             0,
             "#0d0887"
            ],
            [
             0.1111111111111111,
             "#46039f"
            ],
            [
             0.2222222222222222,
             "#7201a8"
            ],
            [
             0.3333333333333333,
             "#9c179e"
            ],
            [
             0.4444444444444444,
             "#bd3786"
            ],
            [
             0.5555555555555556,
             "#d8576b"
            ],
            [
             0.6666666666666666,
             "#ed7953"
            ],
            [
             0.7777777777777778,
             "#fb9f3a"
            ],
            [
             0.8888888888888888,
             "#fdca26"
            ],
            [
             1,
             "#f0f921"
            ]
           ],
           "sequentialminus": [
            [
             0,
             "#0d0887"
            ],
            [
             0.1111111111111111,
             "#46039f"
            ],
            [
             0.2222222222222222,
             "#7201a8"
            ],
            [
             0.3333333333333333,
             "#9c179e"
            ],
            [
             0.4444444444444444,
             "#bd3786"
            ],
            [
             0.5555555555555556,
             "#d8576b"
            ],
            [
             0.6666666666666666,
             "#ed7953"
            ],
            [
             0.7777777777777778,
             "#fb9f3a"
            ],
            [
             0.8888888888888888,
             "#fdca26"
            ],
            [
             1,
             "#f0f921"
            ]
           ]
          },
          "colorway": [
           "#636efa",
           "#EF553B",
           "#00cc96",
           "#ab63fa",
           "#FFA15A",
           "#19d3f3",
           "#FF6692",
           "#B6E880",
           "#FF97FF",
           "#FECB52"
          ],
          "font": {
           "color": "#2a3f5f"
          },
          "geo": {
           "bgcolor": "white",
           "lakecolor": "white",
           "landcolor": "#E5ECF6",
           "showlakes": true,
           "showland": true,
           "subunitcolor": "white"
          },
          "hoverlabel": {
           "align": "left"
          },
          "hovermode": "closest",
          "mapbox": {
           "style": "light"
          },
          "paper_bgcolor": "white",
          "plot_bgcolor": "#E5ECF6",
          "polar": {
           "angularaxis": {
            "gridcolor": "white",
            "linecolor": "white",
            "ticks": ""
           },
           "bgcolor": "#E5ECF6",
           "radialaxis": {
            "gridcolor": "white",
            "linecolor": "white",
            "ticks": ""
           }
          },
          "scene": {
           "xaxis": {
            "backgroundcolor": "#E5ECF6",
            "gridcolor": "white",
            "gridwidth": 2,
            "linecolor": "white",
            "showbackground": true,
            "ticks": "",
            "zerolinecolor": "white"
           },
           "yaxis": {
            "backgroundcolor": "#E5ECF6",
            "gridcolor": "white",
            "gridwidth": 2,
            "linecolor": "white",
            "showbackground": true,
            "ticks": "",
            "zerolinecolor": "white"
           },
           "zaxis": {
            "backgroundcolor": "#E5ECF6",
            "gridcolor": "white",
            "gridwidth": 2,
            "linecolor": "white",
            "showbackground": true,
            "ticks": "",
            "zerolinecolor": "white"
           }
          },
          "shapedefaults": {
           "line": {
            "color": "#2a3f5f"
           }
          },
          "ternary": {
           "aaxis": {
            "gridcolor": "white",
            "linecolor": "white",
            "ticks": ""
           },
           "baxis": {
            "gridcolor": "white",
            "linecolor": "white",
            "ticks": ""
           },
           "bgcolor": "#E5ECF6",
           "caxis": {
            "gridcolor": "white",
            "linecolor": "white",
            "ticks": ""
           }
          },
          "title": {
           "x": 0.05
          },
          "xaxis": {
           "automargin": true,
           "gridcolor": "white",
           "linecolor": "white",
           "ticks": "",
           "title": {
            "standoff": 15
           },
           "zerolinecolor": "white",
           "zerolinewidth": 2
          },
          "yaxis": {
           "automargin": true,
           "gridcolor": "white",
           "linecolor": "white",
           "ticks": "",
           "title": {
            "standoff": 15
           },
           "zerolinecolor": "white",
           "zerolinewidth": 2
          }
         }
        },
        "title": {
         "text": "Employee vs Manager Salaries (Top 20)"
        },
        "xaxis": {
         "anchor": "y",
         "autorange": true,
         "domain": [
          0,
          1
         ],
         "range": [
          -0.5,
          19.5
         ],
         "title": {
          "text": "Employee Name"
         },
         "type": "category"
        },
        "yaxis": {
         "anchor": "x",
         "autorange": true,
         "domain": [
          0,
          1
         ],
         "range": [
          0,
          101391.57894736843
         ],
         "title": {
          "text": "Salary"
         },
         "type": "linear"
        }
       }
      },
      "image/png": "[encoded data removed]",
      "text/html": [
       "<div>                            <div id=\"329b6a9c-3975-46c2-b227-c568aa2202ea\" class=\"plotly-graph-div\" style=\"height:600px; width:100%;\"></div>            <script type=\"text/javascript\">                require([\"plotly\"], function(Plotly) {                    window.PLOTLYENV=window.PLOTLYENV || {};                                    if (document.getElementById(\"329b6a9c-3975-46c2-b227-c568aa2202ea\")) {                    Plotly.newPlot(                        \"329b6a9c-3975-46c2-b227-c568aa2202ea\",                        [{\"alignmentgroup\":\"True\",\"hovertemplate\":\"Role=salary\\u003cbr\\u003eEmployee Name=%{x}\\u003cbr\\u003eSalary=%{y}\\u003cextra\\u003e\\u003c\\u002fextra\\u003e\",\"legendgroup\":\"salary\",\"marker\":{\"color\":\"#636efa\",\"pattern\":{\"shape\":\"\"}},\"name\":\"salary\",\"offsetgroup\":\"salary\",\"orientation\":\"v\",\"showlegend\":true,\"textposition\":\"auto\",\"texttemplate\":\"%{y}\",\"x\":[\"Anneke Preusig\",\"Tzvetan Zielinski\",\"Duangkaew Piveteau\",\"Mary Sluis\",\"Eberhardt Terkki\",\"Kazuhide Peha\",\"Mayuko Warwick\",\"Shahaf Famili\",\"Jeong Reistad\",\"Pradeep Makrucki\",\"Yishay Tzvieli\",\"Basil Tramer\",\"Sanjiv Zschoche\",\"Berhard McFarlin\",\"Gino Leonhardt\",\"Reuven Garigliano\",\"Gao Dolinsky\",\"Kshitij Gils\",\"Zhongwei Rosen\",\"Parviz Lortz\"],\"xaxis\":\"x\",\"y\":[60098,88070,80324,56753,68901,84672,47017,41348,69539,60992,77659,51326,78478,72542,74841,96322,67492,67231,79351,48935],\"yaxis\":\"y\",\"type\":\"bar\"},{\"alignmentgroup\":\"True\",\"hovertemplate\":\"Role=manager_salary\\u003cbr\\u003eEmployee Name=%{x}\\u003cbr\\u003eSalary=%{y}\\u003cextra\\u003e\\u003c\\u002fextra\\u003e\",\"legendgroup\":\"manager_salary\",\"marker\":{\"color\":\"#EF553B\",\"pattern\":{\"shape\":\"\"}},\"name\":\"manager_salary\",\"offsetgroup\":\"manager_salary\",\"orientation\":\"v\",\"showlegend\":true,\"textposition\":\"auto\",\"texttemplate\":\"%{y}\",\"x\":[\"Anneke Preusig\",\"Tzvetan Zielinski\",\"Duangkaew Piveteau\",\"Mary Sluis\",\"Eberhardt Terkki\",\"Kazuhide Peha\",\"Mayuko Warwick\",\"Shahaf Famili\",\"Jeong Reistad\",\"Pradeep Makrucki\",\"Yishay Tzvieli\",\"Basil Tramer\",\"Sanjiv Zschoche\",\"Berhard McFarlin\",\"Gino Leonhardt\",\"Reuven Garigliano\",\"Gao Dolinsky\",\"Kshitij Gils\",\"Zhongwei Rosen\",\"Parviz Lortz\"],\"xaxis\":\"x\",\"y\":[40000,72446,40000,40000,40000,40000,40000,40000,40000,40000,40000,40000,71612,69941,40000,40000,40000,40000,40000,48077],\"yaxis\":\"y\",\"type\":\"bar\"}],                        {\"template\":{\"data\":{\"histogram2dcontour\":[{\"type\":\"histogram2dcontour\",\"colorbar\":{\"outlinewidth\":0,\"ticks\":\"\"},\"colorscale\":[[0.0,\"#0d0887\"],[0.1111111111111111,\"#46039f\"],[0.2222222222222222,\"#7201a8\"],[0.3333333333333333,\"#9c179e\"],[0.4444444444444444,\"#bd3786\"],[0.5555555555555556,\"#d8576b\"],[0.6666666666666666,\"#ed7953\"],[0.7777777777777778,\"#fb9f3a\"],[0.8888888888888888,\"#fdca26\"],[1.0,\"#f0f921\"]]}],\"choropleth\":[{\"type\":\"choropleth\",\"colorbar\":{\"outlinewidth\":0,\"ticks\":\"\"}}],\"histogram2d\":[{\"type\":\"histogram2d\",\"colorbar\":{\"outlinewidth\":0,\"ticks\":\"\"},\"colorscale\":[[0.0,\"#0d0887\"],[0.1111111111111111,\"#46039f\"],[0.2222222222222222,\"#7201a8\"],[0.3333333333333333,\"#9c179e\"],[0.4444444444444444,\"#bd3786\"],[0.5555555555555556,\"#d8576b\"],[0.6666666666666666,\"#ed7953\"],[0.7777777777777778,\"#fb9f3a\"],[0.8888888888888888,\"#fdca26\"],[1.0,\"#f0f921\"]]}],\"heatmap\":[{\"type\":\"heatmap\",\"colorbar\":{\"outlinewidth\":0,\"ticks\":\"\"},\"colorscale\":[[0.0,\"#0d0887\"],[0.1111111111111111,\"#46039f\"],[0.2222222222222222,\"#7201a8\"],[0.3333333333333333,\"#9c179e\"],[0.4444444444444444,\"#bd3786\"],[0.5555555555555556,\"#d8576b\"],[0.6666666666666666,\"#ed7953\"],[0.7777777777777778,\"#fb9f3a\"],[0.8888888888888888,\"#fdca26\"],[1.0,\"#f0f921\"]]}],\"heatmapgl\":[{\"type\":\"heatmapgl\",\"colorbar\":{\"outlinewidth\":0,\"ticks\":\"\"},\"colorscale\":[[0.0,\"#0d0887\"],[0.1111111111111111,\"#46039f\"],[0.2222222222222222,\"#7201a8\"],[0.3333333333333333,\"#9c179e\"],[0.4444444444444444,\"#bd3786\"],[0.5555555555555556,\"#d8576b\"],[0.6666666666666666,\"#ed7953\"],[0.7777777777777778,\"#fb9f3a\"],[0.8888888888888888,\"#fdca26\"],[1.0,\"#f0f921\"]]}],\"contourcarpet\":[{\"type\":\"contourcarpet\",\"colorbar\":{\"outlinewidth\":0,\"ticks\":\"\"}}],\"contour\":[{\"type\":\"contour\",\"colorbar\":{\"outlinewidth\":0,\"ticks\":\"\"},\"colorscale\":[[0.0,\"#0d0887\"],[0.1111111111111111,\"#46039f\"],[0.2222222222222222,\"#7201a8\"],[0.3333333333333333,\"#9c179e\"],[0.4444444444444444,\"#bd3786\"],[0.5555555555555556,\"#d8576b\"],[0.6666666666666666,\"#ed7953\"],[0.7777777777777778,\"#fb9f3a\"],[0.8888888888888888,\"#fdca26\"],[1.0,\"#f0f921\"]]}],\"surface\":[{\"type\":\"surface\",\"colorbar\":{\"outlinewidth\":0,\"ticks\":\"\"},\"colorscale\":[[0.0,\"#0d0887\"],[0.1111111111111111,\"#46039f\"],[0.2222222222222222,\"#7201a8\"],[0.3333333333333333,\"#9c179e\"],[0.4444444444444444,\"#bd3786\"],[0.5555555555555556,\"#d8576b\"],[0.6666666666666666,\"#ed7953\"],[0.7777777777777778,\"#fb9f3a\"],[0.8888888888888888,\"#fdca26\"],[1.0,\"#f0f921\"]]}],\"mesh3d\":[{\"type\":\"mesh3d\",\"colorbar\":{\"outlinewidth\":0,\"ticks\":\"\"}}],\"scatter\":[{\"fillpattern\":{\"fillmode\":\"overlay\",\"size\":10,\"solidity\":0.2},\"type\":\"scatter\"}],\"parcoords\":[{\"type\":\"parcoords\",\"line\":{\"colorbar\":{\"outlinewidth\":0,\"ticks\":\"\"}}}],\"scatterpolargl\":[{\"type\":\"scatterpolargl\",\"marker\":{\"colorbar\":{\"outlinewidth\":0,\"ticks\":\"\"}}}],\"bar\":[{\"error_x\":{\"color\":\"#2a3f5f\"},\"error_y\":{\"color\":\"#2a3f5f\"},\"marker\":{\"line\":{\"color\":\"#E5ECF6\",\"width\":0.5},\"pattern\":{\"fillmode\":\"overlay\",\"size\":10,\"solidity\":0.2}},\"type\":\"bar\"}],\"scattergeo\":[{\"type\":\"scattergeo\",\"marker\":{\"colorbar\":{\"outlinewidth\":0,\"ticks\":\"\"}}}],\"scatterpolar\":[{\"type\":\"scatterpolar\",\"marker\":{\"colorbar\":{\"outlinewidth\":0,\"ticks\":\"\"}}}],\"histogram\":[{\"marker\":{\"pattern\":{\"fillmode\":\"overlay\",\"size\":10,\"solidity\":0.2}},\"type\":\"histogram\"}],\"scattergl\":[{\"type\":\"scattergl\",\"marker\":{\"colorbar\":{\"outlinewidth\":0,\"ticks\":\"\"}}}],\"scatter3d\":[{\"type\":\"scatter3d\",\"line\":{\"colorbar\":{\"outlinewidth\":0,\"ticks\":\"\"}},\"marker\":{\"colorbar\":{\"outlinewidth\":0,\"ticks\":\"\"}}}],\"scattermapbox\":[{\"type\":\"scattermapbox\",\"marker\":{\"colorbar\":{\"outlinewidth\":0,\"ticks\":\"\"}}}],\"scatterternary\":[{\"type\":\"scatterternary\",\"marker\":{\"colorbar\":{\"outlinewidth\":0,\"ticks\":\"\"}}}],\"scattercarpet\":[{\"type\":\"scattercarpet\",\"marker\":{\"colorbar\":{\"outlinewidth\":0,\"ticks\":\"\"}}}],\"carpet\":[{\"aaxis\":{\"endlinecolor\":\"#2a3f5f\",\"gridcolor\":\"white\",\"linecolor\":\"white\",\"minorgridcolor\":\"white\",\"startlinecolor\":\"#2a3f5f\"},\"baxis\":{\"endlinecolor\":\"#2a3f5f\",\"gridcolor\":\"white\",\"linecolor\":\"white\",\"minorgridcolor\":\"white\",\"startlinecolor\":\"#2a3f5f\"},\"type\":\"carpet\"}],\"table\":[{\"cells\":{\"fill\":{\"color\":\"#EBF0F8\"},\"line\":{\"color\":\"white\"}},\"header\":{\"fill\":{\"color\":\"#C8D4E3\"},\"line\":{\"color\":\"white\"}},\"type\":\"table\"}],\"barpolar\":[{\"marker\":{\"line\":{\"color\":\"#E5ECF6\",\"width\":0.5},\"pattern\":{\"fillmode\":\"overlay\",\"size\":10,\"solidity\":0.2}},\"type\":\"barpolar\"}],\"pie\":[{\"automargin\":true,\"type\":\"pie\"}]},\"layout\":{\"autotypenumbers\":\"strict\",\"colorway\":[\"#636efa\",\"#EF553B\",\"#00cc96\",\"#ab63fa\",\"#FFA15A\",\"#19d3f3\",\"#FF6692\",\"#B6E880\",\"#FF97FF\",\"#FECB52\"],\"font\":{\"color\":\"#2a3f5f\"},\"hovermode\":\"closest\",\"hoverlabel\":{\"align\":\"left\"},\"paper_bgcolor\":\"white\",\"plot_bgcolor\":\"#E5ECF6\",\"polar\":{\"bgcolor\":\"#E5ECF6\",\"angularaxis\":{\"gridcolor\":\"white\",\"linecolor\":\"white\",\"ticks\":\"\"},\"radialaxis\":{\"gridcolor\":\"white\",\"linecolor\":\"white\",\"ticks\":\"\"}},\"ternary\":{\"bgcolor\":\"#E5ECF6\",\"aaxis\":{\"gridcolor\":\"white\",\"linecolor\":\"white\",\"ticks\":\"\"},\"baxis\":{\"gridcolor\":\"white\",\"linecolor\":\"white\",\"ticks\":\"\"},\"caxis\":{\"gridcolor\":\"white\",\"linecolor\":\"white\",\"ticks\":\"\"}},\"coloraxis\":{\"colorbar\":{\"outlinewidth\":0,\"ticks\":\"\"}},\"colorscale\":{\"sequential\":[[0.0,\"#0d0887\"],[0.1111111111111111,\"#46039f\"],[0.2222222222222222,\"#7201a8\"],[0.3333333333333333,\"#9c179e\"],[0.4444444444444444,\"#bd3786\"],[0.5555555555555556,\"#d8576b\"],[0.6666666666666666,\"#ed7953\"],[0.7777777777777778,\"#fb9f3a\"],[0.8888888888888888,\"#fdca26\"],[1.0,\"#f0f921\"]],\"sequentialminus\":[[0.0,\"#0d0887\"],[0.1111111111111111,\"#46039f\"],[0.2222222222222222,\"#7201a8\"],[0.3333333333333333,\"#9c179e\"],[0.4444444444444444,\"#bd3786\"],[0.5555555555555556,\"#d8576b\"],[0.6666666666666666,\"#ed7953\"],[0.7777777777777778,\"#fb9f3a\"],[0.8888888888888888,\"#fdca26\"],[1.0,\"#f0f921\"]],\"diverging\":[[0,\"#8e0152\"],[0.1,\"#c51b7d\"],[0.2,\"#de77ae\"],[0.3,\"#f1b6da\"],[0.4,\"#fde0ef\"],[0.5,\"#f7f7f7\"],[0.6,\"#e6f5d0\"],[0.7,\"#b8e186\"],[0.8,\"#7fbc41\"],[0.9,\"#4d9221\"],[1,\"#276419\"]]},\"xaxis\":{\"gridcolor\":\"white\",\"linecolor\":\"white\",\"ticks\":\"\",\"title\":{\"standoff\":15},\"zerolinecolor\":\"white\",\"automargin\":true,\"zerolinewidth\":2},\"yaxis\":{\"gridcolor\":\"white\",\"linecolor\":\"white\",\"ticks\":\"\",\"title\":{\"standoff\":15},\"zerolinecolor\":\"white\",\"automargin\":true,\"zerolinewidth\":2},\"scene\":{\"xaxis\":{\"backgroundcolor\":\"#E5ECF6\",\"gridcolor\":\"white\",\"linecolor\":\"white\",\"showbackground\":true,\"ticks\":\"\",\"zerolinecolor\":\"white\",\"gridwidth\":2},\"yaxis\":{\"backgroundcolor\":\"#E5ECF6\",\"gridcolor\":\"white\",\"linecolor\":\"white\",\"showbackground\":true,\"ticks\":\"\",\"zerolinecolor\":\"white\",\"gridwidth\":2},\"zaxis\":{\"backgroundcolor\":\"#E5ECF6\",\"gridcolor\":\"white\",\"linecolor\":\"white\",\"showbackground\":true,\"ticks\":\"\",\"zerolinecolor\":\"white\",\"gridwidth\":2}},\"shapedefaults\":{\"line\":{\"color\":\"#2a3f5f\"}},\"annotationdefaults\":{\"arrowcolor\":\"#2a3f5f\",\"arrowhead\":0,\"arrowwidth\":1},\"geo\":{\"bgcolor\":\"white\",\"landcolor\":\"#E5ECF6\",\"subunitcolor\":\"white\",\"showland\":true,\"showlakes\":true,\"lakecolor\":\"white\"},\"title\":{\"x\":0.05},\"mapbox\":{\"style\":\"light\"}}},\"xaxis\":{\"anchor\":\"y\",\"domain\":[0.0,1.0],\"title\":{\"text\":\"Employee Name\"}},\"yaxis\":{\"anchor\":\"x\",\"domain\":[0.0,1.0],\"title\":{\"text\":\"Salary\"}},\"legend\":{\"title\":{\"text\":\"Role\"},\"tracegroupgap\":0},\"title\":{\"text\":\"Employee vs Manager Salaries (Top 20)\"},\"barmode\":\"group\",\"height\":600},                        {\"responsive\": true}                    ).then(function(){\n",
       "                            \n",
       "var gd = document.getElementById('329b6a9c-3975-46c2-b227-c568aa2202ea');\n",
       "var x = new MutationObserver(function (mutations, observer) {{\n",
       "        var display = window.getComputedStyle(gd).display;\n",
       "        if (!display || display === 'none') {{\n",
       "            console.log([gd, 'removed!']);\n",
       "            Plotly.purge(gd);\n",
       "            observer.disconnect();\n",
       "        }}\n",
       "}});\n",
       "\n",
       "// Listen for the removal of the full notebook cells\n",
       "var notebookContainer = gd.closest('#notebook-container');\n",
       "if (notebookContainer) {{\n",
       "    x.observe(notebookContainer, {childList: true});\n",
       "}}\n",
       "\n",
       "// Listen for the clearing of the current output cell\n",
       "var outputEl = gd.closest('.output');\n",
       "if (outputEl) {{\n",
       "    x.observe(outputEl, {childList: true});\n",
       "}}\n",
       "\n",
       "                        })                };                });            </script>        </div>"
      ]
     },
     "metadata": {},
     "output_type": "display_data"
    }
   ],
   "source": [
    "# Create bar chart\n",
    "fig = px.bar(\n",
    "    df3,\n",
    "    x='employee_name',  # Employee names as x-axis\n",
    "    y=['salary', 'manager_salary'],  # Salaries as bars\n",
    "    barmode='group',  # Grouped bars for comparison\n",
    "    title='Employee vs Manager Salaries (Top 20)',\n",
    "    labels={'value': 'Salary', 'variable': 'Role', 'employee_name': 'Employee Name'},\n",
    "    text_auto=True\n",
    ")\n",
    "\n",
    "# Customize layout\n",
    "fig.update_layout(\n",
    "    xaxis_title='Employee Name',\n",
    "    yaxis_title='Salary',\n",
    "    legend_title='Role',\n",
    "    height=600,  # Increase height for better readability\n",
    ")\n",
    "\n",
    "# Show the interactive plot\n",
    "fig.show()\n"
   ]
  },
  {
   "cell_type": "markdown",
   "id": "cf16b8e8-e6f0-4254-aa29-24109b18c074",
   "metadata": {},
   "source": [
    "## -------------------------------------------------------------------------------------------------"
   ]
  },
  {
   "cell_type": "markdown",
   "id": "76b6d0c1-e987-4b9e-b85b-cb7248c567df",
   "metadata": {},
   "source": [
    "## find the total number of employees working under each managers {direct reports}"
   ]
  },
  {
   "cell_type": "code",
   "execution_count": 109,
   "id": "bbeb492c-3ade-470a-8280-f9c5bbf360e1",
   "metadata": {},
   "outputs": [
    {
     "name": "stdout",
     "output_type": "stream",
     "text": [
      "+-------+------+--------------------+---------------+--------------+\n",
      "|dept_no|emp_no|            emp_name|manager_dept_no|manager_emp_no|\n",
      "+-------+------+--------------------+---------------+--------------+\n",
      "|   d005| 10018|       Kazuhide Peha|           d005|        110511|\n",
      "|   d005| 10022|       Shahaf Famili|           d005|        110511|\n",
      "|   d005| 10043|      Yishay Tzvieli|           d005|        110511|\n",
      "|   d005| 10075|        Gao Dolinsky|           d005|        110511|\n",
      "|   d005| 10090|      Kendra Hofting|           d005|        110511|\n",
      "|   d005| 10121|     Guoxiang Ramsay|           d005|        110511|\n",
      "|   d005| 10143|  Sakthirel Bakhtari|           d005|        110511|\n",
      "|   d005| 10206|    Alassane Iwayama|           d005|        110511|\n",
      "|   d005| 10264|    Nalini Kawashimo|           d005|        110511|\n",
      "|   d005| 10290|    Yongmao Pleszkun|           d005|        110511|\n",
      "|   d005| 10345|       Arra Ratnakar|           d005|        110511|\n",
      "|   d005| 10366|       Morrie Piazza|           d005|        110511|\n",
      "|   d005| 10395|   Takahiro Deverell|           d005|        110511|\n",
      "|   d005| 10414|        Yinlin Alpin|           d005|        110511|\n",
      "|   d005| 10435|     Marsha Tagansky|           d005|        110511|\n",
      "|   d005| 10443|    Shichao Litvinov|           d005|        110511|\n",
      "|   d005| 10445|    Junichi Kavanagh|           d005|        110511|\n",
      "|   d005| 10506|      Kazuhisa Kroll|           d005|        110511|\n",
      "|   d005| 10527|   Tetsushi Barvinok|           d005|        110511|\n",
      "|   d005| 10530|       Boriana Coors|           d005|        110511|\n",
      "|   d005| 10587|     Behnaam Srimani|           d005|        110511|\n",
      "|   d005| 10611|    Karsten Blokdijk|           d005|        110511|\n",
      "|   d005| 10623|   Aleksander Danlos|           d005|        110511|\n",
      "|   d005| 10632|  Yoshimitsu Velardi|           d005|        110511|\n",
      "|   d005| 10680|        Kish Honglei|           d005|        110511|\n",
      "|   d005| 10739|         Gor Iacovou|           d005|        110511|\n",
      "|   d005| 10861|         Howell Baek|           d005|        110511|\n",
      "|   d005| 10882|          Fun Heuser|           d005|        110511|\n",
      "|   d005| 10994|    Divine Aingworth|           d005|        110511|\n",
      "|   d005| 11033|        Shushma Bahk|           d005|        110511|\n",
      "|   d005| 11059|      Shawna Jarecki|           d005|        110511|\n",
      "|   d005| 11103|    Sanjai Penttonen|           d005|        110511|\n",
      "|   d005| 11106|        Aris Iwayama|           d005|        110511|\n",
      "|   d005| 11121|     Vugranam Kakkad|           d005|        110511|\n",
      "|   d005| 11125|       Munir Spieker|           d005|        110511|\n",
      "|   d005| 11141|   Vasiliy Kermarrec|           d005|        110511|\n",
      "|   d005| 11143|      Yongdong Rosen|           d005|        110511|\n",
      "|   d005| 11170|    Minghong Cannard|           d005|        110511|\n",
      "|   d005| 11183|       Herbert Serdy|           d005|        110511|\n",
      "|   d005| 11194|       Giap Tempesti|           d005|        110511|\n",
      "|   d005| 11316|          Ult Farrar|           d005|        110511|\n",
      "|   d005| 11317|   Shigeaki Hagimont|           d005|        110511|\n",
      "|   d005| 11333|      Heon Slobodova|           d005|        110511|\n",
      "|   d005| 11405|       Clyde Kobuchi|           d005|        110511|\n",
      "|   d005| 11500|        Ranan Weedon|           d005|        110511|\n",
      "|   d005| 11589|       Gina Plessier|           d005|        110511|\n",
      "|   d005| 11636|  Fumitaka Shiratori|           d005|        110511|\n",
      "|   d005| 11639|      Khatoun Herath|           d005|        110511|\n",
      "|   d005| 11642|     Dmitri Verhoeff|           d005|        110511|\n",
      "|   d005| 11693|         Hideo Coorg|           d005|        110511|\n",
      "|   d005| 11748|     Lihong Massonet|           d005|        110511|\n",
      "|   d005| 11800|       Aamer Fraisse|           d005|        110511|\n",
      "|   d005| 11808|      Morrie Rosiles|           d005|        110511|\n",
      "|   d005| 11876|      Leszek Kobuchi|           d005|        110511|\n",
      "|   d005| 11885|   Sandeepan Velasco|           d005|        110511|\n",
      "|   d005| 11894|     Mitchel Validov|           d005|        110511|\n",
      "|   d005| 11911|    Ashish Mondadori|           d005|        110511|\n",
      "|   d005| 11912|    Kristian Giaccio|           d005|        110511|\n",
      "|   d005| 11928|     Mang Wroclawski|           d005|        110511|\n",
      "|   d005| 11954|        Hidde Krupka|           d005|        110511|\n",
      "|   d005| 12006|          Remco Erol|           d005|        110511|\n",
      "|   d005| 12007|      Marko Dehkordi|           d005|        110511|\n",
      "|   d005| 12027|    Zhanqiu Vuskovic|           d005|        110511|\n",
      "|   d005| 12077|        Steve Hutton|           d005|        110511|\n",
      "|   d005| 12087|    Weijing Jumpertz|           d005|        110511|\n",
      "|   d005| 12117|        Zvonko Rosaz|           d005|        110511|\n",
      "|   d005| 12179|        Arto Koshino|           d005|        110511|\n",
      "|   d005| 12238|       Gianluca Back|           d005|        110511|\n",
      "|   d005| 12249|   Eldridge Sadowski|           d005|        110511|\n",
      "|   d005| 12260|      Mokhtar Huttel|           d005|        110511|\n",
      "|   d005| 12264|         Mart Pagter|           d005|        110511|\n",
      "|   d005| 12287|    Kerhong Hagimont|           d005|        110511|\n",
      "|   d005| 12322|     Mohammed Kambil|           d005|        110511|\n",
      "|   d005| 12344|      Hauke Hennings|           d005|        110511|\n",
      "|   d005| 12362|    Valeri Ressouche|           d005|        110511|\n",
      "|   d005| 12384|        Alagu Oppitz|           d005|        110511|\n",
      "|   d005| 12401|       Yolla Glinert|           d005|        110511|\n",
      "|   d005| 12436|         Dines Usdin|           d005|        110511|\n",
      "|   d005| 12447|     Bernice Huxford|           d005|        110511|\n",
      "|   d005| 12530|      Turgut Strandh|           d005|        110511|\n",
      "|   d005| 12548|         Chenxi Baak|           d005|        110511|\n",
      "|   d005| 12555|     Spyrose DuCasse|           d005|        110511|\n",
      "|   d005| 12601|      Ghassan Simkin|           d005|        110511|\n",
      "|   d005| 12607|         Gil Anguita|           d005|        110511|\n",
      "|   d005| 12727|           Uwe Ranai|           d005|        110511|\n",
      "|   d005| 12885|    Anwar Collavizza|           d005|        110511|\n",
      "|   d005| 12913|      Navin Suermann|           d005|        110511|\n",
      "|   d005| 12940|     Odinaldo Farrar|           d005|        110511|\n",
      "|   d005| 12948| Djelloul Bultermann|           d005|        110511|\n",
      "|   d005| 12998|      Nadjib Rindone|           d005|        110511|\n",
      "|   d005| 13003|          Jinxi Luft|           d005|        110511|\n",
      "|   d005| 13009|          Marc Denis|           d005|        110511|\n",
      "|   d005| 13022|        Georg Juneja|           d005|        110511|\n",
      "|   d005| 13040|       Danny Berendt|           d005|        110511|\n",
      "|   d005| 13045|     Dinah Manderick|           d005|        110511|\n",
      "|   d005| 13051|        Gad Feinberg|           d005|        110511|\n",
      "|   d005| 13052|Aleksandar Schlenzig|           d005|        110511|\n",
      "|   d005| 13060|       Khalil Lodder|           d005|        110511|\n",
      "|   d005| 13104|           Ung Conta|           d005|        110511|\n",
      "|   d005| 13166|      Billie Kushnir|           d005|        110511|\n",
      "|   d005| 13220|   Martien Thimonier|           d005|        110511|\n",
      "|   d005| 13285|     Uinam Lienhardt|           d005|        110511|\n",
      "|   d005| 13301|       Masaki Krybus|           d005|        110511|\n",
      "|   d005| 13331|    Etsuo Malinowski|           d005|        110511|\n",
      "|   d005| 13347|        Lein Sifakis|           d005|        110511|\n",
      "|   d005| 13377|         Nevin Dulay|           d005|        110511|\n",
      "|   d005| 13497|      Kazuhira Spelt|           d005|        110511|\n",
      "|   d005| 13500|          Irene Erol|           d005|        110511|\n",
      "|   d005| 13504|       Parto Mandell|           d005|        110511|\n",
      "|   d005| 13738|    Bangqing Mitchem|           d005|        110511|\n",
      "|   d005| 13840|         Remco Demke|           d005|        110511|\n",
      "|   d005| 13904|      Youngkon Cairo|           d005|        110511|\n",
      "|   d005| 13910|       Danae Szmurlo|           d005|        110511|\n",
      "|   d005| 13915|      Oguz Bouloucos|           d005|        110511|\n",
      "|   d005| 13923|        Eben Rosiles|           d005|        110511|\n",
      "|   d005| 14056|       Moto Ferriere|           d005|        110511|\n",
      "|   d005| 14075|      Denny Tchuente|           d005|        110511|\n",
      "|   d005| 14180|  Arumugam Bernatsky|           d005|        110511|\n",
      "|   d005| 14192|      Ayakannu Kroha|           d005|        110511|\n",
      "|   d005| 14245|        Boalin Byoun|           d005|        110511|\n",
      "|   d005| 14266|         Bedir Perry|           d005|        110511|\n",
      "|   d005| 14284|   Aleksander Thiria|           d005|        110511|\n",
      "|   d005| 14332|        Wilmer Nitto|           d005|        110511|\n",
      "|   d005| 14437|     Radoslaw Claffy|           d005|        110511|\n",
      "|   d005| 14450|  Fumitaka Prochazka|           d005|        110511|\n",
      "|   d005| 14458|    Minghong Linares|           d005|        110511|\n",
      "|   d005| 14514|           Fay Denny|           d005|        110511|\n",
      "|   d005| 14555|         Nigel Nyrup|           d005|        110511|\n",
      "|   d005| 14642|   Florian Kuhnemann|           d005|        110511|\n",
      "|   d005| 14703|    Boutros Gonthier|           d005|        110511|\n",
      "|   d005| 14713|    Terresa Ballarin|           d005|        110511|\n",
      "|   d005| 14752|       Mariusz Azuma|           d005|        110511|\n",
      "|   d005| 14770|     Claude Cusworth|           d005|        110511|\n",
      "|   d005| 14779|    Xianlong Benaini|           d005|        110511|\n",
      "|   d005| 14801| Peternela Middleton|           d005|        110511|\n",
      "|   d005| 14874|       Lijie Socorro|           d005|        110511|\n",
      "|   d005| 14961|Przemyslawa Shino...|           d005|        110511|\n",
      "|   d005| 14997|       Kshitij Lamba|           d005|        110511|\n",
      "|   d005| 15003|   Sachar Androutsos|           d005|        110511|\n",
      "|   d005| 15004|        Muneo Esteva|           d005|        110511|\n",
      "|   d005| 15026|  Geoffrey Manderick|           d005|        110511|\n",
      "|   d005| 15051|    Wanqing Strooper|           d005|        110511|\n",
      "|   d005| 15060|Shigenori Fairtlough|           d005|        110511|\n",
      "|   d005| 15093|       Alain Kornyak|           d005|        110511|\n",
      "|   d005| 15132|    Charlene Argence|           d005|        110511|\n",
      "|   d005| 15138| Aiman Bhattacharjee|           d005|        110511|\n",
      "|   d005| 15162|     Holgard Koblitz|           d005|        110511|\n",
      "|   d005| 15164|  Kiyomitsu Ghalwash|           d005|        110511|\n",
      "|   d005| 15173|  KayLiang Naumovich|           d005|        110511|\n",
      "|   d005| 15191|     Kazuhiro Seuren|           d005|        110511|\n",
      "|   d005| 15202|       Pranay Irland|           d005|        110511|\n",
      "|   d005| 15234|        Jouko Zhiwei|           d005|        110511|\n",
      "|   d005| 15254|         Jessie Erie|           d005|        110511|\n",
      "|   d005| 15260|       Dmitri Herber|           d005|        110511|\n",
      "|   d005| 15262|   Premsyl Wursthorn|           d005|        110511|\n",
      "|   d005| 15296|    Rasiah Templeman|           d005|        110511|\n",
      "|   d005| 15348|    Kwangsub Decleir|           d005|        110511|\n",
      "|   d005| 15370|     Chuanyi Nilsson|           d005|        110511|\n",
      "|   d005| 15429|   Gennady Alameldin|           d005|        110511|\n",
      "|   d005| 15497|     Filipp Lichtman|           d005|        110511|\n",
      "|   d005| 15538|   Masaru Schnelling|           d005|        110511|\n",
      "|   d005| 15557| Subhrajyoti Krichel|           d005|        110511|\n",
      "|   d005| 15594|         Fumino Peck|           d005|        110511|\n",
      "|   d005| 15619|       Conor Gyorkos|           d005|        110511|\n",
      "|   d005| 15634|     Godehard Neiman|           d005|        110511|\n",
      "|   d005| 15647|       Supot Veevers|           d005|        110511|\n",
      "|   d005| 15666| Pintsang Rothenberg|           d005|        110511|\n",
      "|   d005| 15841|       Aram DasSarma|           d005|        110511|\n",
      "|   d005| 15844| Christophe Salvesen|           d005|        110511|\n",
      "|   d005| 15931|     Heather Crelier|           d005|        110511|\n",
      "|   d005| 15960|     Lenore Narahara|           d005|        110511|\n",
      "|   d005| 15961|        Yucel Pargas|           d005|        110511|\n",
      "|   d005| 15966|        Adit Carrera|           d005|        110511|\n",
      "|   d005| 15968|     Moss Montemayor|           d005|        110511|\n",
      "|   d005| 16002|     Shigeu Coullard|           d005|        110511|\n",
      "|   d005| 16027|   Ramalingam Vadhan|           d005|        110511|\n",
      "|   d005| 16053|        Jeong Gniady|           d005|        110511|\n",
      "|   d005| 16056|       Guiseppe Luke|           d005|        110511|\n",
      "|   d005| 16075|       Aloke Bashian|           d005|        110511|\n",
      "|   d005| 16094|         Berto Rosar|           d005|        110511|\n",
      "|   d005| 16125|          Mori Alpin|           d005|        110511|\n",
      "|   d005| 16189|       Luigi Sigstam|           d005|        110511|\n",
      "|   d005| 16232|      Susumu Cullers|           d005|        110511|\n",
      "|   d005| 16244|      Parviz Strandh|           d005|        110511|\n",
      "|   d005| 16352|     JiYoung Kushnir|           d005|        110511|\n",
      "|   d005| 16391|   Hidekazu Syrzycki|           d005|        110511|\n",
      "|   d005| 16505|      Tzvetan Huttel|           d005|        110511|\n",
      "|   d005| 16526|         Saeko Coorg|           d005|        110511|\n",
      "|   d005| 16532|        Foong Jansen|           d005|        110511|\n",
      "|   d005| 16565|       Petter Ramsey|           d005|        110511|\n",
      "|   d005| 16608|   Boguslaw Greibach|           d005|        110511|\n",
      "|   d005| 16721|      Izaskun Chinin|           d005|        110511|\n",
      "|   d005| 16738|    Vasiliy Sherertz|           d005|        110511|\n",
      "|   d005| 16741|   Tzvetan Kalafatis|           d005|        110511|\n",
      "|   d005| 16791|Peternela Laurillard|           d005|        110511|\n",
      "|   d005| 16798|       Oguz Lichtner|           d005|        110511|\n",
      "|   d005| 16800|     Lansing Valette|           d005|        110511|\n",
      "|   d005| 16801|       Gila Strooper|           d005|        110511|\n",
      "|   d005| 16828|        Bernd Etalle|           d005|        110511|\n",
      "|   d005| 16835|       Masanao Puppo|           d005|        110511|\n",
      "+-------+------+--------------------+---------------+--------------+\n",
      "only showing top 200 rows\n",
      "\n"
     ]
    }
   ],
   "source": [
    "result5 = app.sql(\n",
    "        '''\n",
    "        with manager as\n",
    "        (\n",
    "        select emp_no as `manager_emp_no`,dept_no  as `manager_dept_no`\n",
    "        from dept_manager\n",
    "        )\n",
    "        ,employees as\n",
    "        (\n",
    "        select e.emp_no,concat(e.first_name,' ',e.last_name) as `emp_name`,\n",
    "        d.dept_no\n",
    "        from (emp as e) inner join (dept_emp as de)\n",
    "        on e.emp_no = de.emp_no\n",
    "        inner join (dept as d) \n",
    "        on d.dept_no = de.dept_no\n",
    "        )\n",
    "        select `e`.`dept_no`, `e`.`emp_no`, `e`.`emp_name`, \n",
    "        `m`.`manager_dept_no`, `m`.`manager_emp_no`\n",
    "        from (employees as e) right join (manager as m)\n",
    "        on e.dept_no = m.manager_dept_no\n",
    "        '''    \n",
    "        )\n",
    "\n",
    "result5.show(n=200)"
   ]
  },
  {
   "cell_type": "code",
   "execution_count": 110,
   "id": "c27b60e9-171a-46a1-a7f9-ebdd3bfee56c",
   "metadata": {},
   "outputs": [],
   "source": [
    "# Create a temporary view from the result DataFrame\n",
    "result5.createOrReplaceTempView(\"temp_manager_employee_view\")"
   ]
  },
  {
   "cell_type": "code",
   "execution_count": 115,
   "id": "1b1534e3-2613-4897-821e-52aaeb5b5a91",
   "metadata": {},
   "outputs": [
    {
     "name": "stdout",
     "output_type": "stream",
     "text": [
      "+--------------------+--------------+\n",
      "|        manager_name|direct reports|\n",
      "+--------------------+--------------+\n",
      "|Przemyslawa Kaelb...|        104490|\n",
      "|   Tonny Butterworth|         94320|\n",
      "|     Karsten Sigstam|         35572|\n",
      "|        Arie Staelin|         42252|\n",
      "|          Dung Pesch|         80468|\n",
      "|          Ebru Alpin|         34692|\n",
      "|      Rutger Hofmeyr|         80468|\n",
      "|      Oscar Ghazalie|        293940|\n",
      "|   Vishwani Minakawa|         40422|\n",
      "|         Shem Kieras|        293940|\n",
      "|    Xiaobin Spinelli|         94320|\n",
      "|Shirish Ossenbruggen|         35572|\n",
      "|      Sanjoy Quadeer|         80468|\n",
      "|       Leon DasSarma|        171414|\n",
      "|   Peternela Onuegbe|         80468|\n",
      "|   DeForest Hagimont|        171414|\n",
      "|       Hilary Kambil|         42252|\n",
      "|    Marjo Giarratana|         94320|\n",
      "|Margareta Markovitch|         40422|\n",
      "|    Isamu Legleitner|         34692|\n",
      "|   Krassimir Wegerle|        293940|\n",
      "|        Rosine Cools|        293940|\n",
      "|         Hauke Zhang|        104490|\n",
      "|     Yuchang Weedman|         94320|\n",
      "+--------------------+--------------+\n",
      "\n"
     ]
    }
   ],
   "source": [
    "result6 = app.sql(\n",
    "    \n",
    "                '''\n",
    "                select m.emp_name as `manager_name`,count(e.emp_no)  as `direct reports`\n",
    "                from (temp_manager_employee_view as e) inner join (temp_manager_employee_view as m)\n",
    "                on e.manager_emp_no = m.emp_no\n",
    "                group by manager_name\n",
    "                ''' \n",
    "                )\n",
    "\n",
    "result6.show(n=5000)"
   ]
  },
  {
   "cell_type": "code",
   "execution_count": 116,
   "id": "39d3919a-1f42-404f-ad47-28fe8f3fbe10",
   "metadata": {},
   "outputs": [],
   "source": [
    "df4 = result6.toPandas()"
   ]
  },
  {
   "cell_type": "code",
   "execution_count": 117,
   "id": "24eba2e2-b842-4578-a7f0-d5bbbc57ea31",
   "metadata": {},
   "outputs": [
    {
     "data": {
      "text/plain": [
       "Index(['manager_name', 'direct reports'], dtype='object')"
      ]
     },
     "execution_count": 117,
     "metadata": {},
     "output_type": "execute_result"
    }
   ],
   "source": [
    "df4.columns"
   ]
  },
  {
   "cell_type": "code",
   "execution_count": 118,
   "id": "389f72ba-78e4-4ea8-a097-88361ce5f9f4",
   "metadata": {},
   "outputs": [
    {
     "data": {
      "application/vnd.plotly.v1+json": {
       "config": {
        "plotlyServerURL": "https://plot.ly"
       },
       "data": [
        {
         "alignmentgroup": "True",
         "hovertemplate": "Manager=%{x}<br>Number of Direct Reports=%{marker.color}<extra></extra>",
         "legendgroup": "",
         "marker": {
          "color": [
           104490,
           94320,
           35572,
           42252,
           80468,
           34692,
           80468,
           293940,
           40422,
           293940,
           94320,
           35572,
           80468,
           171414,
           80468,
           171414,
           42252,
           94320,
           40422,
           34692,
           293940,
           293940,
           104490,
           94320
          ],
          "coloraxis": "coloraxis",
          "pattern": {
           "shape": ""
          }
         },
         "name": "",
         "offsetgroup": "",
         "orientation": "v",
         "showlegend": false,
         "textposition": "auto",
         "type": "bar",
         "x": [
          "Przemyslawa Kaelbling",
          "Tonny Butterworth",
          "Karsten Sigstam",
          "Arie Staelin",
          "Dung Pesch",
          "Ebru Alpin",
          "Rutger Hofmeyr",
          "Oscar Ghazalie",
          "Vishwani Minakawa",
          "Shem Kieras",
          "Xiaobin Spinelli",
          "Shirish Ossenbruggen",
          "Sanjoy Quadeer",
          "Leon DasSarma",
          "Peternela Onuegbe",
          "DeForest Hagimont",
          "Hilary Kambil",
          "Marjo Giarratana",
          "Margareta Markovitch",
          "Isamu Legleitner",
          "Krassimir Wegerle",
          "Rosine Cools",
          "Hauke Zhang",
          "Yuchang Weedman"
         ],
         "xaxis": "x",
         "y": [
          104490,
          94320,
          35572,
          42252,
          80468,
          34692,
          80468,
          293940,
          40422,
          293940,
          94320,
          35572,
          80468,
          171414,
          80468,
          171414,
          42252,
          94320,
          40422,
          34692,
          293940,
          293940,
          104490,
          94320
         ],
         "yaxis": "y"
        }
       ],
       "layout": {
        "autosize": true,
        "barmode": "relative",
        "coloraxis": {
         "colorbar": {
          "title": {
           "text": "Number of Direct Reports"
          }
         },
         "colorscale": [
          [
           0,
           "#440154"
          ],
          [
           0.1111111111111111,
           "#482878"
          ],
          [
           0.2222222222222222,
           "#3e4989"
          ],
          [
           0.3333333333333333,
           "#31688e"
          ],
          [
           0.4444444444444444,
           "#26828e"
          ],
          [
           0.5555555555555556,
           "#1f9e89"
          ],
          [
           0.6666666666666666,
           "#35b779"
          ],
          [
           0.7777777777777778,
           "#6ece58"
          ],
          [
           0.8888888888888888,
           "#b5de2b"
          ],
          [
           1,
           "#fde725"
          ]
         ]
        },
        "legend": {
         "tracegroupgap": 0
        },
        "template": {
         "data": {
          "bar": [
           {
            "error_x": {
             "color": "#2a3f5f"
            },
            "error_y": {
             "color": "#2a3f5f"
            },
            "marker": {
             "line": {
              "color": "#E5ECF6",
              "width": 0.5
             },
             "pattern": {
              "fillmode": "overlay",
              "size": 10,
              "solidity": 0.2
             }
            },
            "type": "bar"
           }
          ],
          "barpolar": [
           {
            "marker": {
             "line": {
              "color": "#E5ECF6",
              "width": 0.5
             },
             "pattern": {
              "fillmode": "overlay",
              "size": 10,
              "solidity": 0.2
             }
            },
            "type": "barpolar"
           }
          ],
          "carpet": [
           {
            "aaxis": {
             "endlinecolor": "#2a3f5f",
             "gridcolor": "white",
             "linecolor": "white",
             "minorgridcolor": "white",
             "startlinecolor": "#2a3f5f"
            },
            "baxis": {
             "endlinecolor": "#2a3f5f",
             "gridcolor": "white",
             "linecolor": "white",
             "minorgridcolor": "white",
             "startlinecolor": "#2a3f5f"
            },
            "type": "carpet"
           }
          ],
          "choropleth": [
           {
            "colorbar": {
             "outlinewidth": 0,
             "ticks": ""
            },
            "type": "choropleth"
           }
          ],
          "contour": [
           {
            "colorbar": {
             "outlinewidth": 0,
             "ticks": ""
            },
            "colorscale": [
             [
              0,
              "#0d0887"
             ],
             [
              0.1111111111111111,
              "#46039f"
             ],
             [
              0.2222222222222222,
              "#7201a8"
             ],
             [
              0.3333333333333333,
              "#9c179e"
             ],
             [
              0.4444444444444444,
              "#bd3786"
             ],
             [
              0.5555555555555556,
              "#d8576b"
             ],
             [
              0.6666666666666666,
              "#ed7953"
             ],
             [
              0.7777777777777778,
              "#fb9f3a"
             ],
             [
              0.8888888888888888,
              "#fdca26"
             ],
             [
              1,
              "#f0f921"
             ]
            ],
            "type": "contour"
           }
          ],
          "contourcarpet": [
           {
            "colorbar": {
             "outlinewidth": 0,
             "ticks": ""
            },
            "type": "contourcarpet"
           }
          ],
          "heatmap": [
           {
            "colorbar": {
             "outlinewidth": 0,
             "ticks": ""
            },
            "colorscale": [
             [
              0,
              "#0d0887"
             ],
             [
              0.1111111111111111,
              "#46039f"
             ],
             [
              0.2222222222222222,
              "#7201a8"
             ],
             [
              0.3333333333333333,
              "#9c179e"
             ],
             [
              0.4444444444444444,
              "#bd3786"
             ],
             [
              0.5555555555555556,
              "#d8576b"
             ],
             [
              0.6666666666666666,
              "#ed7953"
             ],
             [
              0.7777777777777778,
              "#fb9f3a"
             ],
             [
              0.8888888888888888,
              "#fdca26"
             ],
             [
              1,
              "#f0f921"
             ]
            ],
            "type": "heatmap"
           }
          ],
          "heatmapgl": [
           {
            "colorbar": {
             "outlinewidth": 0,
             "ticks": ""
            },
            "colorscale": [
             [
              0,
              "#0d0887"
             ],
             [
              0.1111111111111111,
              "#46039f"
             ],
             [
              0.2222222222222222,
              "#7201a8"
             ],
             [
              0.3333333333333333,
              "#9c179e"
             ],
             [
              0.4444444444444444,
              "#bd3786"
             ],
             [
              0.5555555555555556,
              "#d8576b"
             ],
             [
              0.6666666666666666,
              "#ed7953"
             ],
             [
              0.7777777777777778,
              "#fb9f3a"
             ],
             [
              0.8888888888888888,
              "#fdca26"
             ],
             [
              1,
              "#f0f921"
             ]
            ],
            "type": "heatmapgl"
           }
          ],
          "histogram": [
           {
            "marker": {
             "pattern": {
              "fillmode": "overlay",
              "size": 10,
              "solidity": 0.2
             }
            },
            "type": "histogram"
           }
          ],
          "histogram2d": [
           {
            "colorbar": {
             "outlinewidth": 0,
             "ticks": ""
            },
            "colorscale": [
             [
              0,
              "#0d0887"
             ],
             [
              0.1111111111111111,
              "#46039f"
             ],
             [
              0.2222222222222222,
              "#7201a8"
             ],
             [
              0.3333333333333333,
              "#9c179e"
             ],
             [
              0.4444444444444444,
              "#bd3786"
             ],
             [
              0.5555555555555556,
              "#d8576b"
             ],
             [
              0.6666666666666666,
              "#ed7953"
             ],
             [
              0.7777777777777778,
              "#fb9f3a"
             ],
             [
              0.8888888888888888,
              "#fdca26"
             ],
             [
              1,
              "#f0f921"
             ]
            ],
            "type": "histogram2d"
           }
          ],
          "histogram2dcontour": [
           {
            "colorbar": {
             "outlinewidth": 0,
             "ticks": ""
            },
            "colorscale": [
             [
              0,
              "#0d0887"
             ],
             [
              0.1111111111111111,
              "#46039f"
             ],
             [
              0.2222222222222222,
              "#7201a8"
             ],
             [
              0.3333333333333333,
              "#9c179e"
             ],
             [
              0.4444444444444444,
              "#bd3786"
             ],
             [
              0.5555555555555556,
              "#d8576b"
             ],
             [
              0.6666666666666666,
              "#ed7953"
             ],
             [
              0.7777777777777778,
              "#fb9f3a"
             ],
             [
              0.8888888888888888,
              "#fdca26"
             ],
             [
              1,
              "#f0f921"
             ]
            ],
            "type": "histogram2dcontour"
           }
          ],
          "mesh3d": [
           {
            "colorbar": {
             "outlinewidth": 0,
             "ticks": ""
            },
            "type": "mesh3d"
           }
          ],
          "parcoords": [
           {
            "line": {
             "colorbar": {
              "outlinewidth": 0,
              "ticks": ""
             }
            },
            "type": "parcoords"
           }
          ],
          "pie": [
           {
            "automargin": true,
            "type": "pie"
           }
          ],
          "scatter": [
           {
            "fillpattern": {
             "fillmode": "overlay",
             "size": 10,
             "solidity": 0.2
            },
            "type": "scatter"
           }
          ],
          "scatter3d": [
           {
            "line": {
             "colorbar": {
              "outlinewidth": 0,
              "ticks": ""
             }
            },
            "marker": {
             "colorbar": {
              "outlinewidth": 0,
              "ticks": ""
             }
            },
            "type": "scatter3d"
           }
          ],
          "scattercarpet": [
           {
            "marker": {
             "colorbar": {
              "outlinewidth": 0,
              "ticks": ""
             }
            },
            "type": "scattercarpet"
           }
          ],
          "scattergeo": [
           {
            "marker": {
             "colorbar": {
              "outlinewidth": 0,
              "ticks": ""
             }
            },
            "type": "scattergeo"
           }
          ],
          "scattergl": [
           {
            "marker": {
             "colorbar": {
              "outlinewidth": 0,
              "ticks": ""
             }
            },
            "type": "scattergl"
           }
          ],
          "scattermapbox": [
           {
            "marker": {
             "colorbar": {
              "outlinewidth": 0,
              "ticks": ""
             }
            },
            "type": "scattermapbox"
           }
          ],
          "scatterpolar": [
           {
            "marker": {
             "colorbar": {
              "outlinewidth": 0,
              "ticks": ""
             }
            },
            "type": "scatterpolar"
           }
          ],
          "scatterpolargl": [
           {
            "marker": {
             "colorbar": {
              "outlinewidth": 0,
              "ticks": ""
             }
            },
            "type": "scatterpolargl"
           }
          ],
          "scatterternary": [
           {
            "marker": {
             "colorbar": {
              "outlinewidth": 0,
              "ticks": ""
             }
            },
            "type": "scatterternary"
           }
          ],
          "surface": [
           {
            "colorbar": {
             "outlinewidth": 0,
             "ticks": ""
            },
            "colorscale": [
             [
              0,
              "#0d0887"
             ],
             [
              0.1111111111111111,
              "#46039f"
             ],
             [
              0.2222222222222222,
              "#7201a8"
             ],
             [
              0.3333333333333333,
              "#9c179e"
             ],
             [
              0.4444444444444444,
              "#bd3786"
             ],
             [
              0.5555555555555556,
              "#d8576b"
             ],
             [
              0.6666666666666666,
              "#ed7953"
             ],
             [
              0.7777777777777778,
              "#fb9f3a"
             ],
             [
              0.8888888888888888,
              "#fdca26"
             ],
             [
              1,
              "#f0f921"
             ]
            ],
            "type": "surface"
           }
          ],
          "table": [
           {
            "cells": {
             "fill": {
              "color": "#EBF0F8"
             },
             "line": {
              "color": "white"
             }
            },
            "header": {
             "fill": {
              "color": "#C8D4E3"
             },
             "line": {
              "color": "white"
             }
            },
            "type": "table"
           }
          ]
         },
         "layout": {
          "annotationdefaults": {
           "arrowcolor": "#2a3f5f",
           "arrowhead": 0,
           "arrowwidth": 1
          },
          "autotypenumbers": "strict",
          "coloraxis": {
           "colorbar": {
            "outlinewidth": 0,
            "ticks": ""
           }
          },
          "colorscale": {
           "diverging": [
            [
             0,
             "#8e0152"
            ],
            [
             0.1,
             "#c51b7d"
            ],
            [
             0.2,
             "#de77ae"
            ],
            [
             0.3,
             "#f1b6da"
            ],
            [
             0.4,
             "#fde0ef"
            ],
            [
             0.5,
             "#f7f7f7"
            ],
            [
             0.6,
             "#e6f5d0"
            ],
            [
             0.7,
             "#b8e186"
            ],
            [
             0.8,
             "#7fbc41"
            ],
            [
             0.9,
             "#4d9221"
            ],
            [
             1,
             "#276419"
            ]
           ],
           "sequential": [
            [
             0,
             "#0d0887"
            ],
            [
             0.1111111111111111,
             "#46039f"
            ],
            [
             0.2222222222222222,
             "#7201a8"
            ],
            [
             0.3333333333333333,
             "#9c179e"
            ],
            [
             0.4444444444444444,
             "#bd3786"
            ],
            [
             0.5555555555555556,
             "#d8576b"
            ],
            [
             0.6666666666666666,
             "#ed7953"
            ],
            [
             0.7777777777777778,
             "#fb9f3a"
            ],
            [
             0.8888888888888888,
             "#fdca26"
            ],
            [
             1,
             "#f0f921"
            ]
           ],
           "sequentialminus": [
            [
             0,
             "#0d0887"
            ],
            [
             0.1111111111111111,
             "#46039f"
            ],
            [
             0.2222222222222222,
             "#7201a8"
            ],
            [
             0.3333333333333333,
             "#9c179e"
            ],
            [
             0.4444444444444444,
             "#bd3786"
            ],
            [
             0.5555555555555556,
             "#d8576b"
            ],
            [
             0.6666666666666666,
             "#ed7953"
            ],
            [
             0.7777777777777778,
             "#fb9f3a"
            ],
            [
             0.8888888888888888,
             "#fdca26"
            ],
            [
             1,
             "#f0f921"
            ]
           ]
          },
          "colorway": [
           "#636efa",
           "#EF553B",
           "#00cc96",
           "#ab63fa",
           "#FFA15A",
           "#19d3f3",
           "#FF6692",
           "#B6E880",
           "#FF97FF",
           "#FECB52"
          ],
          "font": {
           "color": "#2a3f5f"
          },
          "geo": {
           "bgcolor": "white",
           "lakecolor": "white",
           "landcolor": "#E5ECF6",
           "showlakes": true,
           "showland": true,
           "subunitcolor": "white"
          },
          "hoverlabel": {
           "align": "left"
          },
          "hovermode": "closest",
          "mapbox": {
           "style": "light"
          },
          "paper_bgcolor": "white",
          "plot_bgcolor": "#E5ECF6",
          "polar": {
           "angularaxis": {
            "gridcolor": "white",
            "linecolor": "white",
            "ticks": ""
           },
           "bgcolor": "#E5ECF6",
           "radialaxis": {
            "gridcolor": "white",
            "linecolor": "white",
            "ticks": ""
           }
          },
          "scene": {
           "xaxis": {
            "backgroundcolor": "#E5ECF6",
            "gridcolor": "white",
            "gridwidth": 2,
            "linecolor": "white",
            "showbackground": true,
            "ticks": "",
            "zerolinecolor": "white"
           },
           "yaxis": {
            "backgroundcolor": "#E5ECF6",
            "gridcolor": "white",
            "gridwidth": 2,
            "linecolor": "white",
            "showbackground": true,
            "ticks": "",
            "zerolinecolor": "white"
           },
           "zaxis": {
            "backgroundcolor": "#E5ECF6",
            "gridcolor": "white",
            "gridwidth": 2,
            "linecolor": "white",
            "showbackground": true,
            "ticks": "",
            "zerolinecolor": "white"
           }
          },
          "shapedefaults": {
           "line": {
            "color": "#2a3f5f"
           }
          },
          "ternary": {
           "aaxis": {
            "gridcolor": "white",
            "linecolor": "white",
            "ticks": ""
           },
           "baxis": {
            "gridcolor": "white",
            "linecolor": "white",
            "ticks": ""
           },
           "bgcolor": "#E5ECF6",
           "caxis": {
            "gridcolor": "white",
            "linecolor": "white",
            "ticks": ""
           }
          },
          "title": {
           "x": 0.05
          },
          "xaxis": {
           "automargin": true,
           "gridcolor": "white",
           "linecolor": "white",
           "ticks": "",
           "title": {
            "standoff": 15
           },
           "zerolinecolor": "white",
           "zerolinewidth": 2
          },
          "yaxis": {
           "automargin": true,
           "gridcolor": "white",
           "linecolor": "white",
           "ticks": "",
           "title": {
            "standoff": 15
           },
           "zerolinecolor": "white",
           "zerolinewidth": 2
          }
         }
        },
        "title": {
         "text": "Direct Reports for Each Manager"
        },
        "xaxis": {
         "anchor": "y",
         "autorange": true,
         "domain": [
          0,
          1
         ],
         "range": [
          -0.5,
          23.5
         ],
         "tickangle": -45,
         "title": {
          "text": "Manager"
         },
         "type": "category"
        },
        "yaxis": {
         "anchor": "x",
         "autorange": true,
         "domain": [
          0,
          1
         ],
         "range": [
          0,
          309410.5263157895
         ],
         "title": {
          "text": "Number of Direct Reports"
         },
         "type": "linear"
        }
       }
      },
      "image/png": "[encoded data removed]",
      "text/html": [
       "<div>                            <div id=\"9530a23b-80e6-4c2a-a827-341b463b4a50\" class=\"plotly-graph-div\" style=\"height:600px; width:100%;\"></div>            <script type=\"text/javascript\">                require([\"plotly\"], function(Plotly) {                    window.PLOTLYENV=window.PLOTLYENV || {};                                    if (document.getElementById(\"9530a23b-80e6-4c2a-a827-341b463b4a50\")) {                    Plotly.newPlot(                        \"9530a23b-80e6-4c2a-a827-341b463b4a50\",                        [{\"alignmentgroup\":\"True\",\"hovertemplate\":\"Manager=%{x}\\u003cbr\\u003eNumber of Direct Reports=%{marker.color}\\u003cextra\\u003e\\u003c\\u002fextra\\u003e\",\"legendgroup\":\"\",\"marker\":{\"color\":[104490,94320,35572,42252,80468,34692,80468,293940,40422,293940,94320,35572,80468,171414,80468,171414,42252,94320,40422,34692,293940,293940,104490,94320],\"coloraxis\":\"coloraxis\",\"pattern\":{\"shape\":\"\"}},\"name\":\"\",\"offsetgroup\":\"\",\"orientation\":\"v\",\"showlegend\":false,\"textposition\":\"auto\",\"x\":[\"Przemyslawa Kaelbling\",\"Tonny Butterworth\",\"Karsten Sigstam\",\"Arie Staelin\",\"Dung Pesch\",\"Ebru Alpin\",\"Rutger Hofmeyr\",\"Oscar Ghazalie\",\"Vishwani Minakawa\",\"Shem Kieras\",\"Xiaobin Spinelli\",\"Shirish Ossenbruggen\",\"Sanjoy Quadeer\",\"Leon DasSarma\",\"Peternela Onuegbe\",\"DeForest Hagimont\",\"Hilary Kambil\",\"Marjo Giarratana\",\"Margareta Markovitch\",\"Isamu Legleitner\",\"Krassimir Wegerle\",\"Rosine Cools\",\"Hauke Zhang\",\"Yuchang Weedman\"],\"xaxis\":\"x\",\"y\":[104490,94320,35572,42252,80468,34692,80468,293940,40422,293940,94320,35572,80468,171414,80468,171414,42252,94320,40422,34692,293940,293940,104490,94320],\"yaxis\":\"y\",\"type\":\"bar\"}],                        {\"template\":{\"data\":{\"histogram2dcontour\":[{\"type\":\"histogram2dcontour\",\"colorbar\":{\"outlinewidth\":0,\"ticks\":\"\"},\"colorscale\":[[0.0,\"#0d0887\"],[0.1111111111111111,\"#46039f\"],[0.2222222222222222,\"#7201a8\"],[0.3333333333333333,\"#9c179e\"],[0.4444444444444444,\"#bd3786\"],[0.5555555555555556,\"#d8576b\"],[0.6666666666666666,\"#ed7953\"],[0.7777777777777778,\"#fb9f3a\"],[0.8888888888888888,\"#fdca26\"],[1.0,\"#f0f921\"]]}],\"choropleth\":[{\"type\":\"choropleth\",\"colorbar\":{\"outlinewidth\":0,\"ticks\":\"\"}}],\"histogram2d\":[{\"type\":\"histogram2d\",\"colorbar\":{\"outlinewidth\":0,\"ticks\":\"\"},\"colorscale\":[[0.0,\"#0d0887\"],[0.1111111111111111,\"#46039f\"],[0.2222222222222222,\"#7201a8\"],[0.3333333333333333,\"#9c179e\"],[0.4444444444444444,\"#bd3786\"],[0.5555555555555556,\"#d8576b\"],[0.6666666666666666,\"#ed7953\"],[0.7777777777777778,\"#fb9f3a\"],[0.8888888888888888,\"#fdca26\"],[1.0,\"#f0f921\"]]}],\"heatmap\":[{\"type\":\"heatmap\",\"colorbar\":{\"outlinewidth\":0,\"ticks\":\"\"},\"colorscale\":[[0.0,\"#0d0887\"],[0.1111111111111111,\"#46039f\"],[0.2222222222222222,\"#7201a8\"],[0.3333333333333333,\"#9c179e\"],[0.4444444444444444,\"#bd3786\"],[0.5555555555555556,\"#d8576b\"],[0.6666666666666666,\"#ed7953\"],[0.7777777777777778,\"#fb9f3a\"],[0.8888888888888888,\"#fdca26\"],[1.0,\"#f0f921\"]]}],\"heatmapgl\":[{\"type\":\"heatmapgl\",\"colorbar\":{\"outlinewidth\":0,\"ticks\":\"\"},\"colorscale\":[[0.0,\"#0d0887\"],[0.1111111111111111,\"#46039f\"],[0.2222222222222222,\"#7201a8\"],[0.3333333333333333,\"#9c179e\"],[0.4444444444444444,\"#bd3786\"],[0.5555555555555556,\"#d8576b\"],[0.6666666666666666,\"#ed7953\"],[0.7777777777777778,\"#fb9f3a\"],[0.8888888888888888,\"#fdca26\"],[1.0,\"#f0f921\"]]}],\"contourcarpet\":[{\"type\":\"contourcarpet\",\"colorbar\":{\"outlinewidth\":0,\"ticks\":\"\"}}],\"contour\":[{\"type\":\"contour\",\"colorbar\":{\"outlinewidth\":0,\"ticks\":\"\"},\"colorscale\":[[0.0,\"#0d0887\"],[0.1111111111111111,\"#46039f\"],[0.2222222222222222,\"#7201a8\"],[0.3333333333333333,\"#9c179e\"],[0.4444444444444444,\"#bd3786\"],[0.5555555555555556,\"#d8576b\"],[0.6666666666666666,\"#ed7953\"],[0.7777777777777778,\"#fb9f3a\"],[0.8888888888888888,\"#fdca26\"],[1.0,\"#f0f921\"]]}],\"surface\":[{\"type\":\"surface\",\"colorbar\":{\"outlinewidth\":0,\"ticks\":\"\"},\"colorscale\":[[0.0,\"#0d0887\"],[0.1111111111111111,\"#46039f\"],[0.2222222222222222,\"#7201a8\"],[0.3333333333333333,\"#9c179e\"],[0.4444444444444444,\"#bd3786\"],[0.5555555555555556,\"#d8576b\"],[0.6666666666666666,\"#ed7953\"],[0.7777777777777778,\"#fb9f3a\"],[0.8888888888888888,\"#fdca26\"],[1.0,\"#f0f921\"]]}],\"mesh3d\":[{\"type\":\"mesh3d\",\"colorbar\":{\"outlinewidth\":0,\"ticks\":\"\"}}],\"scatter\":[{\"fillpattern\":{\"fillmode\":\"overlay\",\"size\":10,\"solidity\":0.2},\"type\":\"scatter\"}],\"parcoords\":[{\"type\":\"parcoords\",\"line\":{\"colorbar\":{\"outlinewidth\":0,\"ticks\":\"\"}}}],\"scatterpolargl\":[{\"type\":\"scatterpolargl\",\"marker\":{\"colorbar\":{\"outlinewidth\":0,\"ticks\":\"\"}}}],\"bar\":[{\"error_x\":{\"color\":\"#2a3f5f\"},\"error_y\":{\"color\":\"#2a3f5f\"},\"marker\":{\"line\":{\"color\":\"#E5ECF6\",\"width\":0.5},\"pattern\":{\"fillmode\":\"overlay\",\"size\":10,\"solidity\":0.2}},\"type\":\"bar\"}],\"scattergeo\":[{\"type\":\"scattergeo\",\"marker\":{\"colorbar\":{\"outlinewidth\":0,\"ticks\":\"\"}}}],\"scatterpolar\":[{\"type\":\"scatterpolar\",\"marker\":{\"colorbar\":{\"outlinewidth\":0,\"ticks\":\"\"}}}],\"histogram\":[{\"marker\":{\"pattern\":{\"fillmode\":\"overlay\",\"size\":10,\"solidity\":0.2}},\"type\":\"histogram\"}],\"scattergl\":[{\"type\":\"scattergl\",\"marker\":{\"colorbar\":{\"outlinewidth\":0,\"ticks\":\"\"}}}],\"scatter3d\":[{\"type\":\"scatter3d\",\"line\":{\"colorbar\":{\"outlinewidth\":0,\"ticks\":\"\"}},\"marker\":{\"colorbar\":{\"outlinewidth\":0,\"ticks\":\"\"}}}],\"scattermapbox\":[{\"type\":\"scattermapbox\",\"marker\":{\"colorbar\":{\"outlinewidth\":0,\"ticks\":\"\"}}}],\"scatterternary\":[{\"type\":\"scatterternary\",\"marker\":{\"colorbar\":{\"outlinewidth\":0,\"ticks\":\"\"}}}],\"scattercarpet\":[{\"type\":\"scattercarpet\",\"marker\":{\"colorbar\":{\"outlinewidth\":0,\"ticks\":\"\"}}}],\"carpet\":[{\"aaxis\":{\"endlinecolor\":\"#2a3f5f\",\"gridcolor\":\"white\",\"linecolor\":\"white\",\"minorgridcolor\":\"white\",\"startlinecolor\":\"#2a3f5f\"},\"baxis\":{\"endlinecolor\":\"#2a3f5f\",\"gridcolor\":\"white\",\"linecolor\":\"white\",\"minorgridcolor\":\"white\",\"startlinecolor\":\"#2a3f5f\"},\"type\":\"carpet\"}],\"table\":[{\"cells\":{\"fill\":{\"color\":\"#EBF0F8\"},\"line\":{\"color\":\"white\"}},\"header\":{\"fill\":{\"color\":\"#C8D4E3\"},\"line\":{\"color\":\"white\"}},\"type\":\"table\"}],\"barpolar\":[{\"marker\":{\"line\":{\"color\":\"#E5ECF6\",\"width\":0.5},\"pattern\":{\"fillmode\":\"overlay\",\"size\":10,\"solidity\":0.2}},\"type\":\"barpolar\"}],\"pie\":[{\"automargin\":true,\"type\":\"pie\"}]},\"layout\":{\"autotypenumbers\":\"strict\",\"colorway\":[\"#636efa\",\"#EF553B\",\"#00cc96\",\"#ab63fa\",\"#FFA15A\",\"#19d3f3\",\"#FF6692\",\"#B6E880\",\"#FF97FF\",\"#FECB52\"],\"font\":{\"color\":\"#2a3f5f\"},\"hovermode\":\"closest\",\"hoverlabel\":{\"align\":\"left\"},\"paper_bgcolor\":\"white\",\"plot_bgcolor\":\"#E5ECF6\",\"polar\":{\"bgcolor\":\"#E5ECF6\",\"angularaxis\":{\"gridcolor\":\"white\",\"linecolor\":\"white\",\"ticks\":\"\"},\"radialaxis\":{\"gridcolor\":\"white\",\"linecolor\":\"white\",\"ticks\":\"\"}},\"ternary\":{\"bgcolor\":\"#E5ECF6\",\"aaxis\":{\"gridcolor\":\"white\",\"linecolor\":\"white\",\"ticks\":\"\"},\"baxis\":{\"gridcolor\":\"white\",\"linecolor\":\"white\",\"ticks\":\"\"},\"caxis\":{\"gridcolor\":\"white\",\"linecolor\":\"white\",\"ticks\":\"\"}},\"coloraxis\":{\"colorbar\":{\"outlinewidth\":0,\"ticks\":\"\"}},\"colorscale\":{\"sequential\":[[0.0,\"#0d0887\"],[0.1111111111111111,\"#46039f\"],[0.2222222222222222,\"#7201a8\"],[0.3333333333333333,\"#9c179e\"],[0.4444444444444444,\"#bd3786\"],[0.5555555555555556,\"#d8576b\"],[0.6666666666666666,\"#ed7953\"],[0.7777777777777778,\"#fb9f3a\"],[0.8888888888888888,\"#fdca26\"],[1.0,\"#f0f921\"]],\"sequentialminus\":[[0.0,\"#0d0887\"],[0.1111111111111111,\"#46039f\"],[0.2222222222222222,\"#7201a8\"],[0.3333333333333333,\"#9c179e\"],[0.4444444444444444,\"#bd3786\"],[0.5555555555555556,\"#d8576b\"],[0.6666666666666666,\"#ed7953\"],[0.7777777777777778,\"#fb9f3a\"],[0.8888888888888888,\"#fdca26\"],[1.0,\"#f0f921\"]],\"diverging\":[[0,\"#8e0152\"],[0.1,\"#c51b7d\"],[0.2,\"#de77ae\"],[0.3,\"#f1b6da\"],[0.4,\"#fde0ef\"],[0.5,\"#f7f7f7\"],[0.6,\"#e6f5d0\"],[0.7,\"#b8e186\"],[0.8,\"#7fbc41\"],[0.9,\"#4d9221\"],[1,\"#276419\"]]},\"xaxis\":{\"gridcolor\":\"white\",\"linecolor\":\"white\",\"ticks\":\"\",\"title\":{\"standoff\":15},\"zerolinecolor\":\"white\",\"automargin\":true,\"zerolinewidth\":2},\"yaxis\":{\"gridcolor\":\"white\",\"linecolor\":\"white\",\"ticks\":\"\",\"title\":{\"standoff\":15},\"zerolinecolor\":\"white\",\"automargin\":true,\"zerolinewidth\":2},\"scene\":{\"xaxis\":{\"backgroundcolor\":\"#E5ECF6\",\"gridcolor\":\"white\",\"linecolor\":\"white\",\"showbackground\":true,\"ticks\":\"\",\"zerolinecolor\":\"white\",\"gridwidth\":2},\"yaxis\":{\"backgroundcolor\":\"#E5ECF6\",\"gridcolor\":\"white\",\"linecolor\":\"white\",\"showbackground\":true,\"ticks\":\"\",\"zerolinecolor\":\"white\",\"gridwidth\":2},\"zaxis\":{\"backgroundcolor\":\"#E5ECF6\",\"gridcolor\":\"white\",\"linecolor\":\"white\",\"showbackground\":true,\"ticks\":\"\",\"zerolinecolor\":\"white\",\"gridwidth\":2}},\"shapedefaults\":{\"line\":{\"color\":\"#2a3f5f\"}},\"annotationdefaults\":{\"arrowcolor\":\"#2a3f5f\",\"arrowhead\":0,\"arrowwidth\":1},\"geo\":{\"bgcolor\":\"white\",\"landcolor\":\"#E5ECF6\",\"subunitcolor\":\"white\",\"showland\":true,\"showlakes\":true,\"lakecolor\":\"white\"},\"title\":{\"x\":0.05},\"mapbox\":{\"style\":\"light\"}}},\"xaxis\":{\"anchor\":\"y\",\"domain\":[0.0,1.0],\"title\":{\"text\":\"Manager\"},\"tickangle\":-45},\"yaxis\":{\"anchor\":\"x\",\"domain\":[0.0,1.0],\"title\":{\"text\":\"Number of Direct Reports\"}},\"coloraxis\":{\"colorbar\":{\"title\":{\"text\":\"Number of Direct Reports\"}},\"colorscale\":[[0.0,\"#440154\"],[0.1111111111111111,\"#482878\"],[0.2222222222222222,\"#3e4989\"],[0.3333333333333333,\"#31688e\"],[0.4444444444444444,\"#26828e\"],[0.5555555555555556,\"#1f9e89\"],[0.6666666666666666,\"#35b779\"],[0.7777777777777778,\"#6ece58\"],[0.8888888888888888,\"#b5de2b\"],[1.0,\"#fde725\"]]},\"legend\":{\"tracegroupgap\":0},\"title\":{\"text\":\"Direct Reports for Each Manager\"},\"barmode\":\"relative\",\"height\":600},                        {\"responsive\": true}                    ).then(function(){\n",
       "                            \n",
       "var gd = document.getElementById('9530a23b-80e6-4c2a-a827-341b463b4a50');\n",
       "var x = new MutationObserver(function (mutations, observer) {{\n",
       "        var display = window.getComputedStyle(gd).display;\n",
       "        if (!display || display === 'none') {{\n",
       "            console.log([gd, 'removed!']);\n",
       "            Plotly.purge(gd);\n",
       "            observer.disconnect();\n",
       "        }}\n",
       "}});\n",
       "\n",
       "// Listen for the removal of the full notebook cells\n",
       "var notebookContainer = gd.closest('#notebook-container');\n",
       "if (notebookContainer) {{\n",
       "    x.observe(notebookContainer, {childList: true});\n",
       "}}\n",
       "\n",
       "// Listen for the clearing of the current output cell\n",
       "var outputEl = gd.closest('.output');\n",
       "if (outputEl) {{\n",
       "    x.observe(outputEl, {childList: true});\n",
       "}}\n",
       "\n",
       "                        })                };                });            </script>        </div>"
      ]
     },
     "metadata": {},
     "output_type": "display_data"
    }
   ],
   "source": [
    "# Assuming df is your DataFrame containing 'manager_name' and 'direct reports'\n",
    "fig = px.bar(\n",
    "    df4,\n",
    "    x='manager_name',             # X-axis: manager names\n",
    "    y='direct reports',           # Y-axis: count of direct reports\n",
    "    title='Direct Reports for Each Manager',\n",
    "    labels={'manager_name': 'Manager', 'direct reports': 'Number of Direct Reports'},  # Axis labels\n",
    "    color='direct reports',       # Optional: Color bars based on the number of direct reports\n",
    "    color_continuous_scale='Viridis',  # Optional: Color scale\n",
    ")\n",
    "\n",
    "# Update layout for better spacing and display\n",
    "fig.update_layout(\n",
    "    height=600,  # Adjust chart height\n",
    "    xaxis_tickangle=-45,  # Rotate x-axis labels for readability\n",
    ")\n",
    "\n",
    "# Show the plot\n",
    "fig.show()"
   ]
  },
  {
   "cell_type": "markdown",
   "id": "32e0100a-4e16-4f2e-a4a4-288a7c8c49bf",
   "metadata": {},
   "source": [
    "## ------------------------------------------------------------------------------------------------"
   ]
  }
 ],
 "metadata": {
  "kernelspec": {
   "display_name": "Python 3 (ipykernel)",
   "language": "python",
   "name": "python3"
  },
  "language_info": {
   "codemirror_mode": {
    "name": "ipython",
    "version": 3
   },
   "file_extension": ".py",
   "mimetype": "text/x-python",
   "name": "python",
   "nbconvert_exporter": "python",
   "pygments_lexer": "ipython3",
   "version": "3.12.4"
  }
 },
 "nbformat": 4,
 "nbformat_minor": 5
}
