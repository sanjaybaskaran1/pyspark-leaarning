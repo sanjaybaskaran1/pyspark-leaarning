{
 "cells": [
  {
   "cell_type": "code",
   "execution_count": 1,
   "id": "6f421140-9077-4630-9f6a-bc51cc32cfa5",
   "metadata": {},
   "outputs": [],
   "source": [
    "from pyspark.sql import SparkSession\n",
    "\n",
    "spark = SparkSession.builder \\\n",
    "        .appName(\"MYSQL Connection Example\") \\\n",
    "        .getOrCreate()"
   ]
  },
  {
   "cell_type": "code",
   "execution_count": 2,
   "id": "471e23a7-725a-4edd-8f4b-457ce0e7122f",
   "metadata": {},
   "outputs": [],
   "source": [
    "from pyspark.sql import SparkSession\n",
    "\n",
    "spark = SparkSession.builder \\\n",
    "    .appName(\"MyApp\") \\\n",
    "    .config(\"spark.jars\", \"/path/to/mysql-connector-java-8.0.33.jar\") \\\n",
    "    .getOrCreate()\n"
   ]
  },
  {
   "cell_type": "code",
   "execution_count": 3,
   "id": "a372f7e2-d182-4f6c-90ec-8ab934c0276a",
   "metadata": {},
   "outputs": [],
   "source": [
    "import matplotlib.pyplot as plt\n",
    "import pandas as pd"
   ]
  },
  {
   "cell_type": "code",
   "execution_count": 7,
   "id": "d493660f-b438-4e87-a393-05494c27421f",
   "metadata": {},
   "outputs": [],
   "source": [
    "jdbc_hostname = \"localhost\"\n",
    "jdbc_port = 3306\n",
    "database = \"churn_prediction\"\n",
    "jdbc_url = f\"jdbc:mysql://{jdbc_hostname}:{jdbc_port}/{database}\""
   ]
  },
  {
   "cell_type": "code",
   "execution_count": 4,
   "id": "5787ffcf-4944-4080-8ca0-5c0b1488629b",
   "metadata": {},
   "outputs": [],
   "source": [
    "connection_properties = {\n",
    "\n",
    "    \"user\":\"root\",\n",
    "    \"password\":\"easwari\",\n",
    "    \"driver\":\"com.mysql.cj.jdbc.Driver\"\n",
    "}"
   ]
  },
  {
   "cell_type": "code",
   "execution_count": 5,
   "id": "d7638ee3-c26c-45ee-9f26-70d576bdb072",
   "metadata": {},
   "outputs": [],
   "source": [
    "table = \"customers\""
   ]
  },
  {
   "cell_type": "code",
   "execution_count": 8,
   "id": "c3c6943d-f4cb-4ade-b941-3d7310ea836a",
   "metadata": {},
   "outputs": [
    {
     "name": "stdout",
     "output_type": "stream",
     "text": [
      "+----------+------+-------------+-------+----------+------+------------+----------------+---------------+-------------------+-------------------+-------------------+-------------------+-------------------+-------------------+--------------+----------------+--------------------+--------------+------------+---------------+--------------+-----+\n",
      "|customerID|gender|SeniorCitizen|Partner|Dependents|tenure|PhoneService|   MultipleLines|InternetService|     OnlineSecurity|       OnlineBackup|   DeviceProtection|        TechSupport|        StreamingTV|    StreamingMovies|      Contract|PaperlessBilling|       PaymentMethod|MonthlyCharges|TotalCharges|numAdminTickets|numTechTickets|Churn|\n",
      "+----------+------+-------------+-------+----------+------+------------+----------------+---------------+-------------------+-------------------+-------------------+-------------------+-------------------+-------------------+--------------+----------------+--------------------+--------------+------------+---------------+--------------+-----+\n",
      "|7590-VHVEG|Female|            0|    Yes|        No|     1|          No|No phone service|            DSL|                 No|                Yes|                 No|                 No|                 No|                 No|Month-to-month|             Yes|    Electronic check|         29.85|       29.85|              0|             0|   No|\n",
      "|5575-GNVDE|  Male|            0|     No|        No|    34|         Yes|              No|            DSL|                Yes|                 No|                Yes|                 No|                 No|                 No|      One year|              No|        Mailed check|         56.95|      1889.5|              0|             0|   No|\n",
      "|3668-QPYBK|  Male|            0|     No|        No|     2|         Yes|              No|            DSL|                Yes|                Yes|                 No|                 No|                 No|                 No|Month-to-month|             Yes|        Mailed check|         53.85|      108.15|              0|             0|  Yes|\n",
      "|7795-CFOCW|  Male|            0|     No|        No|    45|          No|No phone service|            DSL|                Yes|                 No|                Yes|                Yes|                 No|                 No|      One year|              No|Bank transfer (au...|          42.3|     1840.75|              0|             3|   No|\n",
      "|9237-HQITU|Female|            0|     No|        No|     2|         Yes|              No|    Fiber optic|                 No|                 No|                 No|                 No|                 No|                 No|Month-to-month|             Yes|    Electronic check|          70.7|      151.65|              0|             0|  Yes|\n",
      "|9305-CDSKC|Female|            0|     No|        No|     8|         Yes|             Yes|    Fiber optic|                 No|                 No|                Yes|                 No|                Yes|                Yes|Month-to-month|             Yes|    Electronic check|         99.65|       820.5|              0|             0|  Yes|\n",
      "|1452-KIOVK|  Male|            0|     No|       Yes|    22|         Yes|             Yes|    Fiber optic|                 No|                Yes|                 No|                 No|                Yes|                 No|Month-to-month|             Yes|Credit card (auto...|          89.1|      1949.4|              0|             0|   No|\n",
      "|6713-OKOMC|Female|            0|     No|        No|    10|          No|No phone service|            DSL|                Yes|                 No|                 No|                 No|                 No|                 No|Month-to-month|              No|        Mailed check|         29.75|       301.9|              0|             0|   No|\n",
      "|7892-POOKP|Female|            0|    Yes|        No|    28|         Yes|             Yes|    Fiber optic|                 No|                 No|                Yes|                Yes|                Yes|                Yes|Month-to-month|             Yes|    Electronic check|         104.8|     3046.05|              0|             2|  Yes|\n",
      "|6388-TABGU|  Male|            0|     No|       Yes|    62|         Yes|              No|            DSL|                Yes|                Yes|                 No|                 No|                 No|                 No|      One year|              No|Bank transfer (au...|         56.15|     3487.95|              0|             0|   No|\n",
      "|9763-GRSKD|  Male|            0|    Yes|       Yes|    13|         Yes|              No|            DSL|                Yes|                 No|                 No|                 No|                 No|                 No|Month-to-month|             Yes|        Mailed check|         49.95|      587.45|              1|             0|   No|\n",
      "|7469-LKBCI|  Male|            0|     No|        No|    16|         Yes|              No|             No|No internet service|No internet service|No internet service|No internet service|No internet service|No internet service|      Two year|              No|Credit card (auto...|         18.95|       326.8|              0|             0|   No|\n",
      "|8091-TTVAX|  Male|            0|    Yes|        No|    58|         Yes|             Yes|    Fiber optic|                 No|                 No|                Yes|                 No|                Yes|                Yes|      One year|              No|Credit card (auto...|        100.35|      5681.1|              0|             0|   No|\n",
      "|0280-XJGEX|  Male|            0|     No|        No|    49|         Yes|             Yes|    Fiber optic|                 No|                Yes|                Yes|                 No|                Yes|                Yes|Month-to-month|             Yes|Bank transfer (au...|         103.7|      5036.3|              5|             4|  Yes|\n",
      "|5129-JLPIS|  Male|            0|     No|        No|    25|         Yes|              No|    Fiber optic|                Yes|                 No|                Yes|                Yes|                Yes|                Yes|Month-to-month|             Yes|    Electronic check|         105.5|     2686.05|              0|             0|   No|\n",
      "|3655-SNQYZ|Female|            0|    Yes|       Yes|    69|         Yes|             Yes|    Fiber optic|                Yes|                Yes|                Yes|                Yes|                Yes|                Yes|      Two year|              No|Credit card (auto...|        113.25|     7895.15|              0|             0|   No|\n",
      "|8191-XWSZG|Female|            0|     No|        No|    52|         Yes|              No|             No|No internet service|No internet service|No internet service|No internet service|No internet service|No internet service|      One year|              No|        Mailed check|         20.65|     1022.95|              0|             0|   No|\n",
      "|9959-WOFKT|  Male|            0|     No|       Yes|    71|         Yes|             Yes|    Fiber optic|                Yes|                 No|                Yes|                 No|                Yes|                Yes|      Two year|              No|Bank transfer (au...|         106.7|     7382.25|              0|             4|   No|\n",
      "|4190-MFLUW|Female|            0|    Yes|       Yes|    10|         Yes|              No|            DSL|                 No|                 No|                Yes|                Yes|                 No|                 No|Month-to-month|              No|Credit card (auto...|          55.2|      528.35|              0|             0|  Yes|\n",
      "|4183-MYFRB|Female|            0|     No|        No|    21|         Yes|              No|    Fiber optic|                 No|                Yes|                Yes|                 No|                 No|                Yes|Month-to-month|             Yes|    Electronic check|         90.05|      1862.9|              0|             0|   No|\n",
      "+----------+------+-------------+-------+----------+------+------------+----------------+---------------+-------------------+-------------------+-------------------+-------------------+-------------------+-------------------+--------------+----------------+--------------------+--------------+------------+---------------+--------------+-----+\n",
      "only showing top 20 rows\n",
      "\n"
     ]
    }
   ],
   "source": [
    "try:\n",
    "    df = spark.read.jdbc(url=jdbc_url, table=table, properties=connection_properties)\n",
    "    df.show()\n",
    "except Exception as e:\n",
    "    print(f\"error as {e}\")"
   ]
  },
  {
   "cell_type": "code",
   "execution_count": 9,
   "id": "b09ef358-e7ed-4787-980b-ba3786350e3c",
   "metadata": {},
   "outputs": [],
   "source": [
    "df.createOrReplaceTempView(\"customers\")"
   ]
  },
  {
   "cell_type": "code",
   "execution_count": 10,
   "id": "6eb2027b-b58f-4b68-a6ad-f8b3c81a2ec0",
   "metadata": {},
   "outputs": [
    {
     "name": "stdout",
     "output_type": "stream",
     "text": [
      "+------+\n",
      "|gender|\n",
      "+------+\n",
      "|  Male|\n",
      "|  Male|\n",
      "|  Male|\n",
      "|  Male|\n",
      "|  Male|\n",
      "|  Male|\n",
      "|  Male|\n",
      "|  Male|\n",
      "|  Male|\n",
      "|  Male|\n",
      "|  Male|\n",
      "|  Male|\n",
      "|  Male|\n",
      "|  Male|\n",
      "|  Male|\n",
      "|  Male|\n",
      "|  Male|\n",
      "|  Male|\n",
      "|  Male|\n",
      "|  Male|\n",
      "+------+\n",
      "only showing top 20 rows\n",
      "\n"
     ]
    }
   ],
   "source": [
    "result = spark.sql('SELECT gender FROM customers WHERE gender = \"Male\"')\n",
    "result.show()"
   ]
  },
  {
   "cell_type": "code",
   "execution_count": 11,
   "id": "a73179a8-9d46-4f34-b886-41c27f3f3eef",
   "metadata": {},
   "outputs": [],
   "source": [
    "result2 = spark.sql( '''\n",
    "                     with cte1 as\n",
    "                     (select gender, count(customerid) as `Total_no_of_customers`\n",
    "                     from customers\n",
    "                     group by gender)\n",
    "                     , cte2 as\n",
    "                     (select gender, count(Churn) as `churn`\n",
    "                     from customers\n",
    "                     where churn = 'Yes'\n",
    "                     group by gender)\n",
    "                     select cte1.*, cte2.churn, (`Total_no_of_customers` - churn) as `retained`\n",
    "                     from cte1 inner join cte2 \n",
    "                     on cte1.gender = cte2.gender\n",
    "                     '''\n",
    "                     )"
   ]
  },
  {
   "cell_type": "code",
   "execution_count": 12,
   "id": "b25fd839-3ac2-4349-a029-08d74669d0ad",
   "metadata": {},
   "outputs": [
    {
     "name": "stdout",
     "output_type": "stream",
     "text": [
      "+------+---------------------+-----+--------+\n",
      "|gender|Total_no_of_customers|churn|retained|\n",
      "+------+---------------------+-----+--------+\n",
      "|Female|                 3483|  939|    2544|\n",
      "|  Male|                 3549|  930|    2619|\n",
      "+------+---------------------+-----+--------+\n",
      "\n"
     ]
    }
   ],
   "source": [
    "result2.show()"
   ]
  },
  {
   "cell_type": "code",
   "execution_count": 18,
   "id": "c4b3837f-0d10-4f68-9af3-3246051d8b7f",
   "metadata": {},
   "outputs": [],
   "source": [
    "df_pd = result2.toPandas()"
   ]
  },
  {
   "cell_type": "code",
   "execution_count": 19,
   "id": "5c6aae54-a637-4a70-92fb-df4caf4739af",
   "metadata": {},
   "outputs": [
    {
     "data": {
      "text/plain": [
       "pyspark.sql.dataframe.DataFrame"
      ]
     },
     "execution_count": 19,
     "metadata": {},
     "output_type": "execute_result"
    }
   ],
   "source": [
    "type(result2)"
   ]
  },
  {
   "cell_type": "code",
   "execution_count": 21,
   "id": "1611ef1a-cf5d-44b1-8add-7c0da0f096d7",
   "metadata": {},
   "outputs": [
    {
     "data": {
      "image/png": "[encoded data removed]",
      "text/plain": [
       "<Figure size 1000x600 with 1 Axes>"
      ]
     },
     "metadata": {},
     "output_type": "display_data"
    }
   ],
   "source": [
    "# Plot total customers, churn, and retained counts side-by-side for each gender\n",
    "df_pd.plot(x='gender', y=['Total_no_of_customers', 'churn', 'retained'], kind='bar', color=['lightgray', 'salmon', 'skyblue'], figsize=(10, 6))\n",
    "\n",
    "# Add labels and title\n",
    "plt.xlabel('Gender')\n",
    "plt.ylabel('Number of Customers')\n",
    "plt.title('Churned and retained customers by gender')\n",
    "plt.xticks(rotation=0)  # Keep x-axis labels horizontal\n",
    "plt.legend(['Total Customers', 'Churn', 'Retained'])\n",
    "\n",
    "# Show plot\n",
    "plt.show()\n"
   ]
  },
  {
   "cell_type": "markdown",
   "id": "4696acd1-49b6-49c6-a7fd-b8fbd693e8ac",
   "metadata": {},
   "source": [
    "--> find the churned and retained customers for those who married and unmarried"
   ]
  },
  {
   "cell_type": "code",
   "execution_count": 25,
   "id": "f241e252-f792-4679-9b40-512f30c34c53",
   "metadata": {},
   "outputs": [
    {
     "name": "stdout",
     "output_type": "stream",
     "text": [
      "+-------+\n",
      "|partner|\n",
      "+-------+\n",
      "|    Yes|\n",
      "|     No|\n",
      "|     No|\n",
      "|     No|\n",
      "|     No|\n",
      "|     No|\n",
      "|     No|\n",
      "|     No|\n",
      "|    Yes|\n",
      "|     No|\n",
      "|    Yes|\n",
      "|     No|\n",
      "|    Yes|\n",
      "|     No|\n",
      "|     No|\n",
      "|    Yes|\n",
      "|     No|\n",
      "|     No|\n",
      "|    Yes|\n",
      "|     No|\n",
      "+-------+\n",
      "only showing top 20 rows\n",
      "\n"
     ]
    }
   ],
   "source": [
    "spark.sql('''select partner from customers''').show()"
   ]
  },
  {
   "cell_type": "code",
   "execution_count": 57,
   "id": "c87b1fcc-c2ec-4c86-af3e-6cb205268bd5",
   "metadata": {},
   "outputs": [
    {
     "name": "stdout",
     "output_type": "stream",
     "text": [
      "+-------+---------------+------------------+-----------------+\n",
      "|partner|Total customers|Retained customers|Churned customers|\n",
      "+-------+---------------+------------------+-----------------+\n",
      "|    Yes|           3393|              2724|              669|\n",
      "|     No|           3639|              2439|             1200|\n",
      "+-------+---------------+------------------+-----------------+\n",
      "\n"
     ]
    }
   ],
   "source": [
    "result3 = spark.sql(\n",
    "          '''\n",
    "          with `total_customers` as\n",
    "          (\n",
    "          select partner, count(customerid) as `Total customers`\n",
    "          from customers\n",
    "          group by partner\n",
    "          )\n",
    "          ,`customer_retention` as\n",
    "          (\n",
    "          select partner,count(customerid) as `Retained customers`\n",
    "          from customers\n",
    "          where churn = \"No\"\n",
    "          group by partner\n",
    "          )\n",
    "          select tc.partner, tc.`Total customers`, cr.`Retained customers`,\n",
    "          (tc.`Total customers` - cr.`Retained customers`) as `Churned customers`\n",
    "          from (total_customers as  tc) inner join (customer_retention as cr)\n",
    "          on tc.partner = cr.partner\n",
    "          order by partner desc\n",
    "          ''')\n",
    "result3.show()"
   ]
  },
  {
   "cell_type": "code",
   "execution_count": 58,
   "id": "b9c7a843-ea55-4d43-9f5a-59d71d8d5ad2",
   "metadata": {},
   "outputs": [],
   "source": [
    "df_pd2 = result3.toPandas() "
   ]
  },
  {
   "cell_type": "code",
   "execution_count": 60,
   "id": "fde5e6e2-afb0-418c-b864-b9c57c31fabb",
   "metadata": {},
   "outputs": [
    {
     "data": {
      "image/png": "[encoded data removed]",
      "text/plain": [
       "<Figure size 1000x600 with 1 Axes>"
      ]
     },
     "metadata": {},
     "output_type": "display_data"
    }
   ],
   "source": [
    "# Plot total customers, churn, and retained counts side-by-side for each gender\n",
    "df_pd2.plot(x='partner', y=['Total customers', 'Churned customers', 'Retained customers'], \n",
    "                        kind='bar', color=['lightgray', 'salmon', 'skyblue'], figsize=(10, 6))\n",
    "\n",
    "# Add labels and title\n",
    "plt.xlabel('Partner')\n",
    "plt.ylabel('Number of Customers')\n",
    "plt.title('Churned and retained customers by gender')\n",
    "plt.xticks(rotation=0)  # Keep x-axis labels horizontal\n",
    "plt.legend(['Total Customers', 'Churn', 'Retained'])\n",
    "\n",
    "# Show plot\n",
    "plt.show()"
   ]
  }
 ],
 "metadata": {
  "kernelspec": {
   "display_name": "Python 3 (ipykernel)",
   "language": "python",
   "name": "python3"
  },
  "language_info": {
   "codemirror_mode": {
    "name": "ipython",
    "version": 3
   },
   "file_extension": ".py",
   "mimetype": "text/x-python",
   "name": "python",
   "nbconvert_exporter": "python",
   "pygments_lexer": "ipython3",
   "version": "3.12.4"
  }
 },
 "nbformat": 4,
 "nbformat_minor": 5
}
