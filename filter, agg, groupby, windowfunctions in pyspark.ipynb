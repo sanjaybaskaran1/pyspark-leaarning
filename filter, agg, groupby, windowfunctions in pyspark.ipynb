{
 "cells": [
  {
   "cell_type": "code",
   "execution_count": 1,
   "id": "035f15c1-c68f-4f20-9e4f-4d67cb35dc31",
   "metadata": {},
   "outputs": [
    {
     "name": "stdout",
     "output_type": "stream",
     "text": [
      "root\n",
      " |-- id: integer (nullable = true)\n",
      " |-- name: string (nullable = true)\n",
      " |-- age: integer (nullable = true)\n",
      " |-- salary: integer (nullable = true)\n",
      " |-- department: string (nullable = true)\n",
      " |-- region: string (nullable = true)\n",
      "\n",
      "+---+-------+---+------+----------+------+\n",
      "| id|   name|age|salary|department|region|\n",
      "+---+-------+---+------+----------+------+\n",
      "|  1|  Alice| 25| 50000|        HR| North|\n",
      "|  2|    Bob| 30| 60000|   Finance| South|\n",
      "|  3|Charlie| 35| 70000|        IT|  East|\n",
      "|  4|  David| 40| 80000| Marketing|  West|\n",
      "|  5|    Eve| 45| 90000|        HR| North|\n",
      "+---+-------+---+------+----------+------+\n",
      "only showing top 5 rows\n",
      "\n"
     ]
    }
   ],
   "source": [
    "from pyspark.sql import SparkSession\n",
    "\n",
    "app = SparkSession.builder.appName(\"filtering data\").getOrCreate()\n",
    "\n",
    "csv_path = r\"C:\\Users\\ASUS\\pyspark\\employee_data.csv\"\n",
    "\n",
    "df = app.read.csv(path=csv_path, header=True, inferSchema=True)\n",
    "\n",
    "df.printSchema()\n",
    "\n",
    "df.show(n=5)"
   ]
  },
  {
   "cell_type": "code",
   "execution_count": 3,
   "id": "e9499e65-4ecd-43ac-9a5d-f8693288b2a6",
   "metadata": {},
   "outputs": [
    {
     "name": "stdout",
     "output_type": "stream",
     "text": [
      "+---+-----+---+------+----------+------+\n",
      "| id| name|age|salary|department|region|\n",
      "+---+-----+---+------+----------+------+\n",
      "|  5|  Eve| 45| 90000|        HR| North|\n",
      "|  6|Frank| 50|100000|   Finance| South|\n",
      "|  7|Grace| 55|110000|        IT|  East|\n",
      "|  8| Hank| 60|120000| Marketing|  West|\n",
      "|  9|  Ivy| 65|130000|        HR| North|\n",
      "| 10| Jack| 70|140000|   Finance| South|\n",
      "+---+-----+---+------+----------+------+\n",
      "\n"
     ]
    }
   ],
   "source": [
    "df_filtered = df.filter(df['salary'] > 80000)\n",
    "df_filtered.show()"
   ]
  },
  {
   "cell_type": "code",
   "execution_count": 4,
   "id": "d1ad990a-2e7d-45df-bb60-970a1fbdc03a",
   "metadata": {},
   "outputs": [
    {
     "name": "stdout",
     "output_type": "stream",
     "text": [
      "+----------+-----------+\n",
      "|department|avg(salary)|\n",
      "+----------+-----------+\n",
      "|        HR|    90000.0|\n",
      "|   Finance|   100000.0|\n",
      "| Marketing|   100000.0|\n",
      "|        IT|    90000.0|\n",
      "+----------+-----------+\n",
      "\n"
     ]
    }
   ],
   "source": [
    "df_filt2 = df.groupBy('department').avg('salary')\n",
    "df_filt2.show()"
   ]
  },
  {
   "cell_type": "code",
   "execution_count": 8,
   "id": "387b562c-464e-483a-a58c-b36cdc512ea2",
   "metadata": {},
   "outputs": [
    {
     "name": "stdout",
     "output_type": "stream",
     "text": [
      "+----------+---------+-----------+\n",
      "|department|count(id)|avg(salary)|\n",
      "+----------+---------+-----------+\n",
      "|        HR|        3|    90000.0|\n",
      "|   Finance|        3|   100000.0|\n",
      "| Marketing|        2|   100000.0|\n",
      "|        IT|        2|    90000.0|\n",
      "+----------+---------+-----------+\n",
      "\n"
     ]
    }
   ],
   "source": [
    "df_filt3 = df.groupBy('department').agg({'salary':'avg', 'id':'count'})\n",
    "df_filt3.show()"
   ]
  },
  {
   "cell_type": "code",
   "execution_count": 9,
   "id": "4f6e9177-f8ad-4178-b747-f3458290384f",
   "metadata": {},
   "outputs": [
    {
     "name": "stdout",
     "output_type": "stream",
     "text": [
      "+---+-------+---+------+----------+------+\n",
      "| id|   name|age|salary|department|region|\n",
      "+---+-------+---+------+----------+------+\n",
      "| 10|   Jack| 70|140000|   Finance| South|\n",
      "|  9|    Ivy| 65|130000|        HR| North|\n",
      "|  8|   Hank| 60|120000| Marketing|  West|\n",
      "|  7|  Grace| 55|110000|        IT|  East|\n",
      "|  6|  Frank| 50|100000|   Finance| South|\n",
      "|  5|    Eve| 45| 90000|        HR| North|\n",
      "|  4|  David| 40| 80000| Marketing|  West|\n",
      "|  3|Charlie| 35| 70000|        IT|  East|\n",
      "|  2|    Bob| 30| 60000|   Finance| South|\n",
      "|  1|  Alice| 25| 50000|        HR| North|\n",
      "+---+-------+---+------+----------+------+\n",
      "\n"
     ]
    }
   ],
   "source": [
    "# Sort by salary in descending order\n",
    "sorted_df = df.orderBy(df[\"salary\"], ascending=False)\n",
    "sorted_df.show()"
   ]
  },
  {
   "cell_type": "code",
   "execution_count": 11,
   "id": "cf42a06f-f938-446c-8f70-c2dd1e2985e3",
   "metadata": {},
   "outputs": [
    {
     "name": "stdout",
     "output_type": "stream",
     "text": [
      "+---+-------+---+------+----------+------+\n",
      "| id|   name|age|salary|department|region|\n",
      "+---+-------+---+------+----------+------+\n",
      "|  1|  Alice| 25| 50000|        HR| North|\n",
      "|  2|    Bob| 30| 60000|   Finance| South|\n",
      "|  3|Charlie| 35| 70000|        IT|  East|\n",
      "|  4|  David| 40| 80000| Marketing|  West|\n",
      "|  5|    Eve| 45| 90000|        HR| North|\n",
      "|  6|  Frank| 50|100000|   Finance| South|\n",
      "|  7|  Grace| 55|110000|        IT|  East|\n",
      "|  8|   Hank| 60|120000| Marketing|  West|\n",
      "|  9|    Ivy| 65|130000|        HR| North|\n",
      "| 10|   Jack| 70|140000|   Finance| South|\n",
      "+---+-------+---+------+----------+------+\n",
      "\n"
     ]
    }
   ],
   "source": [
    "# Sort by salary in ascending order\n",
    "sorted_df = df.orderBy(df[\"salary\"], ascending=True)\n",
    "sorted_df.show()"
   ]
  },
  {
   "cell_type": "code",
   "execution_count": 16,
   "id": "91425175-e359-471f-889f-a615bc099c07",
   "metadata": {},
   "outputs": [
    {
     "name": "stdout",
     "output_type": "stream",
     "text": [
      "+---+-------+---+------+----------+------+----+\n",
      "| id|   name|age|salary|department|region|rank|\n",
      "+---+-------+---+------+----------+------+----+\n",
      "|  2|    Bob| 30| 60000|   Finance| South|   1|\n",
      "|  6|  Frank| 50|100000|   Finance| South|   2|\n",
      "| 10|   Jack| 70|140000|   Finance| South|   3|\n",
      "|  1|  Alice| 25| 50000|        HR| North|   1|\n",
      "|  5|    Eve| 45| 90000|        HR| North|   2|\n",
      "|  9|    Ivy| 65|130000|        HR| North|   3|\n",
      "|  3|Charlie| 35| 70000|        IT|  East|   1|\n",
      "|  7|  Grace| 55|110000|        IT|  East|   2|\n",
      "|  4|  David| 40| 80000| Marketing|  West|   1|\n",
      "|  8|   Hank| 60|120000| Marketing|  West|   2|\n",
      "+---+-------+---+------+----------+------+----+\n",
      "\n"
     ]
    }
   ],
   "source": [
    "from pyspark.sql import functions as F\n",
    "from pyspark.sql.window import Window\n",
    "\n",
    "# Define the window specification (partition by department, ordered by salary)\n",
    "windowSpec = Window.partitionBy(\"department\").orderBy(\"salary\")\n",
    "\n",
    "# Create a new column for rank based on salary within each department\n",
    "df_with_rank = df.withColumn(\"rank\", F.dense_rank().over(windowSpec))\n",
    "df_with_rank.show()"
   ]
  },
  {
   "cell_type": "code",
   "execution_count": 20,
   "id": "ed7c01eb-0876-4963-8342-aa1a1f6a1db8",
   "metadata": {},
   "outputs": [
    {
     "name": "stdout",
     "output_type": "stream",
     "text": [
      "+---+-------+---+------+----------+------+-------+\n",
      "| id|   name|age|salary|department|region|row_num|\n",
      "+---+-------+---+------+----------+------+-------+\n",
      "|  2|    Bob| 30| 60000|   Finance| South|      1|\n",
      "|  6|  Frank| 50|100000|   Finance| South|      2|\n",
      "| 10|   Jack| 70|140000|   Finance| South|      3|\n",
      "|  1|  Alice| 25| 50000|        HR| North|      1|\n",
      "|  5|    Eve| 45| 90000|        HR| North|      2|\n",
      "|  9|    Ivy| 65|130000|        HR| North|      3|\n",
      "|  3|Charlie| 35| 70000|        IT|  East|      1|\n",
      "|  7|  Grace| 55|110000|        IT|  East|      2|\n",
      "|  4|  David| 40| 80000| Marketing|  West|      1|\n",
      "|  8|   Hank| 60|120000| Marketing|  West|      2|\n",
      "+---+-------+---+------+----------+------+-------+\n",
      "\n"
     ]
    }
   ],
   "source": [
    "windowspec2 = Window.partitionBy('department').orderBy('id')\n",
    "df_with_row_num = df.withColumn(\"row_num\", F.row_number().over(windowspec2))\n",
    "df_with_row_num.show()"
   ]
  },
  {
   "cell_type": "code",
   "execution_count": 23,
   "id": "75eafbf6-22af-4f27-8b5a-2e394ac919cb",
   "metadata": {},
   "outputs": [
    {
     "name": "stdout",
     "output_type": "stream",
     "text": [
      "+---+-------+---+------+----------+------+----+--------------+----------+----------+----------+\n",
      "| id|   name|age|salary|department|region|rank|cumulative_sum|avg_salary|max_salary|min_salary|\n",
      "+---+-------+---+------+----------+------+----+--------------+----------+----------+----------+\n",
      "|  2|    Bob| 30| 60000|   Finance| South|   1|         60000|  100000.0|    140000|     60000|\n",
      "|  6|  Frank| 50|100000|   Finance| South|   2|        160000|  100000.0|    140000|     60000|\n",
      "| 10|   Jack| 70|140000|   Finance| South|   3|        300000|  100000.0|    140000|     60000|\n",
      "|  1|  Alice| 25| 50000|        HR| North|   1|         50000|   90000.0|    130000|     50000|\n",
      "|  5|    Eve| 45| 90000|        HR| North|   2|        140000|   90000.0|    130000|     50000|\n",
      "|  9|    Ivy| 65|130000|        HR| North|   3|        270000|   90000.0|    130000|     50000|\n",
      "|  3|Charlie| 35| 70000|        IT|  East|   1|         70000|   90000.0|    110000|     70000|\n",
      "|  7|  Grace| 55|110000|        IT|  East|   2|        180000|   90000.0|    110000|     70000|\n",
      "|  4|  David| 40| 80000| Marketing|  West|   1|         80000|  100000.0|    120000|     80000|\n",
      "|  8|   Hank| 60|120000| Marketing|  West|   2|        200000|  100000.0|    120000|     80000|\n",
      "+---+-------+---+------+----------+------+----+--------------+----------+----------+----------+\n",
      "\n"
     ]
    }
   ],
   "source": [
    "# Define Window Specification for each window function\n",
    "window_spec = Window.partitionBy(\"department\").orderBy(\"salary\")\n",
    "window_spec_cumsum = Window.partitionBy(\"department\").orderBy(\"salary\").rowsBetween(Window.unboundedPreceding, Window.currentRow)\n",
    "window_spec_avg = Window.partitionBy(\"department\")\n",
    "\n",
    "# Apply multiple window functions\n",
    "df_with_windows = df \\\n",
    "    .withColumn(\"rank\", F.rank().over(window_spec)) \\\n",
    "    .withColumn(\"cumulative_sum\", F.sum(\"salary\").over(window_spec_cumsum)) \\\n",
    "    .withColumn(\"avg_salary\", F.avg(\"salary\").over(window_spec_avg)) \\\n",
    "    .withColumn(\"max_salary\", F.max(\"salary\").over(window_spec_avg)) \\\n",
    "    .withColumn(\"min_salary\", F.min(\"salary\").over(window_spec_avg))\n",
    "\n",
    "df_with_windows.show()"
   ]
  }
 ],
 "metadata": {
  "kernelspec": {
   "display_name": "Python 3 (ipykernel)",
   "language": "python",
   "name": "python3"
  },
  "language_info": {
   "codemirror_mode": {
    "name": "ipython",
    "version": 3
   },
   "file_extension": ".py",
   "mimetype": "text/x-python",
   "name": "python",
   "nbconvert_exporter": "python",
   "pygments_lexer": "ipython3",
   "version": "3.12.4"
  }
 },
 "nbformat": 4,
 "nbformat_minor": 5
}
